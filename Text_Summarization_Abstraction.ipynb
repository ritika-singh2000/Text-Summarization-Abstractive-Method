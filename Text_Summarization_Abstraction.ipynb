{
  "nbformat": 4,
  "nbformat_minor": 0,
  "metadata": {
    "accelerator": "GPU",
    "colab": {
      "name": "Text_Summarization_Abstraction.ipynb",
      "provenance": [],
      "authorship_tag": "ABX9TyNc6QbeLr9DgZlf5qt+2moP",
      "include_colab_link": true
    },
    "kernelspec": {
      "display_name": "Python 3",
      "name": "python3"
    }
  },
  "cells": [
    {
      "cell_type": "markdown",
      "metadata": {
        "id": "view-in-github",
        "colab_type": "text"
      },
      "source": [
        "<a href=\"https://colab.research.google.com/github/ritika-singh2000/Text-Summarization-Abstractive-Method/blob/main/Text_Summarization_Abstraction.ipynb\" target=\"_parent\"><img src=\"https://colab.research.google.com/assets/colab-badge.svg\" alt=\"Open In Colab\"/></a>"
      ]
    },
    {
      "cell_type": "code",
      "metadata": {
        "colab": {
          "base_uri": "https://localhost:8080/"
        },
        "id": "X1JPfl1jyzXw",
        "outputId": "7c474f5a-eaca-49e1-bf78-7c66cfd99c4f"
      },
      "source": [
        "# Importing libraries\n",
        "import pandas as pd\n",
        "import numpy as np \n",
        "import re\n",
        "import nltk\n",
        "import tensorflow as tf\n",
        "import os\n",
        "from nltk.corpus import stopwords\n",
        "from matplotlib import pyplot\n",
        "import string\n",
        "import gensim\n",
        "from gensim.utils import simple_preprocess\n",
        "from gensim.parsing.preprocessing import STOPWORDS\n",
        "nltk.download('punkt')\n",
        "nltk.download(\"stopwords\")\n",
        "stop_words = stopwords.words('english')\n",
        "import plotly.express as px\n",
        "import statistics\n",
        "from sklearn.model_selection import train_test_split\n",
        "from nltk.tokenize import word_tokenize\n",
        "from tensorflow.keras.preprocessing.sequence import pad_sequences\n",
        "from tensorflow.keras.preprocessing.text import Tokenizer\n",
        "from tensorflow.python.keras.layers import Layer\n",
        "\n",
        "\n",
        "# Model Building \n",
        "from tensorflow.keras.models import Model\n",
        "from tensorflow.keras.layers import Dense , TimeDistributed ,LSTM , Embedding ,  Attention,Flatten ,Input , Concatenate , Bidirectional\n",
        "from tensorflow.keras.models import Sequential\n",
        "from tensorflow.keras.callbacks import EarlyStopping\n",
        "\n",
        "from keras import backend as K \n"
      ],
      "execution_count": 105,
      "outputs": [
        {
          "output_type": "stream",
          "text": [
            "[nltk_data] Downloading package punkt to /root/nltk_data...\n",
            "[nltk_data]   Package punkt is already up-to-date!\n",
            "[nltk_data] Downloading package stopwords to /root/nltk_data...\n",
            "[nltk_data]   Package stopwords is already up-to-date!\n"
          ],
          "name": "stdout"
        }
      ]
    },
    {
      "cell_type": "code",
      "metadata": {
        "colab": {
          "base_uri": "https://localhost:8080/",
          "height": 427
        },
        "id": "vEp77a6My49c",
        "outputId": "c9df3f39-9742-4067-e402-95d0459aa5f0"
      },
      "source": [
        "from google.colab import drive \n",
        "drive.mount('/content/gdrive')\n",
        "reviews=pd.read_csv('gdrive/My Drive/Reviews.csv')\n",
        "reviews.head()"
      ],
      "execution_count": 106,
      "outputs": [
        {
          "output_type": "stream",
          "text": [
            "Drive already mounted at /content/gdrive; to attempt to forcibly remount, call drive.mount(\"/content/gdrive\", force_remount=True).\n"
          ],
          "name": "stdout"
        },
        {
          "output_type": "execute_result",
          "data": {
            "text/html": [
              "<div>\n",
              "<style scoped>\n",
              "    .dataframe tbody tr th:only-of-type {\n",
              "        vertical-align: middle;\n",
              "    }\n",
              "\n",
              "    .dataframe tbody tr th {\n",
              "        vertical-align: top;\n",
              "    }\n",
              "\n",
              "    .dataframe thead th {\n",
              "        text-align: right;\n",
              "    }\n",
              "</style>\n",
              "<table border=\"1\" class=\"dataframe\">\n",
              "  <thead>\n",
              "    <tr style=\"text-align: right;\">\n",
              "      <th></th>\n",
              "      <th>Id</th>\n",
              "      <th>ProductId</th>\n",
              "      <th>UserId</th>\n",
              "      <th>ProfileName</th>\n",
              "      <th>HelpfulnessNumerator</th>\n",
              "      <th>HelpfulnessDenominator</th>\n",
              "      <th>Score</th>\n",
              "      <th>Time</th>\n",
              "      <th>Summary</th>\n",
              "      <th>Text</th>\n",
              "    </tr>\n",
              "  </thead>\n",
              "  <tbody>\n",
              "    <tr>\n",
              "      <th>0</th>\n",
              "      <td>1</td>\n",
              "      <td>B001E4KFG0</td>\n",
              "      <td>A3SGXH7AUHU8GW</td>\n",
              "      <td>delmartian</td>\n",
              "      <td>1</td>\n",
              "      <td>1</td>\n",
              "      <td>5</td>\n",
              "      <td>1303862400</td>\n",
              "      <td>Good Quality Dog Food</td>\n",
              "      <td>I have bought several of the Vitality canned d...</td>\n",
              "    </tr>\n",
              "    <tr>\n",
              "      <th>1</th>\n",
              "      <td>2</td>\n",
              "      <td>B00813GRG4</td>\n",
              "      <td>A1D87F6ZCVE5NK</td>\n",
              "      <td>dll pa</td>\n",
              "      <td>0</td>\n",
              "      <td>0</td>\n",
              "      <td>1</td>\n",
              "      <td>1346976000</td>\n",
              "      <td>Not as Advertised</td>\n",
              "      <td>Product arrived labeled as Jumbo Salted Peanut...</td>\n",
              "    </tr>\n",
              "    <tr>\n",
              "      <th>2</th>\n",
              "      <td>3</td>\n",
              "      <td>B000LQOCH0</td>\n",
              "      <td>ABXLMWJIXXAIN</td>\n",
              "      <td>Natalia Corres \"Natalia Corres\"</td>\n",
              "      <td>1</td>\n",
              "      <td>1</td>\n",
              "      <td>4</td>\n",
              "      <td>1219017600</td>\n",
              "      <td>\"Delight\" says it all</td>\n",
              "      <td>This is a confection that has been around a fe...</td>\n",
              "    </tr>\n",
              "    <tr>\n",
              "      <th>3</th>\n",
              "      <td>4</td>\n",
              "      <td>B000UA0QIQ</td>\n",
              "      <td>A395BORC6FGVXV</td>\n",
              "      <td>Karl</td>\n",
              "      <td>3</td>\n",
              "      <td>3</td>\n",
              "      <td>2</td>\n",
              "      <td>1307923200</td>\n",
              "      <td>Cough Medicine</td>\n",
              "      <td>If you are looking for the secret ingredient i...</td>\n",
              "    </tr>\n",
              "    <tr>\n",
              "      <th>4</th>\n",
              "      <td>5</td>\n",
              "      <td>B006K2ZZ7K</td>\n",
              "      <td>A1UQRSCLF8GW1T</td>\n",
              "      <td>Michael D. Bigham \"M. Wassir\"</td>\n",
              "      <td>0</td>\n",
              "      <td>0</td>\n",
              "      <td>5</td>\n",
              "      <td>1350777600</td>\n",
              "      <td>Great taffy</td>\n",
              "      <td>Great taffy at a great price.  There was a wid...</td>\n",
              "    </tr>\n",
              "  </tbody>\n",
              "</table>\n",
              "</div>"
            ],
            "text/plain": [
              "   Id  ...                                               Text\n",
              "0   1  ...  I have bought several of the Vitality canned d...\n",
              "1   2  ...  Product arrived labeled as Jumbo Salted Peanut...\n",
              "2   3  ...  This is a confection that has been around a fe...\n",
              "3   4  ...  If you are looking for the secret ingredient i...\n",
              "4   5  ...  Great taffy at a great price.  There was a wid...\n",
              "\n",
              "[5 rows x 10 columns]"
            ]
          },
          "metadata": {
            "tags": []
          },
          "execution_count": 106
        }
      ]
    },
    {
      "cell_type": "code",
      "metadata": {
        "id": "ZfBgyAaLz6M0"
      },
      "source": [
        ""
      ],
      "execution_count": 106,
      "outputs": []
    },
    {
      "cell_type": "code",
      "metadata": {
        "colab": {
          "base_uri": "https://localhost:8080/",
          "height": 410
        },
        "id": "eAXMMc3iSsXZ",
        "outputId": "0d8c482d-56fe-4981-ab78-5fa3d18106de"
      },
      "source": [
        "# Reading the data\n",
        "\n",
        "reviews = reviews.head(20000)\n",
        "reviews = reviews.astype(str)\n",
        "reviews.head()"
      ],
      "execution_count": 107,
      "outputs": [
        {
          "output_type": "execute_result",
          "data": {
            "text/html": [
              "<div>\n",
              "<style scoped>\n",
              "    .dataframe tbody tr th:only-of-type {\n",
              "        vertical-align: middle;\n",
              "    }\n",
              "\n",
              "    .dataframe tbody tr th {\n",
              "        vertical-align: top;\n",
              "    }\n",
              "\n",
              "    .dataframe thead th {\n",
              "        text-align: right;\n",
              "    }\n",
              "</style>\n",
              "<table border=\"1\" class=\"dataframe\">\n",
              "  <thead>\n",
              "    <tr style=\"text-align: right;\">\n",
              "      <th></th>\n",
              "      <th>Id</th>\n",
              "      <th>ProductId</th>\n",
              "      <th>UserId</th>\n",
              "      <th>ProfileName</th>\n",
              "      <th>HelpfulnessNumerator</th>\n",
              "      <th>HelpfulnessDenominator</th>\n",
              "      <th>Score</th>\n",
              "      <th>Time</th>\n",
              "      <th>Summary</th>\n",
              "      <th>Text</th>\n",
              "    </tr>\n",
              "  </thead>\n",
              "  <tbody>\n",
              "    <tr>\n",
              "      <th>0</th>\n",
              "      <td>1</td>\n",
              "      <td>B001E4KFG0</td>\n",
              "      <td>A3SGXH7AUHU8GW</td>\n",
              "      <td>delmartian</td>\n",
              "      <td>1</td>\n",
              "      <td>1</td>\n",
              "      <td>5</td>\n",
              "      <td>1303862400</td>\n",
              "      <td>Good Quality Dog Food</td>\n",
              "      <td>I have bought several of the Vitality canned d...</td>\n",
              "    </tr>\n",
              "    <tr>\n",
              "      <th>1</th>\n",
              "      <td>2</td>\n",
              "      <td>B00813GRG4</td>\n",
              "      <td>A1D87F6ZCVE5NK</td>\n",
              "      <td>dll pa</td>\n",
              "      <td>0</td>\n",
              "      <td>0</td>\n",
              "      <td>1</td>\n",
              "      <td>1346976000</td>\n",
              "      <td>Not as Advertised</td>\n",
              "      <td>Product arrived labeled as Jumbo Salted Peanut...</td>\n",
              "    </tr>\n",
              "    <tr>\n",
              "      <th>2</th>\n",
              "      <td>3</td>\n",
              "      <td>B000LQOCH0</td>\n",
              "      <td>ABXLMWJIXXAIN</td>\n",
              "      <td>Natalia Corres \"Natalia Corres\"</td>\n",
              "      <td>1</td>\n",
              "      <td>1</td>\n",
              "      <td>4</td>\n",
              "      <td>1219017600</td>\n",
              "      <td>\"Delight\" says it all</td>\n",
              "      <td>This is a confection that has been around a fe...</td>\n",
              "    </tr>\n",
              "    <tr>\n",
              "      <th>3</th>\n",
              "      <td>4</td>\n",
              "      <td>B000UA0QIQ</td>\n",
              "      <td>A395BORC6FGVXV</td>\n",
              "      <td>Karl</td>\n",
              "      <td>3</td>\n",
              "      <td>3</td>\n",
              "      <td>2</td>\n",
              "      <td>1307923200</td>\n",
              "      <td>Cough Medicine</td>\n",
              "      <td>If you are looking for the secret ingredient i...</td>\n",
              "    </tr>\n",
              "    <tr>\n",
              "      <th>4</th>\n",
              "      <td>5</td>\n",
              "      <td>B006K2ZZ7K</td>\n",
              "      <td>A1UQRSCLF8GW1T</td>\n",
              "      <td>Michael D. Bigham \"M. Wassir\"</td>\n",
              "      <td>0</td>\n",
              "      <td>0</td>\n",
              "      <td>5</td>\n",
              "      <td>1350777600</td>\n",
              "      <td>Great taffy</td>\n",
              "      <td>Great taffy at a great price.  There was a wid...</td>\n",
              "    </tr>\n",
              "  </tbody>\n",
              "</table>\n",
              "</div>"
            ],
            "text/plain": [
              "  Id  ...                                               Text\n",
              "0  1  ...  I have bought several of the Vitality canned d...\n",
              "1  2  ...  Product arrived labeled as Jumbo Salted Peanut...\n",
              "2  3  ...  This is a confection that has been around a fe...\n",
              "3  4  ...  If you are looking for the secret ingredient i...\n",
              "4  5  ...  Great taffy at a great price.  There was a wid...\n",
              "\n",
              "[5 rows x 10 columns]"
            ]
          },
          "metadata": {
            "tags": []
          },
          "execution_count": 107
        }
      ]
    },
    {
      "cell_type": "code",
      "metadata": {
        "colab": {
          "base_uri": "https://localhost:8080/"
        },
        "id": "qN0mfNBAS6q2",
        "outputId": "8ee61d48-1d8a-4ac2-bb40-a5cfd21a5690"
      },
      "source": [
        "reviews.info()"
      ],
      "execution_count": 108,
      "outputs": [
        {
          "output_type": "stream",
          "text": [
            "<class 'pandas.core.frame.DataFrame'>\n",
            "RangeIndex: 20000 entries, 0 to 19999\n",
            "Data columns (total 10 columns):\n",
            " #   Column                  Non-Null Count  Dtype \n",
            "---  ------                  --------------  ----- \n",
            " 0   Id                      20000 non-null  object\n",
            " 1   ProductId               20000 non-null  object\n",
            " 2   UserId                  20000 non-null  object\n",
            " 3   ProfileName             20000 non-null  object\n",
            " 4   HelpfulnessNumerator    20000 non-null  object\n",
            " 5   HelpfulnessDenominator  20000 non-null  object\n",
            " 6   Score                   20000 non-null  object\n",
            " 7   Time                    20000 non-null  object\n",
            " 8   Summary                 20000 non-null  object\n",
            " 9   Text                    20000 non-null  object\n",
            "dtypes: object(10)\n",
            "memory usage: 1.5+ MB\n"
          ],
          "name": "stdout"
        }
      ]
    },
    {
      "cell_type": "code",
      "metadata": {
        "colab": {
          "base_uri": "https://localhost:8080/",
          "height": 223
        },
        "id": "Wey7vsf8TPVO",
        "outputId": "92b6b990-40bd-4a30-cc85-f1a47fbff928"
      },
      "source": [
        "reviews.describe()"
      ],
      "execution_count": 109,
      "outputs": [
        {
          "output_type": "execute_result",
          "data": {
            "text/html": [
              "<div>\n",
              "<style scoped>\n",
              "    .dataframe tbody tr th:only-of-type {\n",
              "        vertical-align: middle;\n",
              "    }\n",
              "\n",
              "    .dataframe tbody tr th {\n",
              "        vertical-align: top;\n",
              "    }\n",
              "\n",
              "    .dataframe thead th {\n",
              "        text-align: right;\n",
              "    }\n",
              "</style>\n",
              "<table border=\"1\" class=\"dataframe\">\n",
              "  <thead>\n",
              "    <tr style=\"text-align: right;\">\n",
              "      <th></th>\n",
              "      <th>Id</th>\n",
              "      <th>ProductId</th>\n",
              "      <th>UserId</th>\n",
              "      <th>ProfileName</th>\n",
              "      <th>HelpfulnessNumerator</th>\n",
              "      <th>HelpfulnessDenominator</th>\n",
              "      <th>Score</th>\n",
              "      <th>Time</th>\n",
              "      <th>Summary</th>\n",
              "      <th>Text</th>\n",
              "    </tr>\n",
              "  </thead>\n",
              "  <tbody>\n",
              "    <tr>\n",
              "      <th>count</th>\n",
              "      <td>20000</td>\n",
              "      <td>20000</td>\n",
              "      <td>20000</td>\n",
              "      <td>20000</td>\n",
              "      <td>20000</td>\n",
              "      <td>20000</td>\n",
              "      <td>20000</td>\n",
              "      <td>20000</td>\n",
              "      <td>20000</td>\n",
              "      <td>20000</td>\n",
              "    </tr>\n",
              "    <tr>\n",
              "      <th>unique</th>\n",
              "      <td>20000</td>\n",
              "      <td>2657</td>\n",
              "      <td>17677</td>\n",
              "      <td>16740</td>\n",
              "      <td>80</td>\n",
              "      <td>86</td>\n",
              "      <td>5</td>\n",
              "      <td>2226</td>\n",
              "      <td>16855</td>\n",
              "      <td>19308</td>\n",
              "    </tr>\n",
              "    <tr>\n",
              "      <th>top</th>\n",
              "      <td>15868</td>\n",
              "      <td>B003VXFK44</td>\n",
              "      <td>A1Z54EM24Y40LL</td>\n",
              "      <td>c2</td>\n",
              "      <td>0</td>\n",
              "      <td>0</td>\n",
              "      <td>5</td>\n",
              "      <td>1235606400</td>\n",
              "      <td>Delicious</td>\n",
              "      <td>Diamond Almonds&lt;br /&gt;Almonds are a good source...</td>\n",
              "    </tr>\n",
              "    <tr>\n",
              "      <th>freq</th>\n",
              "      <td>1</td>\n",
              "      <td>455</td>\n",
              "      <td>22</td>\n",
              "      <td>22</td>\n",
              "      <td>10910</td>\n",
              "      <td>9696</td>\n",
              "      <td>12571</td>\n",
              "      <td>52</td>\n",
              "      <td>78</td>\n",
              "      <td>7</td>\n",
              "    </tr>\n",
              "  </tbody>\n",
              "</table>\n",
              "</div>"
            ],
            "text/plain": [
              "           Id  ...                                               Text\n",
              "count   20000  ...                                              20000\n",
              "unique  20000  ...                                              19308\n",
              "top     15868  ...  Diamond Almonds<br />Almonds are a good source...\n",
              "freq        1  ...                                                  7\n",
              "\n",
              "[4 rows x 10 columns]"
            ]
          },
          "metadata": {
            "tags": []
          },
          "execution_count": 109
        }
      ]
    },
    {
      "cell_type": "code",
      "metadata": {
        "id": "PlBtm0CKTQky"
      },
      "source": [
        "# Removing the duplicate values\n",
        "reviews.drop_duplicates(inplace=True , subset=['Text'])"
      ],
      "execution_count": 110,
      "outputs": []
    },
    {
      "cell_type": "code",
      "metadata": {
        "colab": {
          "base_uri": "https://localhost:8080/",
          "height": 410
        },
        "id": "TPDjp5TPTSQ7",
        "outputId": "f6f97553-5265-4cf0-9f0f-33d297e0194c"
      },
      "source": [
        "data = reviews.copy()\n",
        "data.head()"
      ],
      "execution_count": 111,
      "outputs": [
        {
          "output_type": "execute_result",
          "data": {
            "text/html": [
              "<div>\n",
              "<style scoped>\n",
              "    .dataframe tbody tr th:only-of-type {\n",
              "        vertical-align: middle;\n",
              "    }\n",
              "\n",
              "    .dataframe tbody tr th {\n",
              "        vertical-align: top;\n",
              "    }\n",
              "\n",
              "    .dataframe thead th {\n",
              "        text-align: right;\n",
              "    }\n",
              "</style>\n",
              "<table border=\"1\" class=\"dataframe\">\n",
              "  <thead>\n",
              "    <tr style=\"text-align: right;\">\n",
              "      <th></th>\n",
              "      <th>Id</th>\n",
              "      <th>ProductId</th>\n",
              "      <th>UserId</th>\n",
              "      <th>ProfileName</th>\n",
              "      <th>HelpfulnessNumerator</th>\n",
              "      <th>HelpfulnessDenominator</th>\n",
              "      <th>Score</th>\n",
              "      <th>Time</th>\n",
              "      <th>Summary</th>\n",
              "      <th>Text</th>\n",
              "    </tr>\n",
              "  </thead>\n",
              "  <tbody>\n",
              "    <tr>\n",
              "      <th>0</th>\n",
              "      <td>1</td>\n",
              "      <td>B001E4KFG0</td>\n",
              "      <td>A3SGXH7AUHU8GW</td>\n",
              "      <td>delmartian</td>\n",
              "      <td>1</td>\n",
              "      <td>1</td>\n",
              "      <td>5</td>\n",
              "      <td>1303862400</td>\n",
              "      <td>Good Quality Dog Food</td>\n",
              "      <td>I have bought several of the Vitality canned d...</td>\n",
              "    </tr>\n",
              "    <tr>\n",
              "      <th>1</th>\n",
              "      <td>2</td>\n",
              "      <td>B00813GRG4</td>\n",
              "      <td>A1D87F6ZCVE5NK</td>\n",
              "      <td>dll pa</td>\n",
              "      <td>0</td>\n",
              "      <td>0</td>\n",
              "      <td>1</td>\n",
              "      <td>1346976000</td>\n",
              "      <td>Not as Advertised</td>\n",
              "      <td>Product arrived labeled as Jumbo Salted Peanut...</td>\n",
              "    </tr>\n",
              "    <tr>\n",
              "      <th>2</th>\n",
              "      <td>3</td>\n",
              "      <td>B000LQOCH0</td>\n",
              "      <td>ABXLMWJIXXAIN</td>\n",
              "      <td>Natalia Corres \"Natalia Corres\"</td>\n",
              "      <td>1</td>\n",
              "      <td>1</td>\n",
              "      <td>4</td>\n",
              "      <td>1219017600</td>\n",
              "      <td>\"Delight\" says it all</td>\n",
              "      <td>This is a confection that has been around a fe...</td>\n",
              "    </tr>\n",
              "    <tr>\n",
              "      <th>3</th>\n",
              "      <td>4</td>\n",
              "      <td>B000UA0QIQ</td>\n",
              "      <td>A395BORC6FGVXV</td>\n",
              "      <td>Karl</td>\n",
              "      <td>3</td>\n",
              "      <td>3</td>\n",
              "      <td>2</td>\n",
              "      <td>1307923200</td>\n",
              "      <td>Cough Medicine</td>\n",
              "      <td>If you are looking for the secret ingredient i...</td>\n",
              "    </tr>\n",
              "    <tr>\n",
              "      <th>4</th>\n",
              "      <td>5</td>\n",
              "      <td>B006K2ZZ7K</td>\n",
              "      <td>A1UQRSCLF8GW1T</td>\n",
              "      <td>Michael D. Bigham \"M. Wassir\"</td>\n",
              "      <td>0</td>\n",
              "      <td>0</td>\n",
              "      <td>5</td>\n",
              "      <td>1350777600</td>\n",
              "      <td>Great taffy</td>\n",
              "      <td>Great taffy at a great price.  There was a wid...</td>\n",
              "    </tr>\n",
              "  </tbody>\n",
              "</table>\n",
              "</div>"
            ],
            "text/plain": [
              "  Id  ...                                               Text\n",
              "0  1  ...  I have bought several of the Vitality canned d...\n",
              "1  2  ...  Product arrived labeled as Jumbo Salted Peanut...\n",
              "2  3  ...  This is a confection that has been around a fe...\n",
              "3  4  ...  If you are looking for the secret ingredient i...\n",
              "4  5  ...  Great taffy at a great price.  There was a wid...\n",
              "\n",
              "[5 rows x 10 columns]"
            ]
          },
          "metadata": {
            "tags": []
          },
          "execution_count": 111
        }
      ]
    },
    {
      "cell_type": "code",
      "metadata": {
        "colab": {
          "base_uri": "https://localhost:8080/"
        },
        "id": "LjuhYqElTTPM",
        "outputId": "2d528ad5-9f0e-4f94-ac52-43544292570e"
      },
      "source": [
        "text  = data['Text']\n",
        "text\n"
      ],
      "execution_count": 112,
      "outputs": [
        {
          "output_type": "execute_result",
          "data": {
            "text/plain": [
              "0        I have bought several of the Vitality canned d...\n",
              "1        Product arrived labeled as Jumbo Salted Peanut...\n",
              "2        This is a confection that has been around a fe...\n",
              "3        If you are looking for the secret ingredient i...\n",
              "4        Great taffy at a great price.  There was a wid...\n",
              "                               ...                        \n",
              "19974    I have 2 \"picky-eater\" cats. They aren't reall...\n",
              "19975    I have 2 female cats. I have given them other ...\n",
              "19976    My cats are very picky but they love this food...\n",
              "19977    I have the enviable job of getting two pills i...\n",
              "19978    My 2nd adventure for health into ingesting Alo...\n",
              "Name: Text, Length: 19308, dtype: object"
            ]
          },
          "metadata": {
            "tags": []
          },
          "execution_count": 112
        }
      ]
    },
    {
      "cell_type": "code",
      "metadata": {
        "id": "t2zRIqoeTUh_"
      },
      "source": [
        "contraction_mapping = {\"ain't\": \"is not\", \"aren't\": \"are not\",\"can't\": \"cannot\", \"'cause\": \"because\", \"could've\": \"could have\", \"couldn't\": \"could not\",\n",
        "                           \"didn't\": \"did not\", \"doesn't\": \"does not\", \"don't\": \"do not\", \"hadn't\": \"had not\", \"hasn't\": \"has not\", \"haven't\": \"have not\",\n",
        "                           \"he'd\": \"he would\",\"he'll\": \"he will\", \"he's\": \"he is\", \"how'd\": \"how did\", \"how'd'y\": \"how do you\", \"how'll\": \"how will\", \"how's\": \"how is\",\n",
        "                           \"I'd\": \"I would\", \"I'd've\": \"I would have\", \"I'll\": \"I will\", \"I'll've\": \"I will have\",\"I'm\": \"I am\", \"I've\": \"I have\", \"i'd\": \"i would\",\n",
        "                           \"i'd've\": \"i would have\", \"i'll\": \"i will\",  \"i'll've\": \"i will have\",\"i'm\": \"i am\", \"i've\": \"i have\", \"isn't\": \"is not\", \"it'd\": \"it would\",\n",
        "                           \"it'd've\": \"it would have\", \"it'll\": \"it will\", \"it'll've\": \"it will have\",\"it's\": \"it is\", \"let's\": \"let us\", \"ma'am\": \"madam\",\n",
        "                           \"mayn't\": \"may not\", \"might've\": \"might have\",\"mightn't\": \"might not\",\"mightn't've\": \"might not have\", \"must've\": \"must have\",\n",
        "                           \"mustn't\": \"must not\", \"mustn't've\": \"must not have\", \"needn't\": \"need not\", \"needn't've\": \"need not have\",\"o'clock\": \"of the clock\",\n",
        "                           \"oughtn't\": \"ought not\", \"oughtn't've\": \"ought not have\", \"shan't\": \"shall not\", \"sha'n't\": \"shall not\", \"shan't've\": \"shall not have\",\n",
        "                           \"she'd\": \"she would\", \"she'd've\": \"she would have\", \"she'll\": \"she will\", \"she'll've\": \"she will have\", \"she's\": \"she is\",\n",
        "                           \"should've\": \"should have\", \"shouldn't\": \"should not\", \"shouldn't've\": \"should not have\", \"so've\": \"so have\",\"so's\": \"so as\",\n",
        "                           \"this's\": \"this is\",\"that'd\": \"that would\", \"that'd've\": \"that would have\", \"that's\": \"that is\", \"there'd\": \"there would\",\n",
        "                           \"there'd've\": \"there would have\", \"there's\": \"there is\", \"here's\": \"here is\",\"they'd\": \"they would\", \"they'd've\": \"they would have\",\n",
        "                           \"they'll\": \"they will\", \"they'll've\": \"they will have\", \"they're\": \"they are\", \"they've\": \"they have\", \"to've\": \"to have\",\n",
        "                           \"wasn't\": \"was not\", \"we'd\": \"we would\", \"we'd've\": \"we would have\", \"we'll\": \"we will\", \"we'll've\": \"we will have\", \"we're\": \"we are\",\n",
        "                           \"we've\": \"we have\", \"weren't\": \"were not\", \"what'll\": \"what will\", \"what'll've\": \"what will have\", \"what're\": \"what are\",\n",
        "                           \"what's\": \"what is\", \"what've\": \"what have\", \"when's\": \"when is\", \"when've\": \"when have\", \"where'd\": \"where did\", \"where's\": \"where is\",\n",
        "                           \"where've\": \"where have\", \"who'll\": \"who will\", \"who'll've\": \"who will have\", \"who's\": \"who is\", \"who've\": \"who have\",\n",
        "                           \"why's\": \"why is\", \"why've\": \"why have\", \"will've\": \"will have\", \"won't\": \"will not\", \"won't've\": \"will not have\",\n",
        "                           \"would've\": \"would have\", \"wouldn't\": \"would not\", \"wouldn't've\": \"would not have\", \"y'all\": \"you all\",\n",
        "                           \"y'all'd\": \"you all would\",\"y'all'd've\": \"you all would have\",\"y'all're\": \"you all are\",\"y'all've\": \"you all have\",\n",
        "                           \"you'd\": \"you would\", \"you'd've\": \"you would have\", \"you'll\": \"you will\", \"you'll've\": \"you will have\",\n",
        "                           \"you're\": \"you are\", \"you've\": \"you have\"}\n"
      ],
      "execution_count": 113,
      "outputs": []
    },
    {
      "cell_type": "code",
      "metadata": {
        "id": "CemuFWBaTV7D"
      },
      "source": [
        "# Data cleaning\n",
        "def msg_clean(msg):\n",
        "    \n",
        "    msg = msg.lower()\n",
        "    tag = re.compile('<.*?>')\n",
        "    msg = re.sub(tag , ' ' , msg)\n",
        "    res = ' '.join([contraction_mapping.get(i, i) for i in msg.split()])\n",
        "    res = res.replace(\"'s\" , \"\")    \n",
        "    clean = [(char) for char in res if char not in string.punctuation]\n",
        "    clean = \"\".join(clean)         \n",
        "    return clean\n"
      ],
      "execution_count": 114,
      "outputs": []
    },
    {
      "cell_type": "code",
      "metadata": {
        "colab": {
          "base_uri": "https://localhost:8080/"
        },
        "id": "3WrOMJJvpFQO",
        "outputId": "0a24aad4-9d63-4cab-ded3-9e78a700b35c"
      },
      "source": [
        "data['Text']"
      ],
      "execution_count": 115,
      "outputs": [
        {
          "output_type": "execute_result",
          "data": {
            "text/plain": [
              "0        I have bought several of the Vitality canned d...\n",
              "1        Product arrived labeled as Jumbo Salted Peanut...\n",
              "2        This is a confection that has been around a fe...\n",
              "3        If you are looking for the secret ingredient i...\n",
              "4        Great taffy at a great price.  There was a wid...\n",
              "                               ...                        \n",
              "19974    I have 2 \"picky-eater\" cats. They aren't reall...\n",
              "19975    I have 2 female cats. I have given them other ...\n",
              "19976    My cats are very picky but they love this food...\n",
              "19977    I have the enviable job of getting two pills i...\n",
              "19978    My 2nd adventure for health into ingesting Alo...\n",
              "Name: Text, Length: 19308, dtype: object"
            ]
          },
          "metadata": {
            "tags": []
          },
          "execution_count": 115
        }
      ]
    },
    {
      "cell_type": "code",
      "metadata": {
        "colab": {
          "base_uri": "https://localhost:8080/"
        },
        "id": "Vsi9wIh3TYAM",
        "outputId": "96643f17-e4e3-4e06-ee7b-01270bf6abc0"
      },
      "source": [
        "\n",
        "data['Text'] = data['Text'].apply(msg_clean)\n",
        "data['Text']"
      ],
      "execution_count": 116,
      "outputs": [
        {
          "output_type": "execute_result",
          "data": {
            "text/plain": [
              "0        i have bought several of the vitality canned d...\n",
              "1        product arrived labeled as jumbo salted peanut...\n",
              "2        this is a confection that has been around a fe...\n",
              "3        if you are looking for the secret ingredient i...\n",
              "4        great taffy at a great price there was a wide ...\n",
              "                               ...                        \n",
              "19974    i have 2 pickyeater cats they are not really f...\n",
              "19975    i have 2 female cats i have given them other f...\n",
              "19976    my cats are very picky but they love this food...\n",
              "19977    i have the enviable job of getting two pills i...\n",
              "19978    my 2nd adventure for health into ingesting alo...\n",
              "Name: Text, Length: 19308, dtype: object"
            ]
          },
          "metadata": {
            "tags": []
          },
          "execution_count": 116
        }
      ]
    },
    {
      "cell_type": "code",
      "metadata": {
        "colab": {
          "base_uri": "https://localhost:8080/"
        },
        "id": "6gt2iEj8TZDU",
        "outputId": "549e8f4c-0fe6-4f18-827d-9428332cfbfd"
      },
      "source": [
        "# Removing stopwords and removing words having length less than 2\n",
        "def preprocess(text):\n",
        "    result = []\n",
        "    for token in gensim.utils.simple_preprocess(text):\n",
        "            if token not in gensim.parsing.preprocessing.STOPWORDS and len(token) >2 and token not in stop_words:\n",
        "                result.append(token)\n",
        "    return result              \n",
        "data['New Text'] = data['Text'].apply(preprocess)\n",
        "data['New Text'] = data['New Text'].apply(lambda x : \" \".join(x))\n",
        "data['New Text']"
      ],
      "execution_count": 117,
      "outputs": [
        {
          "output_type": "execute_result",
          "data": {
            "text/plain": [
              "0        bought vitality canned dog food products good ...\n",
              "1        product arrived labeled jumbo salted peanutsth...\n",
              "2        confection centuries light pillowy citrus gela...\n",
              "3        looking secret ingredient robitussin believe g...\n",
              "4        great taffy great price wide assortment yummy ...\n",
              "                               ...                        \n",
              "19974    pickyeater cats fans canned food particularly ...\n",
              "19975    female cats given friskies food time indoor ty...\n",
              "19976    cats picky love food dense provides large good...\n",
              "19977    enviable job getting pills cee cee daily mix w...\n",
              "19978    adventure health ingesting aloe taste realizin...\n",
              "Name: New Text, Length: 19308, dtype: object"
            ]
          },
          "metadata": {
            "tags": []
          },
          "execution_count": 117
        }
      ]
    },
    {
      "cell_type": "code",
      "metadata": {
        "colab": {
          "base_uri": "https://localhost:8080/",
          "height": 1000
        },
        "id": "AsjFCkCjTaMo",
        "outputId": "793d2eb0-8d4d-4724-cd0f-0c34d3170615"
      },
      "source": [
        "data"
      ],
      "execution_count": 118,
      "outputs": [
        {
          "output_type": "execute_result",
          "data": {
            "text/html": [
              "<div>\n",
              "<style scoped>\n",
              "    .dataframe tbody tr th:only-of-type {\n",
              "        vertical-align: middle;\n",
              "    }\n",
              "\n",
              "    .dataframe tbody tr th {\n",
              "        vertical-align: top;\n",
              "    }\n",
              "\n",
              "    .dataframe thead th {\n",
              "        text-align: right;\n",
              "    }\n",
              "</style>\n",
              "<table border=\"1\" class=\"dataframe\">\n",
              "  <thead>\n",
              "    <tr style=\"text-align: right;\">\n",
              "      <th></th>\n",
              "      <th>Id</th>\n",
              "      <th>ProductId</th>\n",
              "      <th>UserId</th>\n",
              "      <th>ProfileName</th>\n",
              "      <th>HelpfulnessNumerator</th>\n",
              "      <th>HelpfulnessDenominator</th>\n",
              "      <th>Score</th>\n",
              "      <th>Time</th>\n",
              "      <th>Summary</th>\n",
              "      <th>Text</th>\n",
              "      <th>New Text</th>\n",
              "    </tr>\n",
              "  </thead>\n",
              "  <tbody>\n",
              "    <tr>\n",
              "      <th>0</th>\n",
              "      <td>1</td>\n",
              "      <td>B001E4KFG0</td>\n",
              "      <td>A3SGXH7AUHU8GW</td>\n",
              "      <td>delmartian</td>\n",
              "      <td>1</td>\n",
              "      <td>1</td>\n",
              "      <td>5</td>\n",
              "      <td>1303862400</td>\n",
              "      <td>Good Quality Dog Food</td>\n",
              "      <td>i have bought several of the vitality canned d...</td>\n",
              "      <td>bought vitality canned dog food products good ...</td>\n",
              "    </tr>\n",
              "    <tr>\n",
              "      <th>1</th>\n",
              "      <td>2</td>\n",
              "      <td>B00813GRG4</td>\n",
              "      <td>A1D87F6ZCVE5NK</td>\n",
              "      <td>dll pa</td>\n",
              "      <td>0</td>\n",
              "      <td>0</td>\n",
              "      <td>1</td>\n",
              "      <td>1346976000</td>\n",
              "      <td>Not as Advertised</td>\n",
              "      <td>product arrived labeled as jumbo salted peanut...</td>\n",
              "      <td>product arrived labeled jumbo salted peanutsth...</td>\n",
              "    </tr>\n",
              "    <tr>\n",
              "      <th>2</th>\n",
              "      <td>3</td>\n",
              "      <td>B000LQOCH0</td>\n",
              "      <td>ABXLMWJIXXAIN</td>\n",
              "      <td>Natalia Corres \"Natalia Corres\"</td>\n",
              "      <td>1</td>\n",
              "      <td>1</td>\n",
              "      <td>4</td>\n",
              "      <td>1219017600</td>\n",
              "      <td>\"Delight\" says it all</td>\n",
              "      <td>this is a confection that has been around a fe...</td>\n",
              "      <td>confection centuries light pillowy citrus gela...</td>\n",
              "    </tr>\n",
              "    <tr>\n",
              "      <th>3</th>\n",
              "      <td>4</td>\n",
              "      <td>B000UA0QIQ</td>\n",
              "      <td>A395BORC6FGVXV</td>\n",
              "      <td>Karl</td>\n",
              "      <td>3</td>\n",
              "      <td>3</td>\n",
              "      <td>2</td>\n",
              "      <td>1307923200</td>\n",
              "      <td>Cough Medicine</td>\n",
              "      <td>if you are looking for the secret ingredient i...</td>\n",
              "      <td>looking secret ingredient robitussin believe g...</td>\n",
              "    </tr>\n",
              "    <tr>\n",
              "      <th>4</th>\n",
              "      <td>5</td>\n",
              "      <td>B006K2ZZ7K</td>\n",
              "      <td>A1UQRSCLF8GW1T</td>\n",
              "      <td>Michael D. Bigham \"M. Wassir\"</td>\n",
              "      <td>0</td>\n",
              "      <td>0</td>\n",
              "      <td>5</td>\n",
              "      <td>1350777600</td>\n",
              "      <td>Great taffy</td>\n",
              "      <td>great taffy at a great price there was a wide ...</td>\n",
              "      <td>great taffy great price wide assortment yummy ...</td>\n",
              "    </tr>\n",
              "    <tr>\n",
              "      <th>...</th>\n",
              "      <td>...</td>\n",
              "      <td>...</td>\n",
              "      <td>...</td>\n",
              "      <td>...</td>\n",
              "      <td>...</td>\n",
              "      <td>...</td>\n",
              "      <td>...</td>\n",
              "      <td>...</td>\n",
              "      <td>...</td>\n",
              "      <td>...</td>\n",
              "      <td>...</td>\n",
              "    </tr>\n",
              "    <tr>\n",
              "      <th>19974</th>\n",
              "      <td>19975</td>\n",
              "      <td>B001G0NKVO</td>\n",
              "      <td>A3S6UHNZL8TPZ7</td>\n",
              "      <td>Heather R. Wilson \"meeko77\"</td>\n",
              "      <td>0</td>\n",
              "      <td>0</td>\n",
              "      <td>5</td>\n",
              "      <td>1348876800</td>\n",
              "      <td>My picky cats actually eat this</td>\n",
              "      <td>i have 2 pickyeater cats they are not really f...</td>\n",
              "      <td>pickyeater cats fans canned food particularly ...</td>\n",
              "    </tr>\n",
              "    <tr>\n",
              "      <th>19975</th>\n",
              "      <td>19976</td>\n",
              "      <td>B001G0NKVO</td>\n",
              "      <td>AWM9OVTK6GAXV</td>\n",
              "      <td>ashrh</td>\n",
              "      <td>0</td>\n",
              "      <td>0</td>\n",
              "      <td>5</td>\n",
              "      <td>1347580800</td>\n",
              "      <td>my cats love this!</td>\n",
              "      <td>i have 2 female cats i have given them other f...</td>\n",
              "      <td>female cats given friskies food time indoor ty...</td>\n",
              "    </tr>\n",
              "    <tr>\n",
              "      <th>19976</th>\n",
              "      <td>19977</td>\n",
              "      <td>B001G0NKVO</td>\n",
              "      <td>A1ZMHZB2VX08CT</td>\n",
              "      <td>J. Lyons</td>\n",
              "      <td>0</td>\n",
              "      <td>0</td>\n",
              "      <td>5</td>\n",
              "      <td>1343347200</td>\n",
              "      <td>tasty</td>\n",
              "      <td>my cats are very picky but they love this food...</td>\n",
              "      <td>cats picky love food dense provides large good...</td>\n",
              "    </tr>\n",
              "    <tr>\n",
              "      <th>19977</th>\n",
              "      <td>19978</td>\n",
              "      <td>B001G0NKVO</td>\n",
              "      <td>A1HRYC60VTMYC0</td>\n",
              "      <td>Ace</td>\n",
              "      <td>0</td>\n",
              "      <td>0</td>\n",
              "      <td>5</td>\n",
              "      <td>1339459200</td>\n",
              "      <td>Mmm! Cee Cee's FAVORITE!!!</td>\n",
              "      <td>i have the enviable job of getting two pills i...</td>\n",
              "      <td>enviable job getting pills cee cee daily mix w...</td>\n",
              "    </tr>\n",
              "    <tr>\n",
              "      <th>19978</th>\n",
              "      <td>19979</td>\n",
              "      <td>B007AIUD2K</td>\n",
              "      <td>A2KFKEME4A9ATW</td>\n",
              "      <td>C. Petra \"PETRAFYD\"</td>\n",
              "      <td>0</td>\n",
              "      <td>0</td>\n",
              "      <td>2</td>\n",
              "      <td>1348790400</td>\n",
              "      <td>Aloe vera gel, Honey, High Frutose Corn Syrup...</td>\n",
              "      <td>my 2nd adventure for health into ingesting alo...</td>\n",
              "      <td>adventure health ingesting aloe taste realizin...</td>\n",
              "    </tr>\n",
              "  </tbody>\n",
              "</table>\n",
              "<p>19308 rows × 11 columns</p>\n",
              "</div>"
            ],
            "text/plain": [
              "          Id  ...                                           New Text\n",
              "0          1  ...  bought vitality canned dog food products good ...\n",
              "1          2  ...  product arrived labeled jumbo salted peanutsth...\n",
              "2          3  ...  confection centuries light pillowy citrus gela...\n",
              "3          4  ...  looking secret ingredient robitussin believe g...\n",
              "4          5  ...  great taffy great price wide assortment yummy ...\n",
              "...      ...  ...                                                ...\n",
              "19974  19975  ...  pickyeater cats fans canned food particularly ...\n",
              "19975  19976  ...  female cats given friskies food time indoor ty...\n",
              "19976  19977  ...  cats picky love food dense provides large good...\n",
              "19977  19978  ...  enviable job getting pills cee cee daily mix w...\n",
              "19978  19979  ...  adventure health ingesting aloe taste realizin...\n",
              "\n",
              "[19308 rows x 11 columns]"
            ]
          },
          "metadata": {
            "tags": []
          },
          "execution_count": 118
        }
      ]
    },
    {
      "cell_type": "code",
      "metadata": {
        "colab": {
          "base_uri": "https://localhost:8080/"
        },
        "id": "Au_n3EVoTbW9",
        "outputId": "cb8e030d-79a3-477f-a1f9-645146288934"
      },
      "source": [
        "text = data['New Text'].values\n",
        "text[:5]"
      ],
      "execution_count": 119,
      "outputs": [
        {
          "output_type": "execute_result",
          "data": {
            "text/plain": [
              "array(['bought vitality canned dog food products good quality product looks like stew processed meat smells better labrador finicky appreciates product better',\n",
              "       'product arrived labeled jumbo salted peanutsthe peanuts actually small sized unsalted sure error vendor intended represent product jumbo',\n",
              "       'confection centuries light pillowy citrus gelatin nuts case filberts cut tiny squares liberally coated powdered sugar tiny mouthful heaven chewy flavorful highly recommend yummy treat familiar story lewis lion witch wardrobe treat seduces edmund selling brother sisters witch',\n",
              "       'looking secret ingredient robitussin believe got addition root beer extract ordered good cherry soda flavor medicinal',\n",
              "       'great taffy great price wide assortment yummy taffy delivery quick taffy lover deal'],\n",
              "      dtype=object)"
            ]
          },
          "metadata": {
            "tags": []
          },
          "execution_count": 119
        }
      ]
    },
    {
      "cell_type": "code",
      "metadata": {
        "id": "XlSQ2bbiTc7c"
      },
      "source": [
        "# Cheking the maximum length of each Text in data\n",
        "max_len = 0\n",
        "data['length of text'] =  data['New Text'].apply(lambda x : len(x))"
      ],
      "execution_count": 120,
      "outputs": []
    },
    {
      "cell_type": "code",
      "metadata": {
        "colab": {
          "base_uri": "https://localhost:8080/"
        },
        "id": "ZJewBSM_Td6k",
        "outputId": "6269cb3a-80d4-4df6-a7e5-07a76d93815b"
      },
      "source": [
        "max_len_text = max(data['length of text']) \n",
        "max_len_text"
      ],
      "execution_count": 121,
      "outputs": [
        {
          "output_type": "execute_result",
          "data": {
            "text/plain": [
              "6024"
            ]
          },
          "metadata": {
            "tags": []
          },
          "execution_count": 121
        }
      ]
    },
    {
      "cell_type": "code",
      "metadata": {
        "colab": {
          "base_uri": "https://localhost:8080/"
        },
        "id": "byvM4SC5mc0K",
        "outputId": "d19e0880-c3f8-4fb4-d9a4-ec55c38a6cff"
      },
      "source": [
        "data['Summary']"
      ],
      "execution_count": 122,
      "outputs": [
        {
          "output_type": "execute_result",
          "data": {
            "text/plain": [
              "0                                   Good Quality Dog Food\n",
              "1                                       Not as Advertised\n",
              "2                                   \"Delight\" says it all\n",
              "3                                          Cough Medicine\n",
              "4                                             Great taffy\n",
              "                               ...                       \n",
              "19974                     My picky cats actually eat this\n",
              "19975                                  my cats love this!\n",
              "19976                                               tasty\n",
              "19977                          Mmm! Cee Cee's FAVORITE!!!\n",
              "19978    Aloe vera gel, Honey, High Frutose Corn Syrup...\n",
              "Name: Summary, Length: 19308, dtype: object"
            ]
          },
          "metadata": {
            "tags": []
          },
          "execution_count": 122
        }
      ]
    },
    {
      "cell_type": "code",
      "metadata": {
        "colab": {
          "base_uri": "https://localhost:8080/"
        },
        "id": "Q3oACZ5ATfBx",
        "outputId": "bb6ec3e8-d150-46db-ce54-57b6fc624d38"
      },
      "source": [
        "# Data  cleaning for the target \n",
        "data['Summary'] = data['Summary'].apply(msg_clean)  \n",
        "data['New Summary'] = data['Summary'].apply(preprocess)\n",
        "data['New Summary'] = data['New Summary'].apply(lambda x : \" \".join(x))\n",
        "data['length of summary'] =  data['Summary'].apply(lambda x : len(x))\n",
        "max_len_summary =  max(data['length of summary']) \n",
        "max_len_summary"
      ],
      "execution_count": 123,
      "outputs": [
        {
          "output_type": "execute_result",
          "data": {
            "text/plain": [
              "125"
            ]
          },
          "metadata": {
            "tags": []
          },
          "execution_count": 123
        }
      ]
    },
    {
      "cell_type": "code",
      "metadata": {
        "id": "9zfHk8FVFALu"
      },
      "source": [
        "# To visualize the count of words in each text and summary\n",
        "text_words_count = []\n",
        "summary_words_count = []\n",
        "\n",
        "for i in data['New Text']:\n",
        "   text_words_count.append(len(i.split()))\n",
        "\n",
        "for i in data['New Summary']:\n",
        "   summary_words_count.append(len(i.split()))   \n",
        "\n",
        "count = pd.DataFrame({'text_count' : text_words_count , 'summary_count' :summary_words_count})"
      ],
      "execution_count": 124,
      "outputs": []
    },
    {
      "cell_type": "code",
      "metadata": {
        "colab": {
          "base_uri": "https://localhost:8080/",
          "height": 542
        },
        "id": "q76z6mOZEWFI",
        "outputId": "f47bb1a9-fd81-4035-ffa0-583f0b62965c"
      },
      "source": [
        "fig = px.histogram(count,x ='text_count')\n",
        "fig.show()"
      ],
      "execution_count": 125,
      "outputs": [
        {
          "output_type": "display_data",
          "data": {
            "text/html": [
              "<html>\n",
              "<head><meta charset=\"utf-8\" /></head>\n",
              "<body>\n",
              "    <div>\n",
              "            <script src=\"https://cdnjs.cloudflare.com/ajax/libs/mathjax/2.7.5/MathJax.js?config=TeX-AMS-MML_SVG\"></script><script type=\"text/javascript\">if (window.MathJax) {MathJax.Hub.Config({SVG: {font: \"STIX-Web\"}});}</script>\n",
              "                <script type=\"text/javascript\">window.PlotlyConfig = {MathJaxConfig: 'local'};</script>\n",
              "        <script src=\"https://cdn.plot.ly/plotly-latest.min.js\"></script>    \n",
              "            <div id=\"bb4910f3-9f67-4fdf-b2db-d6ccab727708\" class=\"plotly-graph-div\" style=\"height:525px; width:100%;\"></div>\n",
              "            <script type=\"text/javascript\">\n",
              "                \n",
              "                    window.PLOTLYENV=window.PLOTLYENV || {};\n",
              "                    \n",
              "                if (document.getElementById(\"bb4910f3-9f67-4fdf-b2db-d6ccab727708\")) {\n",
              "                    Plotly.newPlot(\n",
              "                        'bb4910f3-9f67-4fdf-b2db-d6ccab727708',\n",
              "                        [{\"alignmentgroup\": \"True\", \"bingroup\": \"x\", \"hoverlabel\": {\"namelength\": 0}, \"hovertemplate\": \"text_count=%{x}<br>count=%{y}\", \"legendgroup\": \"\", \"marker\": {\"color\": \"#636efa\"}, \"name\": \"\", \"offsetgroup\": \"\", \"orientation\": \"v\", \"showlegend\": false, \"type\": \"histogram\", \"x\": [21, 18, 38, 16, 13, 31, 22, 10, 9, 12, 55, 27, 34, 9, 7, 12, 16, 7, 56, 11, 18, 20, 10, 6, 15, 8, 6, 16, 36, 38, 10, 92, 43, 49, 38, 19, 24, 38, 24, 51, 86, 13, 15, 18, 12, 16, 7, 23, 11, 8, 26, 96, 8, 34, 27, 15, 13, 15, 9, 9, 14, 5, 83, 24, 15, 58, 33, 14, 8, 36, 61, 33, 132, 3, 8, 32, 27, 11, 12, 13, 10, 174, 37, 30, 20, 27, 16, 55, 20, 16, 8, 16, 78, 7, 27, 75, 29, 36, 11, 15, 9, 17, 10, 14, 20, 8, 28, 22, 61, 12, 20, 153, 10, 23, 10, 13, 36, 120, 47, 26, 37, 35, 66, 36, 24, 22, 18, 15, 20, 14, 17, 14, 33, 8, 25, 22, 12, 12, 37, 20, 18, 23, 28, 27, 33, 67, 11, 14, 16, 24, 15, 11, 17, 21, 35, 16, 12, 35, 16, 9, 13, 29, 17, 18, 28, 16, 29, 16, 20, 18, 25, 14, 98, 50, 19, 16, 22, 14, 28, 19, 12, 71, 59, 10, 11, 183, 12, 25, 18, 12, 20, 27, 37, 7, 28, 19, 6, 9, 12, 25, 23, 10, 65, 17, 27, 10, 28, 41, 88, 45, 78, 18, 131, 14, 14, 10, 104, 55, 48, 53, 61, 32, 7, 12, 45, 18, 14, 7, 20, 26, 49, 16, 17, 19, 65, 49, 105, 45, 12, 48, 19, 20, 9, 14, 58, 39, 24, 15, 8, 55, 20, 12, 50, 12, 106, 25, 54, 50, 33, 16, 11, 11, 84, 49, 11, 11, 56, 12, 37, 9, 35, 25, 7, 22, 47, 15, 40, 9, 23, 19, 10, 31, 74, 14, 24, 35, 70, 48, 13, 16, 51, 37, 56, 13, 55, 28, 27, 14, 85, 18, 16, 37, 17, 23, 44, 21, 9, 43, 30, 29, 25, 10, 30, 18, 34, 12, 68, 13, 12, 12, 4, 10, 9, 6, 12, 36, 13, 88, 15, 12, 14, 34, 26, 18, 17, 14, 14, 13, 33, 37, 14, 14, 17, 41, 18, 14, 26, 15, 13, 15, 14, 33, 19, 11, 12, 43, 20, 28, 21, 38, 11, 41, 12, 13, 14, 17, 29, 16, 40, 130, 13, 16, 12, 23, 18, 18, 46, 15, 19, 25, 15, 17, 100, 11, 42, 19, 56, 9, 31, 16, 9, 10, 9, 20, 14, 23, 17, 81, 11, 17, 18, 12, 32, 12, 35, 64, 37, 19, 30, 43, 16, 14, 16, 16, 17, 51, 33, 15, 15, 37, 7, 10, 26, 59, 14, 19, 17, 29, 27, 86, 25, 34, 15, 26, 21, 28, 15, 17, 69, 49, 33, 18, 44, 7, 17, 75, 26, 16, 15, 70, 56, 8, 8, 26, 57, 17, 18, 8, 42, 41, 21, 42, 28, 20, 24, 139, 146, 23, 23, 35, 9, 8, 49, 11, 27, 16, 6, 7, 27, 25, 12, 6, 18, 18, 26, 9, 10, 54, 41, 27, 19, 28, 8, 36, 13, 26, 62, 12, 31, 9, 10, 9, 39, 36, 9, 58, 28, 82, 14, 19, 34, 19, 43, 53, 16, 35, 8, 14, 5, 34, 10, 114, 30, 19, 48, 16, 76, 218, 31, 29, 47, 12, 10, 12, 58, 17, 19, 9, 393, 19, 29, 25, 32, 39, 10, 57, 31, 9, 5, 24, 20, 29, 60, 16, 15, 14, 13, 11, 25, 82, 38, 62, 43, 21, 30, 41, 37, 38, 16, 23, 131, 97, 15, 11, 27, 51, 9, 6, 9, 17, 16, 11, 13, 37, 27, 33, 22, 39, 12, 66, 60, 44, 37, 38, 24, 20, 19, 55, 28, 44, 172, 21, 23, 11, 39, 26, 84, 12, 22, 28, 32, 37, 32, 12, 13, 13, 11, 128, 33, 28, 48, 64, 36, 27, 15, 23, 29, 35, 14, 57, 62, 17, 44, 31, 11, 25, 39, 12, 33, 38, 43, 9, 20, 45, 13, 12, 102, 20, 56, 158, 121, 14, 10, 9, 11, 16, 34, 11, 14, 14, 84, 43, 20, 12, 15, 19, 12, 9, 59, 16, 28, 22, 23, 33, 9, 13, 37, 8, 14, 12, 10, 15, 14, 62, 7, 55, 20, 32, 18, 47, 15, 16, 12, 24, 32, 33, 16, 17, 16, 16, 10, 13, 9, 11, 8, 8, 50, 35, 20, 44, 28, 16, 31, 33, 14, 40, 25, 25, 29, 20, 10, 11, 45, 15, 6, 27, 33, 25, 18, 16, 17, 29, 91, 16, 47, 34, 25, 50, 67, 18, 23, 87, 198, 62, 143, 9, 10, 9, 111, 48, 44, 9, 27, 11, 8, 14, 22, 42, 21, 28, 28, 25, 40, 90, 10, 11, 12, 102, 13, 21, 19, 10, 7, 38, 20, 42, 9, 7, 16, 113, 35, 11, 97, 30, 11, 7, 27, 32, 56, 7, 29, 54, 8, 13, 48, 16, 13, 12, 8, 9, 57, 16, 17, 16, 23, 11, 16, 25, 9, 18, 29, 25, 12, 50, 13, 40, 34, 30, 20, 32, 89, 16, 19, 14, 17, 19, 32, 10, 18, 44, 68, 21, 30, 12, 20, 40, 36, 29, 12, 11, 36, 32, 12, 22, 5, 23, 13, 60, 81, 24, 14, 21, 13, 30, 19, 17, 112, 15, 18, 182, 9, 7, 183, 46, 17, 12, 12, 21, 8, 102, 36, 28, 69, 11, 30, 62, 34, 55, 74, 11, 15, 12, 28, 26, 21, 19, 21, 13, 64, 39, 21, 27, 128, 28, 18, 34, 111, 100, 73, 20, 76, 19, 8, 32, 79, 23, 17, 10, 51, 21, 9, 9, 24, 69, 10, 19, 11, 46, 13, 20, 39, 11, 24, 17, 13, 29, 59, 11, 67, 18, 32, 15, 48, 13, 10, 12, 23, 15, 38, 23, 50, 10, 13, 39, 25, 12, 7, 11, 28, 21, 26, 32, 8, 17, 21, 13, 65, 12, 18, 18, 62, 31, 29, 42, 53, 11, 57, 17, 12, 23, 75, 57, 13, 24, 74, 36, 12, 14, 34, 20, 39, 11, 35, 15, 24, 36, 20, 26, 20, 23, 35, 19, 39, 23, 21, 22, 45, 11, 21, 16, 32, 11, 14, 9, 38, 87, 17, 14, 15, 12, 13, 20, 11, 157, 19, 31, 22, 17, 16, 11, 37, 18, 18, 13, 29, 18, 24, 13, 15, 16, 18, 14, 8, 47, 11, 18, 45, 130, 18, 31, 25, 38, 20, 8, 16, 36, 11, 15, 39, 253, 56, 14, 41, 39, 12, 45, 31, 13, 16, 36, 7, 105, 18, 10, 10, 34, 173, 10, 17, 39, 13, 11, 27, 108, 28, 30, 32, 20, 25, 59, 17, 40, 18, 20, 29, 15, 24, 65, 28, 41, 40, 26, 29, 12, 32, 17, 20, 25, 50, 8, 24, 10, 31, 42, 61, 22, 19, 25, 27, 32, 121, 76, 9, 17, 15, 10, 150, 53, 58, 9, 10, 8, 10, 8, 18, 26, 26, 27, 19, 99, 11, 24, 24, 22, 10, 64, 36, 25, 9, 10, 16, 10, 37, 23, 13, 12, 15, 46, 28, 15, 13, 19, 151, 12, 26, 26, 21, 11, 11, 20, 36, 158, 15, 9, 48, 18, 49, 25, 25, 10, 13, 8, 10, 61, 26, 19, 24, 18, 44, 45, 11, 14, 24, 60, 10, 11, 56, 14, 31, 28, 16, 53, 21, 17, 22, 52, 14, 14, 23, 9, 16, 68, 33, 119, 33, 25, 8, 14, 7, 7, 10, 14, 14, 11, 19, 8, 158, 7, 58, 58, 13, 10, 11, 10, 17, 27, 13, 8, 13, 35, 21, 14, 9, 63, 23, 16, 32, 29, 33, 18, 33, 14, 38, 34, 29, 14, 19, 58, 25, 24, 7, 11, 14, 9, 100, 21, 18, 16, 18, 26, 10, 13, 74, 29, 16, 13, 44, 24, 21, 38, 20, 46, 30, 19, 8, 11, 25, 22, 10, 10, 11, 14, 11, 21, 35, 11, 32, 24, 60, 14, 24, 9, 29, 18, 14, 20, 42, 32, 11, 22, 20, 15, 43, 33, 17, 26, 17, 18, 105, 29, 37, 16, 11, 20, 66, 15, 36, 412, 36, 14, 54, 148, 44, 11, 22, 9, 10, 39, 11, 21, 16, 15, 14, 66, 28, 10, 10, 37, 28, 31, 14, 7, 18, 11, 13, 34, 15, 27, 23, 15, 27, 14, 15, 17, 11, 22, 20, 13, 14, 6, 15, 8, 6, 19, 26, 20, 35, 28, 44, 22, 141, 162, 55, 15, 50, 61, 12, 49, 28, 16, 21, 54, 60, 17, 31, 12, 22, 12, 55, 44, 36, 38, 31, 26, 17, 27, 20, 14, 50, 29, 45, 76, 48, 10, 13, 23, 25, 22, 11, 17, 19, 49, 17, 15, 18, 10, 7, 22, 50, 11, 48, 48, 12, 35, 12, 42, 8, 23, 13, 25, 41, 53, 38, 19, 19, 20, 72, 56, 41, 11, 37, 39, 9, 12, 42, 7, 28, 57, 70, 44, 41, 10, 17, 31, 15, 30, 36, 22, 46, 15, 32, 9, 22, 24, 13, 101, 99, 8, 16, 26, 10, 35, 11, 60, 21, 9, 14, 83, 32, 11, 66, 47, 36, 41, 10, 74, 10, 16, 20, 8, 25, 23, 16, 20, 413, 102, 59, 5, 113, 53, 45, 18, 55, 8, 35, 13, 36, 16, 67, 35, 9, 8, 10, 14, 37, 30, 72, 24, 22, 53, 15, 23, 13, 18, 28, 42, 26, 33, 49, 18, 10, 62, 14, 12, 24, 51, 30, 105, 12, 8, 27, 26, 13, 14, 24, 6, 15, 3, 66, 14, 7, 71, 28, 46, 7, 48, 8, 12, 24, 20, 29, 9, 10, 14, 44, 9, 12, 29, 40, 159, 87, 204, 69, 87, 38, 42, 31, 12, 89, 45, 77, 41, 24, 34, 25, 23, 34, 11, 34, 79, 23, 31, 19, 38, 23, 33, 71, 64, 22, 12, 9, 43, 25, 67, 19, 9, 59, 12, 52, 30, 6, 49, 13, 52, 39, 17, 18, 10, 22, 8, 42, 16, 11, 67, 9, 16, 10, 20, 38, 13, 13, 15, 25, 9, 36, 14, 9, 13, 26, 24, 17, 32, 31, 36, 52, 40, 29, 23, 32, 20, 37, 98, 24, 9, 47, 11, 12, 26, 25, 22, 57, 31, 26, 21, 13, 35, 37, 35, 16, 18, 19, 11, 7, 17, 11, 18, 65, 18, 24, 16, 14, 9, 39, 19, 45, 18, 20, 19, 35, 12, 11, 10, 10, 13, 26, 59, 19, 50, 11, 101, 48, 64, 147, 47, 44, 28, 47, 18, 18, 15, 9, 35, 7, 25, 19, 18, 64, 21, 17, 18, 14, 34, 35, 27, 9, 15, 34, 26, 9, 19, 17, 34, 26, 28, 10, 21, 18, 14, 8, 12, 10, 13, 15, 50, 72, 37, 15, 13, 35, 36, 10, 42, 15, 11, 23, 32, 27, 23, 20, 11, 19, 30, 12, 32, 34, 18, 9, 9, 21, 8, 14, 18, 23, 54, 8, 20, 7, 31, 6, 60, 9, 10, 17, 72, 9, 32, 15, 21, 25, 11, 8, 10, 146, 10, 14, 10, 15, 9, 21, 32, 17, 26, 22, 20, 12, 12, 8, 49, 11, 28, 20, 74, 58, 41, 36, 73, 13, 21, 54, 20, 79, 14, 269, 9, 48, 49, 36, 23, 28, 12, 26, 9, 30, 56, 15, 24, 11, 33, 26, 11, 23, 23, 21, 109, 17, 27, 12, 57, 35, 107, 161, 27, 36, 90, 36, 50, 55, 14, 32, 15, 15, 11, 10, 23, 15, 22, 15, 19, 40, 20, 27, 18, 28, 19, 17, 20, 24, 26, 18, 13, 12, 18, 59, 7, 32, 90, 19, 19, 10, 66, 9, 16, 77, 18, 22, 9, 11, 131, 25, 114, 32, 27, 12, 10, 58, 45, 13, 8, 69, 36, 26, 18, 31, 69, 38, 26, 20, 68, 68, 65, 35, 115, 54, 54, 24, 38, 38, 17, 18, 24, 62, 31, 86, 9, 12, 40, 26, 22, 3, 27, 56, 13, 9, 19, 17, 10, 8, 23, 55, 12, 17, 39, 16, 13, 18, 31, 14, 28, 13, 24, 10, 24, 16, 37, 13, 45, 12, 21, 9, 16, 31, 28, 19, 21, 20, 69, 29, 34, 20, 107, 21, 31, 48, 84, 14, 38, 47, 34, 25, 27, 18, 33, 113, 19, 29, 9, 13, 6, 23, 106, 14, 96, 15, 21, 35, 13, 72, 19, 29, 30, 27, 30, 30, 11, 33, 24, 11, 77, 19, 28, 22, 42, 20, 10, 54, 15, 44, 26, 27, 24, 15, 25, 15, 16, 31, 11, 29, 9, 19, 17, 30, 42, 27, 51, 18, 8, 66, 35, 28, 13, 21, 11, 12, 30, 55, 9, 69, 12, 24, 10, 11, 99, 39, 44, 19, 16, 43, 136, 37, 7, 13, 10, 33, 32, 10, 32, 61, 50, 21, 56, 30, 52, 25, 16, 32, 96, 17, 12, 47, 37, 29, 35, 8, 30, 18, 42, 8, 15, 33, 12, 21, 24, 13, 31, 9, 19, 25, 23, 28, 28, 27, 12, 103, 55, 45, 55, 23, 19, 22, 120, 43, 46, 23, 20, 10, 50, 39, 28, 30, 20, 14, 9, 7, 38, 23, 33, 62, 21, 52, 47, 44, 12, 25, 6, 8, 8, 23, 76, 13, 42, 40, 45, 83, 11, 25, 45, 23, 61, 24, 16, 35, 30, 21, 30, 183, 30, 73, 28, 17, 81, 28, 19, 24, 19, 45, 69, 19, 27, 18, 17, 46, 41, 20, 15, 16, 25, 18, 22, 11, 16, 45, 30, 44, 13, 30, 12, 14, 38, 7, 79, 130, 16, 10, 13, 35, 18, 7, 15, 28, 19, 20, 10, 27, 7, 104, 55, 35, 22, 33, 45, 34, 40, 63, 41, 40, 86, 14, 14, 11, 24, 22, 9, 11, 7, 7, 22, 37, 15, 28, 33, 44, 11, 11, 287, 59, 22, 39, 87, 21, 44, 31, 68, 39, 24, 53, 15, 27, 36, 32, 28, 18, 45, 14, 11, 19, 61, 28, 18, 15, 18, 18, 36, 25, 16, 25, 11, 16, 15, 14, 20, 7, 9, 25, 10, 25, 28, 15, 8, 20, 44, 46, 14, 128, 19, 18, 95, 23, 7, 41, 64, 38, 30, 37, 73, 19, 26, 16, 39, 44, 67, 26, 21, 10, 99, 11, 19, 12, 56, 32, 67, 22, 12, 30, 18, 12, 19, 10, 21, 35, 34, 14, 14, 61, 27, 20, 88, 25, 28, 32, 8, 40, 16, 9, 19, 19, 15, 20, 18, 12, 25, 19, 110, 59, 69, 50, 41, 78, 17, 9, 31, 50, 10, 41, 12, 17, 36, 54, 24, 12, 23, 12, 7, 75, 36, 41, 13, 48, 8, 17, 29, 27, 18, 11, 12, 21, 100, 14, 32, 24, 19, 32, 16, 33, 20, 117, 11, 28, 28, 14, 29, 13, 8, 13, 11, 13, 22, 14, 8, 5, 12, 30, 41, 51, 21, 13, 11, 15, 13, 37, 15, 16, 9, 24, 13, 12, 15, 30, 14, 14, 11, 17, 8, 19, 19, 12, 16, 8, 12, 11, 30, 11, 31, 42, 55, 89, 75, 19, 9, 58, 16, 13, 62, 37, 52, 38, 42, 34, 19, 71, 28, 28, 22, 18, 42, 15, 13, 55, 28, 152, 33, 90, 41, 88, 42, 76, 71, 102, 28, 91, 13, 54, 36, 8, 17, 275, 15, 18, 70, 20, 46, 19, 30, 12, 62, 29, 81, 14, 28, 48, 12, 22, 20, 9, 49, 55, 16, 39, 11, 36, 51, 65, 54, 31, 10, 22, 10, 17, 38, 29, 20, 19, 27, 10, 21, 43, 71, 12, 48, 18, 40, 18, 26, 13, 16, 43, 29, 14, 29, 56, 64, 34, 29, 33, 9, 29, 31, 29, 45, 14, 15, 7, 7, 47, 23, 42, 16, 18, 11, 29, 38, 10, 21, 12, 57, 15, 41, 10, 37, 67, 11, 54, 55, 16, 30, 10, 12, 230, 20, 12, 63, 34, 8, 10, 21, 32, 13, 14, 81, 39, 14, 13, 22, 22, 16, 24, 55, 14, 18, 14, 14, 65, 76, 222, 63, 40, 102, 54, 22, 47, 5, 6, 13, 42, 63, 7, 10, 56, 53, 22, 17, 18, 44, 13, 63, 86, 84, 25, 34, 93, 54, 9, 46, 29, 23, 13, 41, 27, 113, 32, 52, 17, 41, 41, 26, 28, 35, 29, 7, 18, 23, 15, 6, 11, 38, 13, 20, 20, 22, 33, 7, 67, 30, 13, 49, 105, 13, 29, 39, 49, 40, 43, 19, 12, 18, 33, 30, 81, 29, 67, 40, 20, 44, 13, 14, 50, 8, 30, 9, 10, 58, 43, 14, 33, 33, 9, 13, 23, 29, 12, 26, 41, 17, 20, 16, 15, 21, 27, 54, 38, 15, 17, 7, 14, 12, 16, 8, 10, 39, 31, 20, 38, 34, 31, 10, 91, 23, 26, 15, 23, 52, 12, 10, 37, 24, 10, 30, 6, 6, 24, 20, 15, 12, 22, 17, 8, 26, 13, 11, 13, 8, 78, 46, 66, 24, 9, 51, 18, 6, 16, 21, 17, 11, 32, 40, 14, 7, 77, 34, 52, 17, 41, 15, 135, 37, 16, 20, 19, 32, 57, 12, 9, 24, 63, 13, 41, 35, 50, 28, 44, 47, 69, 9, 54, 25, 9, 15, 27, 102, 37, 10, 40, 35, 13, 13, 22, 19, 15, 98, 28, 43, 45, 56, 15, 12, 36, 14, 89, 18, 11, 12, 20, 30, 23, 29, 11, 11, 22, 16, 23, 15, 29, 9, 51, 28, 10, 44, 27, 13, 21, 26, 31, 21, 13, 21, 12, 24, 12, 26, 40, 42, 19, 13, 33, 41, 14, 101, 29, 18, 15, 45, 21, 27, 30, 15, 37, 93, 12, 8, 19, 14, 45, 20, 9, 17, 26, 32, 10, 10, 65, 40, 53, 13, 12, 125, 13, 21, 16, 205, 240, 27, 6, 10, 162, 89, 37, 18, 5, 15, 15, 11, 13, 43, 43, 19, 45, 14, 5, 10, 10, 13, 19, 22, 45, 89, 33, 40, 57, 47, 273, 10, 27, 28, 19, 25, 16, 32, 17, 39, 33, 60, 16, 72, 320, 7, 184, 40, 26, 153, 18, 40, 10, 10, 37, 84, 9, 16, 26, 34, 9, 19, 11, 116, 30, 38, 25, 22, 12, 12, 17, 11, 31, 26, 27, 28, 25, 16, 27, 11, 32, 34, 62, 30, 19, 55, 24, 13, 23, 8, 165, 20, 14, 22, 26, 9, 39, 18, 22, 34, 63, 9, 13, 10, 13, 9, 17, 26, 10, 50, 12, 18, 72, 67, 130, 23, 35, 76, 18, 18, 12, 11, 298, 288, 32, 269, 73, 154, 21, 14, 15, 16, 20, 13, 86, 67, 40, 40, 127, 91, 35, 34, 13, 12, 23, 68, 34, 12, 39, 18, 24, 8, 60, 57, 39, 9, 10, 77, 14, 31, 17, 15, 41, 27, 36, 20, 29, 79, 23, 85, 21, 33, 20, 51, 13, 18, 76, 17, 21, 25, 13, 16, 17, 23, 17, 9, 17, 18, 13, 9, 14, 30, 39, 29, 19, 16, 29, 14, 21, 25, 11, 40, 25, 23, 16, 43, 9, 42, 16, 38, 24, 35, 20, 15, 19, 14, 37, 14, 36, 139, 37, 23, 26, 13, 16, 43, 26, 51, 45, 60, 53, 14, 34, 93, 86, 20, 8, 21, 25, 54, 37, 15, 13, 6, 20, 19, 29, 9, 17, 14, 39, 18, 5, 20, 41, 23, 114, 51, 8, 45, 75, 17, 36, 41, 35, 28, 27, 14, 54, 53, 19, 126, 36, 27, 29, 12, 16, 16, 36, 23, 30, 14, 92, 160, 23, 29, 31, 32, 19, 14, 9, 32, 28, 20, 32, 32, 48, 42, 17, 22, 47, 38, 27, 31, 30, 14, 21, 20, 11, 10, 20, 10, 14, 28, 23, 11, 12, 27, 10, 10, 16, 11, 68, 13, 53, 11, 21, 12, 24, 24, 15, 10, 14, 28, 22, 18, 10, 24, 14, 10, 19, 12, 12, 41, 8, 35, 48, 15, 25, 16, 15, 14, 10, 21, 11, 23, 22, 15, 12, 9, 32, 20, 17, 41, 14, 13, 33, 53, 10, 9, 16, 36, 24, 21, 9, 45, 10, 17, 15, 16, 16, 8, 22, 11, 16, 12, 18, 24, 24, 8, 10, 21, 9, 15, 10, 41, 11, 19, 13, 11, 22, 9, 11, 40, 8, 41, 245, 50, 12, 110, 55, 32, 72, 45, 26, 33, 23, 24, 19, 22, 52, 10, 23, 11, 27, 24, 23, 33, 10, 17, 16, 10, 18, 10, 9, 10, 11, 33, 13, 29, 17, 14, 29, 30, 18, 14, 34, 14, 11, 20, 9, 30, 15, 11, 14, 23, 15, 8, 16, 28, 11, 29, 7, 13, 53, 28, 29, 22, 15, 11, 14, 87, 13, 10, 19, 17, 27, 25, 48, 15, 9, 18, 23, 25, 11, 32, 10, 37, 67, 21, 13, 18, 11, 68, 42, 13, 14, 10, 7, 11, 13, 10, 15, 14, 30, 34, 12, 20, 12, 78, 45, 9, 11, 12, 42, 122, 25, 66, 20, 16, 10, 32, 25, 24, 27, 7, 18, 14, 14, 20, 11, 39, 147, 9, 82, 28, 30, 20, 11, 41, 53, 15, 13, 16, 89, 17, 25, 11, 30, 27, 35, 15, 19, 14, 28, 30, 14, 21, 22, 20, 17, 54, 35, 34, 27, 87, 23, 12, 15, 33, 42, 16, 21, 14, 21, 14, 20, 8, 13, 21, 38, 65, 33, 13, 9, 51, 8, 11, 19, 22, 19, 32, 21, 12, 20, 28, 16, 42, 11, 34, 37, 16, 12, 29, 41, 20, 19, 9, 15, 10, 16, 23, 15, 22, 24, 52, 23, 16, 63, 47, 26, 13, 11, 29, 19, 9, 14, 8, 8, 46, 63, 20, 26, 21, 25, 14, 17, 16, 36, 12, 12, 43, 10, 25, 17, 28, 14, 17, 19, 91, 13, 12, 7, 45, 22, 23, 30, 70, 47, 8, 15, 22, 22, 35, 18, 34, 14, 34, 13, 16, 20, 50, 22, 34, 16, 16, 87, 12, 25, 10, 12, 11, 19, 12, 50, 47, 32, 10, 54, 28, 27, 44, 26, 17, 37, 34, 13, 15, 72, 123, 17, 14, 28, 34, 31, 29, 25, 9, 66, 17, 35, 18, 21, 47, 20, 7, 13, 24, 23, 16, 14, 12, 12, 23, 7, 29, 8, 55, 28, 7, 38, 34, 12, 15, 10, 12, 40, 10, 22, 13, 42, 57, 15, 18, 16, 44, 25, 20, 37, 12, 20, 11, 13, 32, 24, 9, 32, 14, 12, 25, 6, 28, 57, 24, 19, 24, 93, 29, 27, 38, 39, 66, 28, 52, 113, 16, 32, 49, 33, 98, 70, 11, 10, 22, 15, 11, 11, 46, 10, 14, 18, 15, 11, 82, 9, 14, 24, 11, 10, 11, 51, 51, 54, 58, 32, 78, 52, 39, 10, 68, 19, 18, 15, 43, 10, 9, 17, 14, 51, 16, 18, 22, 55, 10, 80, 26, 89, 21, 8, 59, 17, 27, 21, 11, 17, 13, 16, 13, 27, 52, 23, 31, 24, 58, 16, 15, 50, 46, 18, 7, 14, 21, 61, 10, 10, 43, 19, 52, 24, 32, 16, 23, 9, 15, 18, 35, 41, 17, 6, 18, 35, 16, 30, 24, 50, 35, 10, 12, 13, 11, 14, 11, 113, 27, 28, 7, 28, 17, 199, 15, 48, 16, 14, 18, 23, 16, 5, 25, 28, 19, 15, 25, 11, 7, 7, 28, 14, 7, 20, 21, 24, 16, 13, 33, 41, 13, 15, 12, 13, 40, 17, 32, 16, 12, 7, 20, 78, 42, 14, 19, 13, 57, 7, 13, 10, 15, 28, 25, 12, 21, 15, 7, 15, 11, 25, 121, 38, 20, 16, 28, 19, 14, 13, 48, 11, 12, 17, 17, 7, 19, 5, 12, 29, 33, 20, 35, 14, 8, 13, 67, 20, 39, 7, 13, 13, 9, 39, 10, 3, 9, 56, 15, 19, 14, 39, 25, 51, 15, 12, 70, 59, 48, 33, 28, 13, 11, 36, 20, 39, 23, 26, 16, 24, 26, 13, 12, 22, 11, 36, 48, 13, 26, 19, 17, 12, 55, 24, 26, 21, 10, 39, 27, 61, 22, 15, 27, 14, 30, 36, 21, 15, 15, 20, 19, 27, 27, 16, 15, 17, 30, 16, 8, 14, 39, 19, 9, 17, 13, 63, 27, 13, 17, 8, 54, 27, 33, 51, 31, 12, 22, 8, 103, 14, 12, 21, 11, 18, 176, 34, 12, 33, 34, 30, 12, 16, 63, 7, 24, 17, 13, 26, 6, 98, 36, 7, 24, 29, 28, 35, 14, 11, 21, 10, 48, 17, 23, 29, 14, 9, 25, 46, 16, 25, 31, 99, 15, 12, 24, 37, 12, 66, 54, 19, 41, 97, 38, 10, 68, 13, 24, 45, 19, 51, 9, 36, 5, 9, 27, 13, 11, 14, 27, 48, 10, 79, 163, 18, 19, 39, 24, 14, 35, 43, 20, 14, 23, 29, 29, 41, 17, 20, 9, 23, 61, 24, 13, 32, 24, 17, 14, 14, 18, 137, 65, 28, 38, 63, 27, 48, 115, 22, 24, 128, 11, 49, 17, 82, 23, 28, 22, 29, 26, 14, 25, 67, 24, 39, 48, 37, 27, 46, 65, 79, 33, 27, 82, 36, 12, 6, 15, 52, 21, 30, 41, 27, 207, 13, 42, 183, 44, 70, 90, 21, 14, 30, 17, 18, 29, 27, 9, 37, 27, 37, 24, 97, 31, 22, 25, 13, 38, 10, 36, 8, 46, 68, 22, 88, 33, 48, 45, 25, 7, 17, 13, 51, 33, 23, 40, 53, 17, 25, 26, 38, 34, 44, 18, 14, 20, 10, 10, 33, 32, 32, 23, 14, 67, 13, 18, 32, 24, 27, 33, 44, 15, 12, 23, 10, 77, 14, 12, 19, 12, 20, 25, 23, 72, 13, 25, 19, 20, 15, 13, 25, 20, 9, 15, 104, 31, 21, 100, 12, 24, 29, 63, 48, 30, 55, 18, 39, 14, 16, 16, 16, 19, 37, 16, 32, 36, 50, 31, 14, 63, 12, 29, 17, 16, 26, 19, 27, 29, 74, 17, 31, 17, 27, 15, 11, 21, 15, 27, 53, 11, 23, 13, 22, 24, 8, 18, 23, 43, 29, 25, 145, 20, 28, 18, 37, 49, 42, 70, 23, 32, 15, 46, 9, 38, 108, 20, 25, 29, 21, 24, 16, 26, 43, 29, 10, 8, 16, 39, 38, 18, 27, 43, 22, 21, 22, 11, 14, 12, 53, 17, 13, 34, 20, 64, 58, 27, 29, 30, 33, 58, 51, 16, 30, 254, 56, 35, 54, 37, 39, 107, 108, 11, 286, 26, 9, 24, 21, 26, 12, 16, 25, 54, 18, 17, 11, 18, 92, 17, 53, 16, 9, 12, 51, 29, 16, 25, 17, 17, 36, 29, 37, 32, 7, 11, 15, 44, 47, 11, 11, 28, 16, 8, 49, 14, 10, 17, 19, 19, 69, 14, 62, 35, 15, 35, 71, 55, 24, 46, 31, 19, 28, 44, 12, 21, 42, 8, 26, 13, 39, 17, 13, 15, 82, 21, 58, 10, 9, 58, 39, 17, 19, 32, 27, 21, 13, 11, 15, 20, 14, 30, 30, 50, 18, 36, 254, 13, 9, 9, 61, 32, 76, 15, 22, 33, 10, 16, 9, 7, 11, 8, 12, 12, 24, 20, 9, 27, 14, 29, 22, 17, 10, 40, 7, 17, 11, 14, 16, 46, 36, 81, 30, 8, 54, 17, 14, 20, 30, 86, 31, 11, 21, 33, 110, 17, 32, 10, 8, 13, 40, 30, 27, 14, 47, 28, 14, 9, 8, 14, 14, 11, 9, 38, 16, 12, 19, 19, 7, 14, 20, 190, 12, 20, 27, 30, 11, 15, 18, 29, 86, 70, 85, 63, 18, 115, 15, 26, 92, 101, 34, 24, 14, 26, 21, 59, 18, 15, 8, 38, 164, 65, 44, 54, 24, 65, 111, 84, 35, 13, 23, 59, 86, 76, 12, 12, 58, 64, 16, 26, 37, 17, 32, 34, 28, 19, 16, 51, 34, 15, 44, 42, 17, 24, 23, 45, 30, 13, 72, 19, 34, 198, 59, 16, 79, 43, 16, 72, 26, 47, 17, 72, 38, 50, 35, 23, 51, 41, 34, 58, 143, 116, 103, 39, 54, 44, 45, 88, 47, 52, 75, 272, 76, 39, 33, 12, 46, 88, 43, 7, 8, 23, 23, 26, 12, 27, 25, 12, 32, 79, 22, 110, 36, 32, 55, 22, 6, 26, 10, 19, 19, 15, 14, 70, 18, 11, 27, 24, 16, 8, 12, 13, 20, 28, 18, 8, 44, 8, 12, 31, 23, 20, 19, 18, 20, 21, 19, 7, 27, 17, 11, 14, 60, 22, 38, 15, 19, 8, 11, 18, 45, 68, 8, 39, 14, 15, 74, 58, 13, 12, 14, 63, 49, 84, 29, 20, 23, 50, 5, 20, 10, 14, 18, 11, 16, 80, 9, 8, 9, 18, 43, 20, 13, 90, 18, 39, 43, 8, 14, 25, 15, 41, 30, 11, 15, 18, 62, 25, 32, 32, 13, 21, 19, 62, 102, 39, 13, 16, 17, 47, 18, 11, 42, 19, 52, 13, 7, 22, 42, 27, 45, 17, 13, 10, 11, 13, 33, 48, 28, 32, 9, 6, 18, 25, 26, 37, 35, 20, 9, 42, 9, 32, 36, 33, 27, 49, 20, 9, 8, 28, 28, 29, 24, 44, 41, 25, 9, 45, 24, 28, 14, 43, 51, 14, 36, 10, 53, 150, 85, 35, 69, 70, 127, 105, 89, 70, 49, 46, 45, 68, 119, 73, 32, 42, 40, 15, 30, 84, 41, 84, 55, 12, 32, 38, 87, 49, 29, 21, 30, 53, 10, 17, 11, 56, 31, 17, 28, 10, 31, 24, 17, 183, 54, 37, 26, 36, 49, 40, 107, 41, 14, 45, 25, 11, 45, 15, 14, 16, 46, 70, 22, 8, 10, 67, 30, 25, 23, 11, 72, 103, 37, 28, 70, 45, 35, 17, 32, 9, 14, 13, 17, 11, 31, 34, 9, 32, 51, 10, 20, 9, 19, 38, 9, 14, 12, 66, 12, 9, 11, 26, 72, 31, 26, 18, 26, 43, 21, 8, 9, 83, 29, 20, 20, 12, 27, 137, 28, 23, 26, 7, 27, 24, 46, 16, 13, 13, 9, 22, 17, 37, 16, 29, 8, 36, 20, 54, 57, 23, 32, 23, 20, 10, 137, 18, 30, 44, 18, 19, 48, 10, 10, 31, 41, 33, 102, 113, 11, 42, 11, 17, 35, 24, 48, 23, 37, 14, 12, 15, 17, 94, 29, 12, 11, 29, 47, 27, 75, 33, 42, 28, 10, 15, 13, 15, 28, 16, 32, 28, 26, 21, 37, 32, 17, 28, 24, 41, 38, 72, 63, 13, 13, 29, 43, 42, 16, 59, 55, 13, 37, 24, 63, 16, 8, 9, 40, 26, 8, 17, 37, 22, 21, 37, 51, 36, 55, 53, 21, 61, 32, 63, 13, 58, 53, 28, 20, 53, 18, 21, 38, 20, 26, 8, 24, 43, 11, 25, 15, 70, 12, 12, 35, 9, 36, 16, 16, 8, 17, 40, 30, 10, 14, 53, 47, 14, 45, 198, 37, 8, 21, 32, 13, 22, 23, 18, 50, 17, 11, 43, 35, 8, 23, 10, 18, 11, 13, 32, 10, 32, 42, 96, 37, 44, 14, 7, 81, 115, 80, 11, 11, 32, 131, 31, 21, 10, 47, 10, 27, 14, 9, 26, 20, 17, 9, 13, 48, 19, 26, 27, 28, 38, 53, 24, 23, 30, 24, 43, 8, 15, 27, 17, 19, 27, 13, 14, 12, 39, 26, 16, 43, 44, 13, 16, 13, 23, 40, 17, 60, 34, 17, 70, 37, 17, 10, 59, 39, 51, 68, 35, 23, 24, 12, 13, 18, 50, 20, 28, 75, 23, 37, 23, 23, 34, 77, 42, 10, 25, 41, 42, 32, 31, 14, 19, 11, 20, 34, 23, 15, 26, 24, 20, 19, 14, 26, 38, 18, 60, 44, 10, 75, 18, 98, 15, 17, 15, 33, 22, 9, 178, 33, 20, 22, 57, 68, 65, 76, 83, 36, 152, 11, 62, 63, 51, 62, 52, 54, 149, 35, 38, 31, 38, 14, 50, 42, 30, 28, 51, 53, 26, 7, 49, 49, 36, 23, 12, 53, 84, 19, 10, 11, 99, 28, 22, 7, 8, 6, 24, 9, 15, 52, 39, 6, 61, 22, 38, 65, 20, 22, 41, 15, 30, 24, 34, 21, 82, 32, 26, 16, 24, 28, 17, 9, 8, 17, 10, 31, 17, 33, 9, 10, 9, 7, 13, 13, 19, 16, 12, 12, 9, 59, 24, 13, 18, 10, 22, 18, 11, 15, 19, 20, 16, 12, 13, 20, 17, 10, 18, 9, 14, 28, 8, 9, 48, 21, 27, 38, 13, 29, 27, 18, 43, 16, 13, 18, 38, 110, 24, 22, 44, 41, 53, 18, 11, 16, 114, 46, 16, 29, 20, 7, 14, 12, 13, 12, 15, 38, 10, 21, 9, 7, 9, 24, 40, 36, 41, 23, 31, 16, 18, 23, 10, 15, 29, 30, 24, 31, 34, 25, 28, 14, 12, 18, 42, 35, 14, 46, 53, 77, 16, 50, 12, 204, 46, 15, 8, 6, 6, 30, 16, 107, 79, 65, 112, 15, 11, 42, 10, 36, 14, 15, 55, 13, 30, 101, 40, 116, 116, 28, 181, 49, 137, 16, 22, 76, 23, 27, 44, 25, 29, 14, 23, 20, 11, 48, 32, 16, 36, 24, 8, 36, 19, 26, 13, 11, 18, 23, 29, 13, 11, 17, 31, 30, 51, 82, 102, 23, 85, 12, 23, 19, 16, 61, 38, 66, 32, 68, 9, 199, 43, 70, 16, 5, 44, 16, 104, 38, 13, 22, 31, 9, 15, 7, 47, 18, 116, 19, 38, 25, 12, 11, 15, 12, 8, 12, 10, 19, 15, 30, 37, 21, 23, 17, 10, 10, 24, 20, 39, 56, 31, 10, 54, 10, 14, 31, 20, 14, 90, 87, 46, 12, 24, 20, 9, 11, 35, 10, 22, 38, 10, 54, 30, 14, 20, 19, 12, 99, 14, 20, 11, 30, 10, 35, 12, 44, 9, 70, 25, 70, 22, 50, 6, 34, 8, 11, 46, 12, 14, 104, 19, 17, 30, 8, 49, 28, 10, 12, 9, 25, 23, 31, 25, 16, 39, 28, 36, 11, 10, 40, 52, 37, 7, 23, 27, 81, 10, 25, 43, 9, 15, 11, 57, 19, 23, 33, 17, 28, 10, 72, 10, 30, 68, 16, 23, 46, 11, 22, 26, 9, 14, 119, 38, 13, 63, 29, 21, 77, 9, 24, 13, 48, 8, 50, 7, 23, 18, 47, 28, 20, 11, 13, 18, 6, 15, 15, 17, 48, 24, 16, 11, 33, 24, 8, 19, 38, 24, 22, 19, 26, 34, 19, 19, 116, 34, 28, 16, 21, 38, 63, 35, 36, 8, 44, 29, 26, 13, 11, 36, 49, 18, 16, 14, 9, 52, 59, 19, 14, 103, 29, 34, 22, 33, 10, 6, 41, 17, 13, 31, 20, 69, 17, 31, 16, 26, 22, 6, 29, 10, 27, 77, 20, 17, 20, 26, 118, 26, 28, 23, 12, 13, 43, 64, 14, 58, 34, 62, 83, 48, 11, 17, 17, 23, 63, 15, 17, 12, 33, 22, 32, 12, 238, 42, 49, 90, 18, 39, 8, 17, 12, 11, 17, 44, 62, 13, 54, 35, 16, 48, 139, 12, 15, 17, 43, 74, 96, 36, 41, 35, 49, 31, 14, 61, 30, 65, 43, 24, 15, 38, 54, 37, 93, 10, 21, 19, 21, 38, 44, 14, 25, 13, 18, 19, 24, 16, 23, 29, 49, 10, 59, 22, 14, 32, 56, 35, 10, 16, 24, 44, 17, 20, 13, 40, 18, 11, 15, 17, 48, 15, 28, 50, 13, 52, 59, 41, 15, 12, 18, 18, 21, 23, 43, 8, 14, 56, 27, 8, 23, 18, 14, 16, 9, 18, 29, 25, 8, 22, 47, 26, 37, 10, 25, 61, 23, 5, 27, 11, 25, 28, 26, 64, 45, 41, 26, 31, 117, 15, 62, 36, 19, 18, 10, 29, 72, 53, 33, 93, 38, 110, 37, 45, 38, 23, 28, 12, 36, 52, 16, 42, 9, 11, 23, 28, 16, 30, 11, 12, 16, 20, 9, 11, 74, 12, 14, 20, 9, 13, 34, 9, 21, 13, 14, 6, 21, 44, 12, 48, 32, 18, 12, 11, 16, 23, 27, 22, 19, 45, 8, 10, 8, 36, 9, 41, 12, 13, 29, 25, 11, 29, 124, 18, 49, 12, 77, 24, 83, 149, 39, 26, 28, 10, 27, 36, 78, 22, 20, 11, 13, 32, 59, 73, 79, 73, 92, 46, 12, 27, 87, 43, 48, 40, 120, 36, 23, 14, 24, 20, 21, 119, 36, 32, 27, 26, 58, 18, 14, 8, 19, 19, 23, 12, 90, 17, 21, 13, 17, 27, 15, 4, 41, 11, 8, 6, 10, 23, 45, 12, 12, 17, 13, 11, 22, 45, 21, 14, 8, 24, 40, 10, 17, 127, 54, 8, 16, 15, 9, 15, 26, 23, 348, 29, 23, 58, 70, 182, 24, 18, 113, 148, 35, 26, 28, 20, 19, 14, 48, 43, 20, 12, 15, 26, 18, 24, 17, 32, 35, 30, 96, 17, 47, 37, 19, 120, 18, 27, 11, 13, 52, 24, 11, 25, 31, 19, 57, 49, 22, 46, 174, 17, 26, 16, 33, 19, 32, 85, 17, 27, 28, 30, 11, 34, 33, 59, 14, 15, 41, 31, 44, 12, 35, 15, 45, 34, 8, 11, 19, 44, 38, 6, 22, 10, 37, 10, 13, 13, 13, 38, 12, 23, 32, 23, 7, 22, 48, 9, 34, 10, 26, 22, 32, 74, 45, 25, 14, 64, 35, 17, 214, 6, 11, 46, 23, 48, 54, 20, 12, 50, 20, 29, 55, 153, 20, 6, 18, 5, 27, 23, 23, 13, 14, 13, 23, 36, 22, 13, 29, 14, 27, 20, 32, 22, 15, 13, 11, 37, 66, 16, 13, 71, 29, 11, 30, 34, 14, 16, 14, 24, 22, 23, 7, 64, 31, 60, 100, 21, 11, 38, 17, 12, 8, 13, 79, 12, 10, 12, 36, 39, 65, 14, 32, 52, 18, 25, 15, 18, 21, 20, 16, 63, 77, 41, 20, 34, 51, 40, 19, 22, 20, 10, 36, 27, 24, 15, 14, 51, 18, 36, 22, 57, 85, 42, 43, 37, 26, 9, 10, 21, 9, 20, 11, 11, 20, 31, 12, 11, 22, 8, 23, 18, 7, 9, 28, 85, 185, 15, 186, 18, 8, 16, 36, 12, 17, 22, 5, 55, 20, 15, 69, 149, 151, 61, 24, 45, 35, 53, 33, 20, 13, 64, 9, 16, 72, 42, 16, 27, 10, 8, 23, 9, 14, 24, 28, 31, 10, 46, 12, 11, 44, 8, 17, 27, 44, 29, 5, 20, 23, 43, 24, 19, 11, 24, 35, 25, 34, 18, 13, 10, 44, 42, 48, 67, 30, 12, 46, 13, 41, 7, 21, 27, 9, 28, 22, 45, 12, 26, 28, 11, 90, 18, 23, 11, 14, 16, 30, 72, 69, 66, 12, 85, 21, 33, 12, 11, 25, 27, 22, 29, 29, 13, 17, 10, 45, 9, 9, 7, 14, 19, 19, 33, 22, 42, 28, 10, 18, 32, 14, 11, 24, 59, 19, 10, 17, 31, 42, 10, 22, 24, 55, 23, 33, 17, 11, 47, 43, 32, 25, 29, 24, 28, 21, 17, 18, 33, 7, 36, 94, 68, 29, 29, 105, 50, 46, 17, 13, 8, 25, 27, 25, 27, 43, 23, 7, 20, 15, 12, 12, 33, 9, 34, 13, 11, 15, 69, 20, 12, 25, 78, 10, 67, 54, 17, 101, 29, 17, 83, 21, 12, 41, 15, 96, 29, 17, 16, 12, 10, 31, 59, 11, 46, 113, 21, 34, 15, 59, 72, 12, 127, 59, 47, 24, 21, 25, 47, 49, 36, 18, 30, 21, 19, 14, 34, 31, 25, 35, 19, 16, 21, 20, 23, 32, 50, 24, 57, 100, 33, 43, 24, 9, 27, 45, 36, 10, 11, 21, 17, 14, 25, 8, 6, 33, 29, 7, 49, 8, 20, 53, 51, 92, 31, 52, 3, 8, 57, 101, 7, 78, 8, 8, 30, 10, 25, 14, 59, 20, 13, 48, 19, 24, 46, 67, 14, 13, 134, 21, 27, 11, 43, 8, 26, 35, 25, 32, 54, 19, 26, 137, 62, 27, 6, 12, 55, 61, 51, 26, 13, 22, 17, 19, 9, 11, 18, 18, 54, 45, 49, 29, 73, 138, 32, 53, 11, 12, 29, 13, 24, 9, 9, 21, 7, 15, 10, 15, 22, 53, 10, 48, 11, 68, 34, 19, 26, 25, 55, 23, 33, 47, 14, 52, 10, 19, 10, 16, 13, 59, 23, 46, 29, 22, 10, 19, 31, 15, 25, 29, 48, 12, 101, 20, 31, 15, 30, 11, 31, 42, 10, 30, 37, 77, 33, 58, 53, 66, 42, 13, 39, 38, 109, 23, 30, 72, 23, 9, 30, 17, 52, 60, 22, 52, 28, 10, 24, 57, 45, 38, 28, 62, 84, 146, 61, 21, 219, 77, 85, 42, 22, 19, 97, 22, 8, 13, 22, 41, 70, 50, 32, 22, 20, 62, 58, 26, 21, 73, 44, 110, 91, 50, 101, 48, 23, 38, 32, 67, 51, 56, 49, 78, 27, 43, 44, 49, 49, 43, 68, 80, 31, 12, 75, 21, 13, 9, 16, 28, 93, 33, 20, 19, 79, 17, 31, 31, 20, 22, 26, 60, 34, 37, 85, 84, 77, 53, 40, 18, 63, 30, 23, 9, 18, 58, 16, 80, 39, 17, 40, 23, 42, 24, 98, 50, 24, 19, 57, 20, 31, 82, 40, 90, 22, 41, 34, 34, 52, 32, 58, 19, 44, 11, 145, 60, 34, 95, 61, 58, 132, 43, 37, 29, 34, 17, 21, 57, 93, 48, 61, 57, 16, 44, 74, 27, 38, 41, 15, 50, 69, 68, 9, 16, 20, 41, 45, 20, 20, 51, 41, 55, 28, 35, 115, 165, 16, 18, 56, 49, 52, 37, 19, 29, 19, 108, 75, 34, 113, 42, 51, 69, 74, 120, 55, 29, 45, 36, 35, 26, 107, 17, 27, 15, 42, 26, 54, 47, 17, 14, 28, 141, 53, 44, 57, 126, 44, 116, 38, 33, 14, 17, 83, 18, 44, 88, 95, 346, 35, 159, 39, 51, 24, 40, 17, 27, 130, 24, 29, 64, 24, 66, 33, 47, 26, 84, 82, 19, 20, 49, 125, 22, 15, 41, 34, 37, 10, 42, 24, 30, 46, 29, 17, 181, 16, 24, 25, 12, 20, 11, 12, 50, 57, 33, 104, 28, 23, 52, 37, 32, 30, 122, 165, 20, 78, 83, 53, 61, 48, 30, 75, 60, 36, 43, 32, 75, 28, 140, 72, 93, 59, 16, 25, 7, 9, 18, 23, 15, 26, 40, 37, 10, 29, 35, 45, 30, 44, 38, 124, 43, 24, 31, 40, 33, 24, 74, 37, 12, 44, 49, 49, 30, 166, 47, 51, 35, 35, 21, 30, 64, 36, 37, 39, 17, 17, 7, 21, 15, 12, 29, 36, 17, 26, 16, 15, 33, 87, 22, 19, 7, 12, 23, 98, 31, 14, 18, 15, 18, 160, 25, 29, 13, 19, 57, 9, 22, 27, 20, 35, 32, 34, 16, 18, 49, 58, 17, 22, 22, 11, 9, 12, 28, 23, 19, 38, 25, 53, 21, 20, 14, 38, 26, 18, 32, 30, 12, 19, 65, 24, 48, 14, 9, 12, 93, 49, 22, 18, 14, 15, 13, 21, 19, 40, 10, 38, 108, 8, 15, 16, 9, 10, 11, 24, 31, 31, 17, 10, 11, 79, 27, 48, 34, 31, 16, 13, 22, 11, 27, 51, 78, 40, 18, 24, 49, 168, 45, 50, 21, 19, 15, 19, 24, 45, 9, 34, 189, 78, 35, 35, 9, 10, 30, 19, 47, 45, 24, 35, 31, 24, 31, 60, 15, 49, 34, 55, 41, 12, 13, 30, 38, 30, 66, 73, 15, 59, 21, 94, 12, 9, 7, 41, 24, 24, 9, 10, 19, 54, 26, 51, 14, 17, 17, 14, 14, 13, 72, 88, 12, 8, 24, 10, 37, 33, 14, 7, 25, 39, 18, 43, 11, 12, 25, 30, 11, 22, 11, 10, 38, 10, 19, 20, 20, 23, 66, 16, 64, 25, 28, 15, 19, 11, 58, 18, 21, 12, 14, 38, 35, 72, 29, 29, 26, 10, 29, 11, 13, 13, 12, 22, 14, 11, 44, 9, 116, 11, 21, 10, 12, 163, 21, 34, 11, 70, 18, 23, 18, 59, 13, 81, 23, 11, 37, 52, 13, 12, 10, 23, 10, 15, 10, 28, 14, 4, 60, 14, 77, 47, 12, 76, 23, 109, 26, 19, 29, 28, 11, 26, 28, 63, 16, 38, 57, 19, 34, 27, 11, 29, 17, 15, 14, 73, 40, 19, 25, 22, 38, 54, 16, 10, 26, 22, 10, 21, 25, 72, 11, 38, 59, 58, 37, 66, 13, 14, 28, 18, 45, 16, 19, 14, 13, 17, 32, 47, 41, 47, 113, 19, 33, 10, 55, 14, 16, 36, 21, 8, 21, 21, 35, 161, 36, 56, 38, 16, 27, 17, 40, 19, 43, 26, 96, 31, 21, 28, 27, 10, 23, 10, 15, 10, 24, 13, 11, 29, 19, 9, 9, 16, 24, 18, 10, 23, 21, 13, 28, 10, 13, 13, 28, 66, 16, 15, 20, 23, 46, 19, 20, 31, 13, 18, 99, 7, 30, 18, 14, 79, 15, 22, 14, 15, 17, 12, 17, 15, 6, 18, 18, 9, 68, 107, 68, 36, 20, 19, 28, 8, 60, 47, 33, 115, 20, 68, 14, 11, 4, 11, 15, 18, 7, 10, 17, 89, 16, 7, 42, 23, 31, 43, 38, 59, 8, 14, 12, 11, 27, 12, 16, 20, 23, 158, 34, 25, 17, 23, 20, 22, 12, 14, 62, 28, 42, 35, 36, 68, 17, 42, 54, 89, 30, 29, 22, 21, 18, 11, 12, 25, 12, 44, 21, 19, 17, 19, 11, 9, 39, 24, 50, 20, 11, 43, 41, 47, 15, 14, 24, 67, 37, 35, 38, 24, 39, 16, 35, 22, 20, 17, 28, 51, 12, 43, 26, 81, 61, 16, 26, 37, 45, 26, 17, 27, 29, 27, 39, 50, 9, 9, 13, 11, 19, 22, 12, 74, 16, 18, 3, 32, 30, 7, 15, 43, 62, 8, 11, 14, 10, 18, 13, 13, 15, 21, 34, 13, 15, 11, 17, 56, 89, 60, 36, 13, 21, 9, 11, 38, 13, 78, 22, 27, 44, 18, 17, 8, 14, 39, 8, 12, 29, 11, 31, 25, 10, 12, 15, 46, 25, 23, 21, 14, 12, 7, 16, 12, 36, 15, 35, 38, 63, 40, 12, 26, 36, 31, 29, 10, 8, 16, 7, 13, 49, 27, 44, 38, 14, 29, 21, 55, 16, 20, 50, 52, 10, 32, 16, 22, 11, 16, 23, 24, 6, 32, 13, 13, 26, 9, 39, 29, 39, 7, 52, 23, 72, 176, 13, 49, 22, 213, 70, 23, 73, 37, 15, 77, 43, 9, 20, 22, 31, 17, 28, 33, 7, 9, 33, 12, 27, 14, 33, 74, 11, 22, 14, 16, 11, 13, 14, 10, 10, 21, 20, 16, 12, 62, 37, 18, 29, 17, 28, 51, 46, 25, 74, 24, 17, 14, 24, 14, 17, 14, 32, 18, 22, 13, 24, 48, 37, 44, 23, 14, 226, 17, 52, 13, 107, 115, 46, 38, 33, 54, 100, 41, 54, 26, 21, 64, 59, 48, 43, 43, 22, 26, 75, 88, 70, 58, 37, 57, 35, 37, 192, 33, 4, 72, 29, 51, 22, 9, 50, 31, 20, 126, 28, 22, 24, 15, 7, 23, 22, 20, 42, 31, 35, 39, 72, 21, 10, 51, 31, 13, 16, 15, 67, 31, 27, 135, 6, 43, 14, 11, 9, 59, 35, 38, 25, 119, 44, 32, 10, 14, 16, 11, 10, 13, 24, 22, 95, 41, 40, 10, 16, 58, 26, 40, 43, 11, 26, 4, 21, 8, 44, 16, 56, 42, 22, 19, 12, 35, 23, 14, 29, 15, 24, 10, 57, 14, 61, 14, 7, 6, 47, 17, 14, 13, 40, 13, 11, 56, 16, 21, 31, 17, 38, 18, 40, 21, 25, 37, 31, 226, 21, 47, 27, 85, 18, 49, 38, 83, 8, 10, 9, 9, 24, 47, 15, 30, 15, 11, 15, 8, 25, 12, 9, 41, 38, 12, 28, 10, 13, 22, 28, 51, 34, 15, 30, 66, 8, 18, 13, 95, 12, 3, 23, 11, 12, 10, 14, 18, 27, 48, 10, 12, 20, 41, 10, 9, 79, 11, 20, 14, 38, 7, 27, 35, 46, 8, 27, 8, 32, 14, 34, 108, 36, 16, 26, 6, 11, 10, 28, 128, 43, 42, 21, 39, 32, 15, 42, 51, 23, 48, 38, 11, 160, 227, 6, 21, 80, 44, 67, 29, 11, 59, 38, 50, 110, 91, 76, 64, 69, 71, 39, 10, 85, 11, 10, 25, 41, 15, 38, 19, 43, 34, 6, 30, 7, 134, 25, 56, 27, 57, 25, 38, 12, 13, 10, 32, 50, 29, 16, 45, 41, 47, 19, 10, 13, 8, 15, 56, 15, 52, 98, 95, 29, 31, 48, 10, 19, 17, 72, 27, 49, 10, 74, 33, 22, 12, 20, 90, 15, 19, 9, 20, 18, 22, 34, 98, 28, 10, 12, 14, 9, 14, 10, 29, 37, 14, 32, 14, 15, 14, 29, 10, 65, 22, 47, 36, 12, 13, 7, 15, 12, 48, 90, 85, 38, 10, 6, 110, 10, 11, 14, 43, 32, 27, 69, 37, 10, 29, 23, 33, 23, 32, 27, 37, 66, 12, 16, 28, 71, 22, 13, 47, 14, 13, 42, 12, 37, 30, 14, 31, 106, 10, 37, 56, 26, 14, 9, 27, 33, 9, 59, 11, 26, 27, 42, 54, 96, 30, 20, 8, 13, 15, 21, 406, 40, 34, 16, 10, 17, 16, 16, 13, 14, 25, 18, 17, 51, 11, 48, 14, 9, 25, 14, 17, 20, 15, 16, 20, 20, 11, 32, 10, 121, 9, 21, 9, 15, 25, 23, 13, 20, 61, 12, 14, 12, 17, 32, 21, 18, 23, 37, 49, 45, 31, 34, 16, 17, 182, 28, 12, 29, 39, 46, 11, 22, 19, 26, 10, 11, 11, 13, 76, 21, 71, 27, 58, 9, 16, 26, 95, 57, 35, 58, 51, 30, 32, 18, 8, 57, 54, 16, 14, 48, 10, 22, 26, 17, 7, 25, 46, 56, 14, 23, 20, 15, 18, 109, 16, 18, 38, 20, 48, 13, 19, 13, 17, 80, 35, 16, 27, 12, 18, 10, 23, 12, 12, 13, 19, 60, 10, 124, 17, 200, 32, 18, 11, 31, 18, 23, 62, 51, 38, 130, 39, 20, 21, 30, 28, 31, 37, 36, 24, 18, 24, 29, 12, 19, 33, 41, 15, 33, 9, 21, 24, 9, 51, 21, 19, 30, 23, 16, 5, 4, 37, 25, 40, 12, 119, 11, 21, 19, 21, 51, 25, 13, 11, 10, 12, 15, 40, 13, 81, 161, 20, 25, 23, 11, 19, 83, 48, 30, 22, 25, 18, 28, 9, 28, 11, 17, 33, 7, 35, 19, 16, 34, 74, 26, 28, 21, 17, 10, 10, 29, 49, 49, 11, 33, 76, 27, 9, 14, 43, 21, 17, 18, 8, 13, 7, 20, 54, 41, 14, 17, 25, 37, 12, 27, 61, 10, 53, 24, 25, 16, 13, 12, 53, 17, 20, 13, 16, 13, 18, 18, 17, 15, 14, 17, 25, 26, 24, 19, 14, 34, 48, 63, 15, 24, 10, 19, 52, 13, 30, 18, 10, 13, 10, 6, 55, 16, 38, 12, 13, 9, 35, 9, 12, 9, 12, 26, 19, 42, 45, 11, 12, 11, 9, 29, 21, 14, 14, 9, 37, 80, 71, 126, 88, 68, 84, 25, 115, 32, 10, 21, 12, 12, 9, 10, 42, 26, 20, 21, 26, 31, 73, 16, 20, 16, 7, 17, 15, 10, 10, 16, 23, 10, 18, 13, 24, 12, 102, 23, 18, 22, 15, 13, 10, 12, 24, 23, 10, 30, 29, 15, 15, 11, 71, 12, 21, 26, 106, 28, 10, 16, 52, 49, 8, 20, 20, 14, 13, 28, 12, 50, 9, 22, 9, 12, 28, 15, 13, 9, 45, 35, 30, 13, 10, 14, 8, 44, 14, 18, 12, 60, 10, 14, 110, 13, 15, 14, 9, 8, 10, 8, 40, 20, 55, 16, 12, 24, 17, 17, 83, 42, 12, 18, 24, 13, 27, 13, 128, 20, 26, 16, 9, 15, 15, 10, 7, 12, 17, 22, 19, 18, 18, 13, 6, 23, 16, 9, 106, 13, 17, 19, 40, 21, 59, 10, 8, 97, 24, 13, 17, 15, 7, 14, 20, 11, 11, 49, 17, 16, 23, 12, 7, 7, 18, 12, 49, 11, 37, 33, 25, 18, 13, 7, 10, 18, 14, 36, 9, 42, 8, 14, 10, 34, 17, 12, 20, 33, 14, 9, 8, 11, 9, 25, 13, 7, 38, 25, 24, 20, 36, 14, 12, 13, 21, 21, 10, 22, 28, 11, 9, 74, 26, 33, 26, 7, 14, 16, 11, 21, 57, 43, 17, 10, 49, 65, 29, 19, 48, 10, 35, 8, 32, 8, 61, 16, 41, 13, 32, 7, 50, 22, 23, 21, 20, 21, 11, 7, 15, 19, 10, 16, 16, 11, 40, 53, 14, 25, 25, 55, 54, 19, 36, 23, 24, 9, 14, 13, 24, 18, 60, 11, 22, 12, 101, 132, 22, 16, 24, 12, 114, 10, 26, 40, 19, 41, 11, 13, 36, 8, 53, 43, 16, 16, 60, 33, 42, 45, 60, 47, 39, 8, 18, 43, 16, 27, 46, 26, 19, 19, 16, 14, 17, 23, 22, 19, 50, 22, 9, 23, 22, 13, 10, 78, 32, 21, 50, 11, 25, 13, 14, 14, 9, 18, 17, 8, 8, 36, 8, 15, 12, 12, 28, 9, 9, 78, 12, 8, 36, 10, 17, 59, 65, 190, 96, 122, 26, 66, 86, 41, 36, 18, 25, 64, 19, 18, 19, 29, 12, 11, 709, 26, 49, 11, 36, 20, 60, 23, 11, 68, 27, 71, 29, 9, 35, 33, 25, 18, 13, 28, 20, 10, 33, 86, 31, 12, 14, 33, 63, 26, 15, 19, 11, 98, 70, 17, 66, 23, 8, 81, 10, 10, 17, 6, 7, 32, 22, 16, 8, 12, 25, 51, 34, 27, 85, 52, 73, 43, 44, 7, 35, 14, 23, 20, 29, 17, 46, 26, 23, 16, 9, 54, 37, 18, 20, 8, 26, 52, 9, 30, 8, 12, 30, 16, 13, 9, 21, 15, 25, 10, 12, 15, 24, 21, 35, 34, 9, 35, 13, 15, 21, 57, 61, 52, 30, 45, 52, 109, 65, 43, 46, 47, 45, 28, 9, 62, 22, 14, 32, 26, 50, 10, 28, 25, 21, 10, 32, 9, 11, 12, 21, 50, 27, 12, 27, 26, 26, 11, 28, 62, 20, 25, 23, 46, 22, 42, 10, 25, 33, 30, 63, 9, 28, 43, 96, 37, 25, 39, 58, 57, 42, 42, 42, 15, 16, 19, 70, 14, 16, 9, 23, 15, 12, 36, 18, 17, 13, 138, 19, 8, 21, 27, 11, 22, 64, 40, 9, 57, 82, 13, 19, 47, 10, 11, 14, 9, 14, 6, 51, 24, 15, 8, 12, 15, 11, 33, 39, 21, 21, 10, 11, 19, 8, 9, 15, 15, 11, 12, 8, 12, 15, 13, 9, 20, 13, 32, 18, 9, 6, 42, 22, 8, 29, 30, 19, 8, 15, 16, 21, 20, 16, 80, 28, 10, 81, 56, 14, 24, 41, 39, 13, 18, 11, 110, 65, 12, 10, 20, 12, 9, 11, 79, 10, 12, 26, 15, 35, 44, 51, 18, 43, 14, 8, 8, 36, 9, 9, 15, 17, 6, 48, 18, 19, 11, 45, 43, 15, 23, 10, 10, 50, 6, 5, 38, 24, 20, 22, 10, 21, 12, 14, 8, 74, 12, 9, 18, 34, 18, 22, 6, 87, 63, 8, 14, 28, 12, 23, 8, 12, 49, 12, 12, 37, 12, 13, 27, 22, 47, 35, 15, 17, 8, 32, 13, 37, 49, 47, 23, 95, 70, 27, 59, 62, 13, 26, 60, 35, 30, 41, 47, 57, 13, 37, 11, 57, 10, 12, 10, 16, 36, 21, 18, 51, 76, 15, 26, 13, 60, 8, 37, 39, 65, 58, 34, 60, 43, 55, 167, 34, 16, 14, 12, 76, 12, 11, 13, 49, 133, 32, 17, 69, 40, 13, 22, 69, 57, 34, 46, 19, 51, 51, 40, 69, 8, 18, 30, 10, 15, 12, 53, 13, 41, 10, 27, 12, 15, 19, 16, 15, 24, 6, 53, 37, 34, 19, 14, 9, 48, 9, 9, 20, 50, 23, 74, 30, 21, 81, 10, 98, 72, 72, 30, 32, 27, 86, 69, 82, 54, 67, 26, 21, 61, 90, 87, 50, 26, 45, 40, 10, 13, 109, 19, 18, 29, 30, 41, 55, 16, 27, 89, 14, 51, 9, 14, 18, 55, 26, 8, 11, 45, 59, 6, 26, 55, 26, 125, 38, 26, 21, 16, 14, 18, 51, 10, 25, 13, 43, 14, 31, 9, 18, 24, 6, 21, 24, 41, 98, 34, 38, 30, 26, 38, 44, 36, 18, 38, 13, 22, 23, 10, 71, 32, 30, 32, 107, 40, 65, 91, 56, 26, 42, 14, 24, 35, 18, 45, 28, 10, 26, 37, 17, 32, 32, 51, 8, 26, 58, 18, 11, 13, 81, 32, 26, 52, 53, 72, 13, 9, 14, 24, 40, 16, 28, 31, 49, 37, 10, 10, 16, 24, 19, 37, 62, 21, 71, 28, 20, 19, 12, 65, 22, 16, 21, 72, 6, 11, 31, 56, 14, 20, 17, 35, 116, 21, 11, 11, 50, 42, 72, 48, 32, 88, 15, 96, 46, 5, 22, 33, 13, 24, 21, 12, 31, 11, 12, 14, 13, 11, 20, 26, 12, 40, 20, 11, 26, 17, 61, 20, 34, 13, 21, 113, 27, 54, 38, 135, 17, 590, 19, 40, 13, 13, 8, 14, 29, 7, 22, 16, 24, 15, 23, 21, 11, 10, 18, 11, 46, 17, 18, 54, 19, 22, 19, 11, 21, 43, 12, 55, 207, 63, 24, 18, 14, 52, 29, 14, 32, 65, 32, 21, 71, 28, 77, 16, 23, 18, 7, 51, 11, 20, 54, 16, 62, 107, 128, 27, 93, 225, 27, 28, 27, 64, 20, 157, 110, 18, 51, 20, 107, 14, 187, 32, 58, 33, 50, 16, 19, 42, 18, 6, 15, 25, 32, 82, 16, 32, 24, 11, 6, 9, 36, 9, 27, 23, 16, 18, 26, 10, 15, 58, 13, 37, 47, 19, 16, 96, 14, 9, 12, 14, 24, 14, 13, 17, 11, 15, 21, 8, 75, 64, 14, 18, 26, 13, 32, 28, 14, 14, 122, 27, 21, 67, 43, 59, 88, 32, 78, 28, 77, 131, 63, 18, 10, 35, 31, 66, 9, 80, 41, 247, 40, 45, 805, 34, 56, 26, 67, 42, 27, 17, 23, 20, 12, 24, 19, 28, 11, 32, 12, 92, 20, 15, 17, 11, 11, 22, 31, 15, 220, 116, 23, 14, 9, 13, 20, 14, 21, 24, 63, 6, 19, 17, 24, 51, 12, 77, 24, 24, 45, 15, 17, 33, 7, 9, 36, 96, 43, 11, 48, 32, 25, 16, 16, 11, 38, 18, 62, 9, 18, 17, 28, 40, 21, 12, 59, 11, 9, 81, 14, 29, 27, 80, 17, 32, 13, 15, 18, 16, 32, 20, 25, 87, 132, 17, 51, 21, 14, 45, 20, 14, 14, 24, 10, 22, 12, 12, 9, 17, 42, 20, 17, 11, 11, 18, 45, 16, 13, 23, 32, 21, 27, 72, 14, 20, 31, 18, 50, 17, 27, 35, 22, 15, 21, 20, 11, 10, 18, 15, 13, 34, 6, 9, 36, 15, 16, 25, 20, 11, 11, 30, 21, 34, 33, 52, 14, 22, 70, 18, 11, 80, 31, 72, 63, 38, 25, 34, 13, 27, 11, 29, 21, 58, 12, 12, 9, 26, 38, 60, 21, 19, 117, 17, 11, 21, 10, 27, 24, 31, 36, 12, 34, 23, 14, 56, 17, 27, 6, 11, 23, 25, 83, 25, 9, 33, 43, 68, 55, 6, 22, 7, 17, 9, 9, 33, 27, 5, 14, 8, 6, 12, 14, 112, 25, 21, 10, 16, 63, 8, 7, 11, 14, 46, 6, 6, 23, 57, 9, 12, 12, 11, 11, 39, 19, 11, 23, 7, 78, 21, 9, 102, 16, 11, 22, 26, 37, 25, 37, 46, 11, 21, 94, 29, 16, 29, 19, 35, 11, 29, 45, 9, 55, 27, 16, 11, 14, 14, 19, 30, 22, 93, 15, 6, 24, 16, 38, 22, 21, 9, 4, 18, 10, 9, 8, 14, 13, 32, 9, 26, 134, 74, 44, 13, 30, 13, 13, 93, 37, 33, 24, 22, 32, 17, 10, 18, 8, 10, 52, 7, 14, 80, 12, 17, 5, 17, 30, 14, 11, 47, 13, 14, 12, 6, 16, 6, 19, 23, 28, 17, 24, 10, 23, 13, 55, 13, 17, 29, 24, 37, 9, 59, 25, 20, 7, 28, 19, 12, 9, 17, 19, 20, 61, 47, 20, 11, 13, 29, 12, 10, 54, 37, 27, 12, 47, 26, 27, 37, 13, 13, 23, 44, 45, 8, 14, 22, 16, 26, 45, 28, 47, 55, 15, 15, 34, 16, 8, 19, 118, 56, 14, 17, 27, 19, 10, 26, 20, 71, 12, 20, 30, 27, 12, 15, 23, 15, 79, 92, 23, 23, 35, 34, 26, 72, 40, 21, 71, 19, 23, 10, 47, 8, 18, 16, 34, 10, 16, 16, 28, 20, 10, 23, 3, 73, 12, 11, 42, 39, 33, 35, 8, 19, 37, 18, 27, 29, 8, 11, 32, 15, 25, 9, 14, 49, 33, 14, 13, 8, 19, 104, 26, 32, 7, 9, 15, 37, 19, 16, 30, 54, 122, 14, 52, 29, 8, 26, 18, 46, 18, 62, 12, 23, 8, 22, 10, 76, 22, 11, 19, 46, 15, 52, 18, 54, 16, 6, 8, 18, 13, 11, 16, 10, 26, 49, 18, 30, 33, 35, 54, 21, 31, 29, 117, 31, 152, 48, 20, 43, 59, 48, 10, 51, 23, 165, 49, 8, 13, 51, 14, 45, 10, 12, 30, 89, 14, 16, 52, 19, 20, 13, 10, 13, 47, 183, 27, 25, 19, 44, 18, 36, 95, 10, 23, 74, 8, 8, 12, 46, 14, 15, 17, 9, 42, 9, 47, 82, 44, 20, 11, 14, 22, 14, 55, 62, 49, 31, 14, 68, 17, 12, 13, 19, 47, 13, 22, 9, 22, 14, 45, 73, 15, 17, 15, 68, 112, 23, 41, 26, 17, 13, 25, 46, 16, 23, 54, 12, 11, 33, 8, 55, 30, 13, 75, 22, 52, 17, 87, 10, 54, 134, 21, 63, 19, 27, 40, 56, 18, 27, 17, 13, 17, 31, 101, 29, 35, 19, 10, 12, 20, 68, 63, 21, 29, 10, 42, 19, 12, 8, 11, 47, 12, 76, 13, 14, 8, 15, 12, 19, 23, 82, 8, 48, 39, 27, 23, 36, 21, 37, 18, 39, 14, 8, 8, 9, 13, 15, 6, 23, 17, 20, 14, 29, 45, 8, 11, 11, 11, 18, 21, 40, 53, 13, 26, 25, 7, 63, 27, 21, 32, 33, 17, 7, 8, 9, 6, 13, 10, 55, 16, 22, 8, 23, 10, 11, 78, 20, 30, 32, 26, 26, 56, 41, 25, 138, 10, 27, 45, 26, 20, 21, 11, 11, 40, 17, 17, 12, 14, 27, 29, 11, 7, 86, 39, 21, 17, 29, 17, 15, 45, 25, 21, 25, 19, 15, 33, 11, 30, 19, 40, 14, 29, 44, 21, 10, 13, 52, 43, 13, 36, 20, 10, 12, 30, 29, 12, 11, 25, 10, 12, 19, 57, 20, 8, 27, 11, 14, 26, 73, 182, 20, 29, 12, 9, 17, 7, 8, 41, 18, 42, 25, 9, 25, 17, 28, 64, 17, 14, 38, 44, 28, 274, 34, 30, 41, 128, 9, 15, 42, 13, 30, 37, 11, 11, 32, 27, 8, 38, 13, 21, 20, 16, 43, 15, 98, 263, 9, 28, 17, 35, 18, 9, 10, 36, 13, 12, 8, 8, 22, 18, 20, 25, 14, 9, 19, 67, 16, 11, 21, 32, 54, 18, 29, 20, 29, 28, 58, 9, 9, 77, 27, 60, 54, 129, 81, 52, 25, 22, 15, 43, 61, 17, 28, 34, 129, 28, 23, 19, 11, 25, 21, 19, 9, 18, 351, 59, 10, 37, 14, 13, 34, 20, 43, 39, 21, 17, 32, 9, 9, 13, 105, 18, 36, 28, 12, 17, 169, 6, 18, 41, 34, 22, 118, 69, 19, 100, 30, 13, 11, 103, 34, 91, 58, 97, 27, 53, 20, 72, 20, 179, 64, 45, 21, 12, 11, 118, 25, 47, 80, 13, 39, 12, 19, 101, 21, 26, 10, 34, 33, 18, 15, 11, 5, 24, 27, 10, 11, 30, 15, 128, 134, 48, 15, 35, 16, 12, 75, 9, 49, 12, 15, 38, 28, 25, 26, 11, 17, 82, 14, 58, 32, 16, 10, 7, 44, 45, 33, 112, 12, 24, 19, 31, 41, 20, 16, 70, 12, 11, 11, 23, 11, 15, 15, 26, 18, 27, 39, 39, 12, 18, 18, 8, 19, 7, 8, 26, 35, 34, 41, 49, 67, 17, 14, 31, 15, 36, 52, 22, 21, 23, 153, 19, 48, 9, 11, 14, 19, 63, 68, 92, 13, 13, 67, 85, 18, 16, 80, 47, 12, 124, 22, 22, 23, 26, 29, 22, 61, 36, 93, 84, 88, 15, 89, 13, 26, 32, 125, 14, 25, 17, 9, 13, 12, 18, 36, 10, 9, 15, 26, 76, 14, 16, 15, 48, 20, 11, 32, 7, 5, 24, 37, 40, 23, 9, 71, 39, 32, 41, 25, 25, 16, 18, 76, 44, 25, 30, 11, 39, 14, 11, 17, 45, 43, 8, 23, 18, 22, 81, 11, 40, 54, 56, 36, 22, 88, 43, 13, 18, 7, 9, 66, 17, 128, 9, 96, 11, 13, 30, 18, 18, 42, 14, 42, 37, 8, 12, 32, 12, 37, 29, 8, 14, 11, 20, 15, 21, 60, 214, 24, 15, 40, 62, 31, 21, 19, 32, 19, 36, 90, 35, 32, 15, 11, 18, 12, 36, 18, 11, 10, 42, 28, 10, 70, 14, 28, 26, 16, 8, 41, 30, 28, 14, 25, 19, 22, 54, 51, 27, 56, 31, 24, 29, 12, 44, 14, 17, 10, 25, 19, 20, 16, 10, 138, 35, 67, 10, 33, 20, 84, 41, 35, 21, 30, 42, 26, 22, 72, 50, 22, 22, 10, 39, 25, 35, 57, 25, 12, 12, 20, 15, 23, 32, 10, 17, 24, 15, 17, 50, 22, 10, 21, 18, 19, 99, 64, 18, 10, 55, 64, 37, 10, 6, 37, 50, 13, 34, 12, 14, 67, 29, 16, 11, 8, 17, 54, 17, 19, 30, 13, 22, 74, 85, 45, 12, 43, 152, 5, 58, 17, 14, 22, 75, 12, 34, 42, 25, 15, 33, 23, 16, 53, 40, 50, 13, 38, 4, 114, 17, 15, 10, 7, 13, 18, 25, 61, 16, 31, 12, 22, 21, 12, 11, 40, 8, 23, 86, 18, 7, 9, 29, 42, 22, 24, 14, 23, 13, 29, 13, 27, 36, 27, 23, 7, 20, 13, 53, 35, 10, 11, 51, 48, 28, 40, 21, 22, 51, 19, 14, 12, 43, 77, 12, 14, 9, 25, 6, 15, 9, 33, 16, 172, 8, 20, 7, 34, 46, 68, 17, 12, 16, 13, 43, 15, 17, 8, 47, 35, 20, 30, 54, 35, 18, 40, 36, 49, 27, 25, 29, 13, 19, 59, 9, 32, 12, 63, 54, 25, 14, 15, 32, 27, 41, 7, 46, 12, 45, 45, 11, 54, 253, 28, 15, 52, 35, 43, 57, 21, 24, 81, 20, 16, 38, 17, 22, 52, 14, 18, 21, 39, 14, 24, 18, 19, 14, 9, 20, 14, 11, 48, 35, 18, 11, 12, 11, 27, 43, 17, 37, 14, 55, 88, 100, 10, 42, 14, 8, 13, 22, 72, 31, 14, 37, 53, 80, 15, 40, 17, 6, 17, 10, 179, 18, 56, 27, 45, 28, 17, 22, 50, 28, 72, 34, 47, 142, 26, 37, 31, 16, 32, 42, 19, 28, 13, 15, 19, 8, 8, 15, 11, 21, 18, 18, 16, 8, 20, 9, 36, 78, 7, 19, 14, 21, 19, 13, 12, 21, 43, 10, 7, 16, 10, 23, 38, 15, 34, 27, 22, 86, 96, 64, 56, 135, 72, 26, 133, 22, 35, 21, 19, 32, 17, 64, 53, 8, 51, 16, 8, 49, 42, 15, 18, 16, 47, 30, 54, 43, 17, 21, 28, 74, 41, 12, 24, 25, 42, 84, 67, 25, 13, 45, 24, 12, 24, 64, 19, 13, 34, 15, 13, 19, 21, 17, 13, 19, 17, 13, 12, 19, 11, 13, 39, 21, 19, 11, 19, 12, 52, 20, 10, 15, 29, 19, 44, 30, 29, 22, 78, 17, 73, 7, 19, 7, 174, 69, 46, 10, 21, 27, 27, 34, 37, 9, 56, 17, 10, 11, 13, 29, 40, 7, 22, 33, 10, 42, 45, 20, 37, 17, 16, 36, 56, 20, 10, 21, 42, 46, 21, 21, 22, 57, 13, 34, 25, 8, 21, 16, 18, 11, 26, 10, 64, 17, 36, 46, 12, 23, 13, 13, 31, 17, 16, 38, 4, 9, 38, 13, 16, 17, 28, 20, 27, 13, 10, 23, 93, 11, 10, 110, 47, 198, 17, 36, 30, 37, 21, 26, 85, 29, 8, 11, 24, 39, 43, 47, 68, 13, 15, 53, 8, 22, 20, 23, 90, 24, 48, 50, 21, 21, 14, 8, 23, 15, 13, 16, 8, 17, 30, 28, 20, 19, 14, 20, 46, 21, 16, 13, 34, 9, 47, 8, 19, 11, 20, 14, 9, 16, 40, 10, 73, 16, 11, 10, 14, 17, 8, 13, 14, 6, 20, 21, 23, 15, 131, 13, 42, 23, 18, 9, 16, 63, 14, 103, 11, 38, 21, 49, 24, 16, 18, 30, 32, 21, 22, 22, 18, 30, 26, 18, 12, 18, 84, 48, 61, 42, 12, 41, 23, 83, 28, 105, 25, 16, 17, 14, 10, 129, 46, 10, 13, 11, 52, 52, 24, 65, 56, 29, 24, 63, 20, 119, 30, 11, 36, 9, 6, 164, 11, 51, 14, 14, 16, 14, 30, 13, 8, 11, 28, 27, 13, 9, 42, 6, 79, 24, 30, 31, 34, 42, 33, 20, 8, 33, 15, 45, 8, 34, 25, 18, 7, 13, 6, 32, 6, 15, 22, 29, 27, 18, 45, 7, 9, 6, 11, 7, 20, 28, 21, 58, 54, 44, 25, 7, 15, 29, 26, 12, 11, 14, 18, 103, 36, 67, 41, 12, 8, 162, 17, 21, 20, 13, 8, 99, 33, 16, 24, 20, 16, 23, 24, 55, 26, 15, 19, 19, 30, 14, 38, 32, 22, 46, 24, 38, 21, 39, 51, 61, 84, 14, 12, 96, 197, 38, 46, 20, 44, 11, 205, 100, 19, 22, 33, 22, 11, 27, 29, 7, 14, 11, 16, 18, 27, 51, 11, 22, 10, 53, 102, 20, 40, 67, 13, 22, 18, 13, 61, 22, 75, 12, 29, 9, 21, 9, 54, 9, 19, 16, 59, 62, 66, 88, 17, 10, 10, 12, 16, 17, 33, 12, 68, 7, 40, 11, 12, 18, 11, 18, 14, 49, 43, 31, 17, 49, 15, 13, 28, 12, 13, 8, 27, 7, 21, 16, 12, 22, 11, 11, 45, 63, 11, 39, 19, 13, 12, 14, 38, 32, 18, 20, 8, 23, 12, 20, 68, 14, 18, 17, 15, 28, 26, 61, 19, 31, 27, 65, 13, 14, 14, 26, 6, 25, 14, 26, 9, 10, 28, 16, 72, 28, 46, 30, 17, 10, 12, 50, 13, 23, 9, 120, 67, 13, 23, 20, 10, 35, 16, 35, 22, 63, 99, 26, 56, 66, 42, 7, 48, 18, 36, 51, 11, 10, 20, 24, 23, 22, 16, 8, 14, 47, 25, 18, 42, 9, 89, 20, 56, 12, 43, 19, 48, 68, 31, 58, 61, 38, 214, 15, 10, 40, 10, 49, 76, 53, 32, 29, 33, 31, 24, 254, 80, 75, 31, 36, 66, 25, 15, 13, 10, 20, 19, 28, 6, 79, 27, 47, 14, 77, 14, 10, 8, 11, 244, 33, 85, 23, 16, 16, 46, 34, 16, 21, 47, 52, 15, 35, 23, 18, 31, 14, 30, 29, 54, 27, 13, 15, 38, 23, 14, 22, 7, 16, 51, 12, 51, 25, 40, 47, 73, 44, 23, 52, 215, 50, 37, 63, 28, 32, 8, 54, 20, 68, 38, 10, 54, 9, 15, 13, 10, 17, 41, 31, 13, 58, 19, 36, 56, 31, 51, 8, 39, 11, 14, 39, 22, 58, 62, 54, 11, 10, 11, 6, 23, 7, 79, 15, 18, 19, 9, 17, 31, 26, 8, 49, 10, 37, 21, 19, 36, 33, 24, 39, 12, 10, 7, 26, 27, 21, 32, 33, 10, 53, 23, 14, 45, 32, 9, 15, 7, 43, 30, 34, 73, 21, 24, 25, 33, 12, 16, 10, 11, 11, 10, 24, 48, 16, 40, 18, 32, 10, 7, 18, 12, 30, 22, 12, 8, 17, 9, 15, 30, 20, 16, 29, 31, 26, 21, 11, 6, 15, 8, 65, 36, 11, 7, 14, 9, 23, 24, 6, 13, 54, 82, 24, 48, 12, 15, 32, 21, 20, 26, 36, 19, 13, 11, 18, 22, 35, 34, 38, 27, 23, 20, 20, 12, 32, 67, 24, 97, 11, 71, 27, 15, 24, 28, 21, 11, 31, 15, 24, 12, 21, 11, 19, 44, 45, 16, 26, 26, 70, 14, 13, 9, 18, 6, 12, 30, 83, 22, 40, 21, 9, 22, 32, 37, 24, 21, 57, 19, 28, 39, 49, 25, 16, 11, 17, 22, 11, 100, 41, 45, 42, 16, 19, 41, 47, 12, 64, 11, 11, 18, 21, 12, 33, 16, 12, 8, 15, 22, 21, 17, 15, 7, 47, 21, 50, 37, 27, 25, 6, 35, 38, 10, 13, 37, 11, 15, 31, 17, 13, 14, 18, 34, 27, 25, 84, 21, 13, 8, 14, 18, 118, 93, 21, 30, 21, 20, 37, 11, 79, 24, 22, 29, 12, 15, 17, 35, 35, 8, 12, 18, 16, 12, 15, 16, 33, 21, 25, 10, 9, 13, 37, 37, 9, 13, 9, 12, 8, 20, 38, 12, 10, 61, 14, 33, 44, 48, 23, 26, 18, 7, 59, 18, 34, 85, 63, 17, 51, 43, 23, 16, 20, 29, 55, 12, 19, 78, 45, 13, 20, 14, 42, 16, 10, 38, 28, 23, 25, 43, 55, 20, 18, 8, 27, 44, 150, 49, 33, 51, 11, 22, 22, 85, 17, 18, 33, 40, 19, 43, 8, 11, 14, 23, 26, 56, 16, 11, 9, 9, 11, 9, 46, 87, 15, 8, 24, 62, 25, 17, 48, 21, 17, 34, 32, 104, 12, 33, 29, 64, 36, 27, 18, 33, 72, 31, 24, 18, 14, 31, 19, 93, 65, 43, 49, 92, 154, 13, 50, 49, 55, 30, 24, 138, 131, 99, 48, 37, 32, 17, 38, 40, 19, 41, 76, 28, 17, 65, 167, 48, 38, 29, 51, 37, 22, 10, 111, 16, 20, 38, 26, 14, 10, 61, 38, 35, 9, 39, 23, 11, 10, 26, 30, 9, 17, 9, 37, 18, 21, 20, 6, 22, 33, 44, 58, 83, 8, 30, 11, 40, 11, 137, 29, 18, 64, 12, 34, 83, 14, 27, 21, 29, 29, 15, 46, 46, 29, 20, 8, 12, 24, 21, 43, 48, 17, 8, 10, 22, 49, 13, 46, 31, 16, 41, 18, 11, 11, 36, 24, 62, 22, 56, 18, 15, 16, 192, 16, 28, 5, 16, 6, 19, 15, 38, 99, 75, 13, 103, 17, 30, 32, 57, 8, 58, 10, 30, 11, 16, 10, 5, 8, 16, 22, 9, 42, 14, 23, 41, 66, 16, 26, 40, 19, 10, 33, 27, 23, 10, 73, 14, 70, 25, 15, 14, 11, 35, 26, 34, 39, 15, 9, 27, 14, 7, 16, 13, 23, 30, 30, 11, 8, 40, 42, 13, 15, 10, 13, 11, 59, 22, 25, 43, 40, 37, 26, 17, 37, 25, 26, 28, 43, 90, 24, 36, 19, 27, 12, 55, 64, 19, 16, 19, 17, 41, 28, 57, 67, 159, 10, 19, 14, 17, 8, 87, 26, 45, 123, 30, 52, 11, 10, 17, 11, 58, 19, 122, 19, 8, 10, 21, 33, 6, 36, 16, 32, 20, 23, 17, 83, 73, 15, 12, 4, 23, 15, 5, 6, 21, 6, 20, 16, 41, 55, 42, 19, 41, 8, 54, 17, 25, 36, 27, 39, 7, 10, 14, 13, 17, 48, 11, 46, 35, 10, 22, 14, 9, 38, 28, 29, 25, 40, 101, 9, 9, 7, 15, 29, 19, 16, 21, 11, 9, 54, 9, 34, 22, 4, 9, 41, 20, 10, 38, 10, 20, 20, 21, 9, 31, 18, 49, 12, 18, 33, 34, 30, 22, 23, 15, 11, 21, 18, 27, 13, 21, 32, 27, 8, 6, 17, 14, 54, 69, 8, 10, 58, 23, 13, 57, 57, 43, 51, 61, 46, 87, 133, 15, 238, 11, 13, 20, 113, 21, 16, 40, 12, 93, 8, 16, 18, 54, 23, 28, 50, 28, 67, 47, 49, 43, 20, 93, 55, 32, 20, 22, 115, 60, 244, 23, 17, 24, 10, 12, 15, 16, 13, 18, 150, 103, 11, 53, 18, 43, 45, 63, 19, 12, 39, 94, 124, 68, 19, 70, 54, 38, 129, 82, 30, 51, 115, 111, 28, 17, 61, 55, 16, 59, 74, 10, 16, 42, 30, 40, 26, 12, 39, 55, 29, 39, 48, 30, 71, 52, 36, 47, 6, 71, 33, 66, 27, 24, 63, 68, 71, 100, 38, 46, 104, 192, 52, 27, 19, 24, 16, 70, 77, 47, 51, 51, 80, 57, 33, 57, 55, 28, 24, 196, 71, 74, 80, 85, 51, 39, 23, 68, 18, 27, 60, 156, 34, 52, 24, 245, 60, 41, 15, 103, 46, 22, 53, 11, 49, 26, 16, 29, 23, 15, 15, 10, 12, 18, 13, 20, 15, 25, 23, 25, 15, 29, 19, 13, 20, 9, 28, 32, 8, 12, 27, 11, 42, 44, 37, 10, 34, 31, 26, 27, 73, 24, 50, 31, 68, 24, 12, 86, 30, 40, 11, 35, 29, 10, 31, 33, 28, 47, 16, 21, 25, 58, 11, 16, 11, 44, 35, 9, 12, 15, 16, 23, 12, 14, 12, 241, 77, 177, 71, 129, 69, 8, 59, 73, 25, 70, 42, 31, 36, 191, 20, 46, 29, 17, 108, 20, 73, 77, 14, 47, 92, 10, 13, 20, 74, 29, 32, 33, 25, 24, 11, 97, 16, 12, 26, 17, 16, 13, 62, 11, 33, 13, 52, 35, 50, 26, 15, 48, 42, 26, 36, 64, 20, 20, 25, 14, 31, 34, 33, 24, 20, 20, 18, 9, 20, 15, 14, 17, 32, 10, 47, 12, 23, 29, 18, 13, 27, 29, 13, 64, 25, 33, 58, 14, 18, 85, 32, 65, 8, 8, 40, 42, 56, 34, 35, 33, 18, 14, 31, 14, 50, 92, 12, 49, 31, 56, 36, 13, 59, 40, 13, 69, 62, 29, 78, 37, 31, 10, 11, 22, 14, 25, 71, 56, 8, 27, 35, 91, 14, 19, 53, 22, 34, 37, 33, 9, 70, 10, 30, 7, 60, 84, 22, 26, 54, 46, 24, 52, 32, 18, 20, 50, 85, 70, 38, 66, 31, 50, 28, 20, 74, 14, 141, 107, 58, 33, 45, 39, 31, 42, 26, 13, 36, 50, 11, 40, 22, 15, 29, 57, 23, 24, 117, 36, 24, 27, 16, 12, 25, 28, 34, 67, 49, 28, 17, 10, 25, 83, 16, 53, 44, 34, 11, 17, 60, 30, 19, 27, 32, 22, 16, 29, 55, 14, 6, 7, 33, 7, 10, 13, 105, 18, 10, 74, 9, 9, 7, 46, 14, 6, 7, 17, 175, 31, 17, 21, 21, 36, 64, 11, 4, 10, 37, 11, 19, 36, 16, 13, 13, 15, 14, 17, 18, 8, 13, 23, 39, 9, 28, 12, 31, 7, 22, 6, 28, 15, 12, 13, 42, 13, 59, 11, 8, 21, 15, 32, 31, 25, 10, 23, 7, 11, 18, 7, 76, 30, 25, 31, 33, 32, 39, 44, 22, 9, 37, 8, 69, 31, 39, 17, 34, 24, 23, 24, 81, 34, 15, 39, 61, 41, 18, 11, 43, 29, 16, 27, 17, 24, 10, 17, 13, 26, 8, 10, 30, 8, 10, 18, 12, 48, 8, 65, 10, 12, 11, 25, 15, 14, 14, 13, 10, 35, 16, 18, 17, 9, 48, 7, 26, 27, 37, 14, 16, 10, 16, 40, 12, 8, 22, 17, 8, 14, 32, 47, 19, 7, 30, 84, 54, 18, 9, 12, 36, 13, 20, 12, 68, 47, 33, 18, 22, 26, 36, 16, 32, 18, 85, 34, 17, 12, 80, 75, 40, 53, 29, 33, 36, 43, 23, 9, 12, 33, 28, 64, 100, 101, 65, 11, 14, 32, 72, 18, 29, 13, 28, 38, 7, 18, 34, 25, 13, 50, 50, 63, 13, 44, 14, 173, 70, 25, 15, 18, 59, 12, 22, 44, 10, 22, 48, 71, 46, 10, 41, 15, 13, 23, 24, 20, 23, 172, 18, 20, 12, 10, 30, 36, 9, 15, 17, 23, 27, 12, 33, 18, 8, 169, 44, 127, 11, 9, 7, 12, 34, 14, 56, 11, 17, 14, 12, 19, 14, 22, 137, 5, 18, 88, 4, 6, 8, 12, 15, 16, 27, 27, 18, 33, 20, 46, 17, 66, 14, 29, 17, 15, 21, 20, 72, 16, 14, 24, 47, 14, 23, 24, 20, 8, 9, 14, 7, 41, 65, 16, 23, 24, 14, 54, 16, 17, 15, 14, 18, 66, 67, 26, 9, 45, 14, 21, 14, 9, 46, 12, 18, 25, 37, 21, 11, 17, 23, 25, 28, 86, 63, 71, 103, 15, 31, 68, 53, 74, 38, 29, 15, 31, 18, 48, 31, 66, 27, 10, 43, 17, 9, 40, 27, 34, 22, 60, 49, 36, 10, 14, 16, 22, 88, 21, 62, 26, 57, 15, 13, 28, 10, 12, 23, 28, 23, 16, 48, 41, 11, 8, 24, 24, 117, 178, 21, 9, 24, 46, 33, 29, 78, 13, 86, 21, 83, 14, 11, 30, 22, 26, 20, 70, 47, 15, 53, 37, 24, 16, 10, 35, 13, 51, 12, 7, 38, 19, 31, 15, 27, 9, 9, 11, 26, 40, 15, 8, 69, 23, 17, 14, 12, 22, 62, 10, 23, 6, 19, 27, 43, 64, 29, 11, 8, 116, 17, 14, 10, 45, 14, 11, 17, 13, 21, 15, 33, 151, 12, 17, 128, 11, 25, 11, 25, 13, 19, 21, 12, 36, 10, 12, 23, 25, 9, 6, 6, 58, 29, 68, 8, 73, 39, 45, 27, 35, 37, 31, 27, 41, 37, 51, 19, 25, 34, 60, 58, 28, 20, 186, 33, 62, 32, 32, 106, 31, 30, 43, 113, 40, 120, 66, 137, 66, 40, 28, 50, 31, 44, 35, 28, 30, 57, 40, 68, 51, 29, 131, 105, 181, 30, 60, 58, 220, 62, 51, 40, 94, 23, 112, 102, 34, 34, 44, 61, 34, 80, 64, 64, 189, 65, 97, 40, 20, 22, 45, 90, 52, 28, 17, 78, 79, 47, 53, 186, 149, 74, 95, 57, 90, 86, 25, 28, 50, 93, 83, 81, 57, 84, 186, 118, 53, 55, 70, 19, 312, 207, 64, 20, 49, 138, 20, 91, 64, 108, 95, 70, 22, 179, 92, 55, 46, 53, 91, 69, 49, 125, 43, 49, 82, 40, 145, 75, 15, 23, 201, 50, 35, 37, 27, 50, 42, 37, 107, 44, 50, 44, 71, 81, 50, 63, 38, 78, 55, 164, 111, 74, 61, 87, 46, 79, 38, 18, 44, 174, 7, 75, 99, 130, 87, 39, 54, 29, 119, 58, 80, 130, 54, 46, 13, 65, 55, 105, 14, 57, 90, 63, 38, 36, 22, 40, 70, 11, 64, 70, 46, 46, 28, 108, 69, 36, 20, 13, 74, 28, 76, 29, 46, 27, 161, 12, 50, 118, 53, 224, 100, 70, 47, 29, 12, 87, 26, 19, 7, 25, 27, 36, 20, 37, 26, 26, 75, 27, 16, 35, 43, 32, 20, 73, 50, 67, 17, 39, 44, 84, 42, 14, 42, 35, 121, 24, 13, 22, 20, 150, 34, 12, 27, 70, 71, 16, 198, 39, 29, 56, 25, 30, 31, 36, 17, 101, 33, 36, 52, 25, 55, 53, 11, 33, 71, 169, 47, 44, 11, 12, 21, 27, 99, 19, 11, 14, 32, 13, 77, 11, 20, 34, 79, 14, 33, 13, 17, 25, 17, 47, 31, 56, 18, 60, 80, 67, 11, 18, 31, 27, 39, 78, 11, 27, 39, 17, 91, 21, 13, 63, 15, 55, 13, 27, 24, 87, 12, 9, 62, 29, 13, 13, 16, 35, 24, 32, 14, 13, 48, 23, 49, 36, 38, 70, 54, 31, 44, 9, 19, 16, 12, 11, 14, 28, 52, 8, 5, 17, 29, 37, 85, 24, 18, 22, 24, 39, 105, 82, 17, 36, 7, 24, 14, 50, 26, 25, 9, 75, 24, 15, 15, 7, 6, 7, 23, 12, 40, 40, 14, 27, 33, 15, 37, 43, 16, 38, 29, 15, 11, 12, 17, 18, 12, 11, 20, 81, 10, 12, 32, 13, 35, 43, 12, 37, 16, 15, 76, 31, 21, 13, 12, 28, 52, 26, 64, 11, 36, 44, 25, 13, 34, 32, 42, 12, 39, 21, 14, 13, 18, 39, 37, 55, 20, 17, 36, 33, 8, 21, 33, 28, 20, 30, 63, 14, 12, 8, 15, 13, 39, 64, 38, 10, 18, 12, 22, 14, 45, 41, 10, 17, 28, 19, 17, 18, 36, 22, 29, 15, 21, 10, 59, 23, 19, 13, 56, 27, 26, 9, 13, 13, 35, 86, 15, 10, 47, 17, 8, 51, 15, 24, 11, 10, 46, 18, 28, 40, 15, 12, 75, 33, 27, 54, 18, 25, 33, 14, 86, 25, 10, 17, 28, 15, 13, 12, 23, 31, 25, 12, 26, 98, 7, 42, 14, 6, 10, 11, 10, 21, 30, 9, 17, 11, 9, 21, 12, 13, 12, 19, 27, 17, 10, 17, 58, 8, 9, 23, 10, 20, 11, 13, 19, 9, 23, 14, 12, 11, 12, 18, 18, 17, 73, 17, 11, 10, 24, 24, 13, 19, 20, 13, 16, 37, 21, 11, 61, 17, 16, 80, 55, 18, 35, 124, 42, 40, 73, 20, 21, 14, 23, 26, 76, 97, 22, 34, 37, 50, 31, 76, 43, 19, 10, 53, 111, 12, 9, 19, 37, 31, 56, 8, 55, 13, 15, 16, 7, 47, 10, 8, 18, 10, 16, 19, 30, 11, 13, 25, 17, 13, 18, 64, 12, 15, 32, 13, 17, 13, 34, 22, 47, 14, 9, 15, 12, 9, 50, 39, 12, 12, 20, 23, 26, 36, 9, 26, 18, 35, 14, 15, 11, 13, 8, 21, 13, 37, 17, 9, 23, 12, 14, 11, 13, 41, 82, 27, 9, 22, 40, 20, 22, 27, 16, 15, 40, 32, 41, 16, 9, 82, 68, 12, 67, 15, 14, 47, 32, 27, 51, 39, 15, 25, 91, 34, 27, 34, 51, 37, 12, 30, 83, 32, 20, 51, 10, 19, 18, 34, 12, 8, 8, 30, 28, 36, 10, 14, 69, 50, 27, 26, 80, 17, 51, 51, 15, 8, 17, 23, 45, 26, 11, 75, 10, 11, 21, 20, 23, 17, 30, 46, 37, 10, 45, 22, 43, 14, 11, 8, 284, 34, 49, 55, 201, 89, 34, 27, 77, 65, 49, 121, 70, 70, 54, 22, 70, 15, 40, 43, 31, 174, 21, 12, 12, 16, 11, 52, 30, 98, 71, 36, 30, 39, 9, 13, 70, 14, 20, 8, 76, 13, 60, 27, 8, 28, 19, 18, 26, 14, 11, 18, 44, 20, 9, 25, 35, 17, 6, 23, 23, 25, 13, 10, 78, 114, 26, 16, 29, 154, 79, 24, 39, 92, 9, 17, 16, 49, 25, 14, 14, 17, 82, 43, 5, 43, 72, 11, 10, 12, 17, 57, 48, 25, 16, 32, 59, 18, 13, 26, 11, 23, 14, 6, 19, 29, 10, 31, 10, 17, 6, 17, 95, 21, 18, 12, 7, 54, 15, 19, 12, 36, 62, 91, 22, 69, 55, 10, 67, 17, 5, 28, 143, 31, 31, 6, 114, 68, 53, 21, 10, 64, 23, 51, 145, 19, 16, 19, 14, 37, 313, 18, 15, 14, 13, 116, 20, 23, 11, 91, 53, 33, 15, 11, 28, 67, 31, 17, 20, 78, 41, 16, 17, 17, 89, 58, 45, 13, 7, 10, 8, 10, 21, 57, 24, 29, 7, 13, 59, 33, 73, 18, 15, 41, 13, 18, 18, 32, 45, 12, 17, 16, 36, 25, 27, 9, 3, 21, 11, 20, 18, 38, 55, 31, 44, 22, 31, 27, 14, 12, 31, 27, 99, 46, 45, 9, 39, 39, 21, 17, 9, 23, 15, 30, 19, 15, 35, 29, 9, 7, 9, 15, 20, 6, 9, 19, 6, 10, 9, 12, 14, 13, 9, 10, 8, 13, 8, 11, 13, 13, 19, 31, 27, 30, 12, 36, 8, 12, 12, 12, 14, 14, 20, 9, 11, 34, 23, 45, 7, 30, 20, 17, 16, 19, 8, 20, 17, 149, 88, 45, 9, 28, 22, 45, 15, 7, 14, 8, 26, 29, 86, 42, 48, 16, 11, 18, 40, 25, 32, 22, 16, 25, 7, 58, 17, 35, 30, 15, 16, 20, 6, 13, 13, 14, 46, 30, 34, 22, 17, 8, 12, 140, 51, 70, 23, 9, 18, 33, 12, 102, 43, 21, 32, 46, 40, 58, 26, 21, 14, 56, 16, 93, 15, 67, 51, 48, 9, 19, 10, 11, 23, 34, 14, 12, 34, 29, 42, 31, 20, 15, 58, 10, 9, 15, 8, 15, 7, 9, 18, 15, 17, 26, 13, 26, 17, 24, 7, 29, 32, 11, 13, 27, 97, 17, 7, 13, 10, 16, 12, 15, 16, 17, 9, 11, 34, 49, 57, 23, 11, 13, 50, 39, 67, 26, 48, 20, 15, 22, 18, 31, 37, 50, 10, 124, 41, 37, 33, 11, 19, 21, 117, 29, 23, 14, 24, 18, 54, 14, 114, 12, 32, 58, 8, 39, 123, 173, 24, 95, 69, 125, 175, 84, 63, 33, 50, 156, 95, 96, 38, 52, 50, 14, 57, 101, 13, 60, 35, 94, 77, 111, 151, 82, 99, 30, 66, 44, 38, 15, 13, 62, 66, 93, 64, 57, 87, 31, 18, 43, 21, 19, 47, 57, 16, 24, 33, 56, 12, 15, 11, 38, 45, 37, 17, 44, 9, 99, 19, 56, 15, 53, 10, 43, 38, 31, 31, 43, 77, 77, 15, 26, 49, 27, 97, 40, 36, 40, 60, 78, 28, 107, 62, 45, 99, 83, 82, 41, 107, 24, 50, 67, 84, 129, 39, 67, 9, 26, 109, 44, 32, 53, 94, 55, 40, 46, 16, 56, 62, 42, 13, 49, 14, 52, 55, 25, 36, 13, 12, 49, 64, 11, 20, 22, 9, 74, 11, 11, 13, 9, 10, 16, 28, 36, 21, 37, 61, 58, 32, 32, 17, 52, 130, 21, 150, 111, 10, 42, 17, 24, 33, 8, 25, 21, 9, 22, 11, 22, 53, 43, 38, 25, 12, 15, 19, 16, 9, 21, 19, 83, 8, 35, 27, 16, 17, 21, 16, 13, 26, 34, 100, 200, 8, 33, 28, 8, 13, 119, 23, 13, 7, 12, 16, 19, 10, 30, 19, 56, 55, 20, 33, 11, 87, 16, 10, 8, 12, 9, 38, 31, 24, 16, 23, 36, 8, 20, 23, 15, 22, 10, 66, 22, 8, 38, 52, 6, 31, 32, 10, 12, 12, 10, 18, 14, 24, 117, 10, 10, 19, 13, 85, 145, 15, 95, 25, 28, 22, 8, 49, 64, 79, 12, 21, 34, 18, 11, 10, 55, 21, 17, 26, 11, 13, 19, 43, 14, 14, 16, 24, 7, 44, 35, 13, 35, 21, 67, 26, 18, 54, 41, 32, 11, 17, 26, 7, 51, 21, 7, 9, 11, 22, 22, 18, 29, 8, 17, 85, 16, 42, 17, 9, 12, 19, 11, 13, 9, 10, 122, 102, 12, 9, 38, 68, 8, 22, 36, 11, 13, 10, 12, 5, 10, 22, 21, 17, 27, 12, 38, 12, 26, 16, 17, 21, 22, 20, 14, 28, 19, 6, 17, 3, 9, 22, 68, 49, 68, 25, 14, 78, 14, 18, 44, 7, 19, 22, 27, 23, 33, 21, 15, 19, 36, 47, 47, 25, 34, 3, 12, 82, 75, 13, 21, 31, 30, 23, 55, 92, 20, 25, 34, 122, 17, 25, 19, 18, 33, 12, 10, 24, 34, 25, 75, 15, 12, 37, 15, 20, 15, 9, 18, 29, 21, 32, 19, 134, 36, 19, 15, 26, 8, 21, 26, 11, 29, 70, 19, 13, 11, 13, 16, 9, 45, 45, 9, 30, 12, 12, 42, 49, 8, 35, 34, 72, 18, 42, 18, 19, 11, 48, 79, 20, 137, 55, 20, 11, 20, 7, 52, 21, 37, 10, 10, 10, 19, 8, 21, 17, 41, 32, 61, 34, 8, 14, 27, 13, 40, 12, 18, 26, 25, 53, 21, 6, 18, 22, 13, 10, 12, 61, 49, 18, 159, 26, 18, 67, 7, 9, 33, 62, 14, 10, 25, 9, 11, 20, 12, 17, 14, 11, 42, 17, 6, 17, 13, 23, 10, 28, 25, 8, 71, 22, 12, 17, 32, 39, 12, 130, 14, 14, 8, 22, 11, 36, 26, 11, 10, 9, 11, 11, 11, 17, 6, 25, 11, 12, 11, 15, 58, 8, 15, 46, 15, 188, 12, 15, 18, 20, 32, 25, 32, 11, 21, 33, 15, 19, 30, 10, 12, 17, 13, 14, 11, 24, 13, 27, 14, 11, 10, 21, 31, 37, 10, 6, 16, 22, 35, 40, 21, 21, 9, 27, 109, 17, 26, 12, 20, 8, 37, 70, 22, 9, 7, 67, 72, 17, 67, 21, 9, 20, 10, 21, 71, 64, 11, 194, 44, 11, 26, 5, 12, 24, 22, 32, 59, 22, 40, 17, 9, 36, 15, 14, 14, 6, 29, 15, 13, 21, 23, 17, 13, 14, 35, 12, 36, 43, 13, 18, 9, 23, 15, 17, 24, 10, 17, 13, 41, 12, 19, 14, 27, 15, 9, 22, 9, 11, 23, 13, 20, 13, 40, 17, 42, 16, 26, 36, 15, 27, 13, 24, 11, 10, 12, 15, 10, 18, 18, 43, 36, 36, 22, 9, 35, 13, 14, 10, 89, 34, 54, 42, 14, 33, 53, 26, 19, 12, 49, 10, 34, 47, 20, 20, 136, 90, 21, 10, 20, 11, 15, 12, 17, 25, 19, 14, 28, 22, 27, 128, 82, 34, 23, 17, 16, 35, 21, 13, 15, 8, 17, 18, 13, 5, 13, 4, 34, 45, 15, 14, 22, 40, 9, 34, 12, 19, 10, 12, 22, 64, 14, 16, 42, 30, 46, 18, 36, 30, 61, 54, 27, 12, 31, 130, 44, 41, 15, 14, 27, 36, 31, 37, 12, 82, 15, 28, 32, 6, 6, 54, 12, 34, 59, 7, 82, 12, 27, 79, 61, 15, 30, 43, 23, 137, 67, 62, 36, 28, 58, 25, 28, 19, 18, 10, 13, 23, 27, 50, 21, 38, 23, 7, 7, 22, 19, 57, 110, 27, 28, 13, 46, 30, 14, 31, 47, 28, 16, 12, 29, 51, 53, 73, 232, 148, 265, 91, 22, 48, 76, 38, 12, 26, 88, 69, 44, 139, 115, 35, 37, 20, 39, 8, 11, 37, 14, 47, 8, 44, 33, 94, 79, 41, 48, 56, 64, 105, 150, 31, 105, 20, 9, 63, 58, 26, 16, 40, 28, 34, 12, 45, 54, 52, 31, 15, 68, 74, 28, 37, 17, 16, 59, 20, 23, 32, 55, 62, 16, 19, 4, 33, 31, 12, 4, 24, 5, 5, 13, 19, 57, 25, 40, 96, 20, 6, 8, 26, 16, 18, 15, 34, 119, 22, 20, 59, 49, 51, 15, 21, 30, 125, 8, 86, 17, 10, 7, 14, 11, 32, 18, 16, 12, 35, 124, 26, 55, 30, 26, 40, 27, 31, 8, 30, 25, 111, 27, 142, 45, 6, 22, 44, 6, 17, 23, 43, 12, 15, 24, 23, 38, 10, 15, 17, 33, 34, 114, 35, 14, 19, 68, 9, 25, 60, 17, 13, 24, 13, 19, 14, 15, 204, 50, 30, 11, 33, 10, 7, 45, 18, 17, 16, 9, 12, 9, 11, 47, 20, 9, 12, 13, 8, 16, 33, 27, 12, 14, 17, 11, 19, 11, 10, 67, 13, 14, 21, 22, 7, 42, 12, 9, 18, 34, 13, 15, 21, 12, 38, 22, 14, 19, 25, 14, 15, 17, 34, 13, 9, 10, 22, 7, 40, 39, 39, 18, 15, 27, 68, 11, 31, 46, 29, 13, 14, 13, 16, 42, 18, 21, 29, 7, 9, 10, 12, 34, 12, 15, 8, 13, 10, 16, 12, 15, 10, 11, 9, 9, 10, 8, 12, 9, 16, 13, 9, 9, 53, 21, 10, 39, 15, 23, 7, 20, 14, 31, 18, 41, 24, 9, 16, 22, 25, 18, 11, 13, 15, 11, 21, 8, 14, 24, 8, 8, 23, 41, 22, 16, 14, 78, 27, 16, 12, 17, 21, 9, 5, 23, 31, 11, 46, 7, 8, 7, 28, 51, 10, 9, 21, 13, 22, 13, 71, 25, 35, 16, 21, 7, 11, 15, 11, 35, 16, 17, 18, 40, 13, 11, 43, 35, 18, 14, 24, 13, 9, 67, 25, 17, 18, 14, 26, 11, 18, 32, 8, 18, 41, 19, 25, 10, 10, 12, 9, 76, 13, 11, 19, 25, 77, 26, 14, 15, 13, 10, 15, 9, 15, 22, 11, 14, 24, 21, 13, 6, 15, 10, 17, 52, 22, 16, 14, 14, 12, 30, 10, 13, 15, 9, 22, 8, 24, 20, 19, 9, 14, 8, 16, 19, 21, 15, 8, 12, 16, 20, 17, 26, 14, 29, 10, 66, 27, 15, 12, 33, 18, 26, 14, 83, 30, 22, 31, 94, 34, 33, 19, 23, 14, 13, 29, 15, 15, 8, 9, 8, 57, 13, 122, 25, 23, 61, 15, 52, 13, 29, 14, 32, 21, 58, 111, 33, 55, 20, 14, 6, 17, 20, 31, 26, 21, 9, 60, 9, 11, 29, 30, 12, 25, 90, 16, 7, 12, 13, 20, 9, 58, 17, 82, 18, 25, 136, 14, 26, 57, 8, 13, 63, 10, 11, 58, 18, 22, 28, 39, 27, 38, 27, 15, 83, 26, 32, 10, 34, 21, 100, 64, 45, 29, 9, 75, 107, 17, 16, 12, 6, 28, 24, 9, 11, 29, 7, 25, 49, 11, 36, 86, 25, 24, 26, 18, 11, 13, 18, 92, 11, 92, 52, 17, 35, 23, 27, 89, 51, 34, 77, 46, 76, 8, 56, 58, 50, 60, 13, 38, 27, 15, 25, 25, 16, 77, 25, 106, 145, 50, 10, 14, 99, 35, 18, 32, 21, 20, 124, 20, 22, 39, 18, 40, 53, 45, 70, 34, 50, 60, 31, 58, 72, 120, 36, 58, 17, 22, 60, 18, 70, 52, 41, 28, 84, 20, 53, 37, 53, 78, 35, 14, 28, 13, 39, 47, 46, 18, 38, 35, 24, 25, 48, 29, 48, 31, 46, 36, 45, 59, 27, 59, 55, 82, 38, 80, 59, 68, 26, 78, 25, 99, 20, 28, 35, 38, 18, 24, 16, 50, 68, 44, 11, 24, 15, 8, 4, 32, 49, 9, 129, 60, 34, 24, 24, 35, 33, 35, 49, 30, 41, 82, 18, 34, 41, 19, 92, 45, 99, 30, 99, 103, 53, 49, 22, 10, 54, 29, 46, 257, 40, 37, 30, 48, 57, 219, 50, 30, 11, 46, 53, 98, 12, 64, 28, 38, 8, 44, 26, 11, 25, 23, 44, 38, 36, 75, 54, 37, 39, 34, 129, 114, 54, 16, 32, 51, 18, 59, 21, 12, 71, 27, 22, 34, 12, 66, 15, 25, 139, 51, 34, 31, 20, 77, 44, 18, 98, 40, 17, 23, 72, 96, 19, 98, 33, 42, 46, 34, 53, 74, 23, 23, 36, 22, 42, 24, 32, 49, 40, 50, 103, 58, 17, 15, 47, 40, 341, 131, 31, 89, 97, 29, 31, 23, 55, 33, 42, 29, 35, 19, 9, 16, 29, 14, 29, 23, 38, 45, 34, 37, 35, 333, 31, 17, 18, 25, 51, 33, 78, 45, 95, 52, 71, 83, 39, 64, 46, 43, 61, 36, 65, 43, 47, 17, 62, 51, 92, 46, 66, 40, 61, 26, 97, 23, 10, 33, 108, 33, 125, 42, 41, 36, 40, 25, 40, 86, 28, 27, 37, 70, 62, 60, 22, 44, 126, 40, 49, 24, 26, 37, 50, 43, 11, 13, 8, 55, 43, 40, 27, 10, 39, 26, 24, 6, 12, 74, 15, 44, 11, 33, 14, 11, 20, 107, 48, 48, 26, 20, 38, 13, 39, 22, 10, 25, 18, 10, 21, 19, 10, 22, 41, 28, 20, 16, 17, 16, 12, 16, 13, 11, 69, 25, 17, 24, 22, 11, 25, 41, 69, 73, 50, 121, 133, 51, 56, 68, 44, 56, 12, 9, 18, 13, 50, 51, 21, 53, 32, 15, 9, 18, 12, 24, 43, 24, 57, 22, 19, 10, 16, 10, 72, 41, 75, 12, 311, 23, 21, 17, 60, 7, 20, 25, 37, 22, 15, 23, 11, 28, 8, 21, 39, 34, 11, 27, 32, 10, 17, 12, 6, 14, 33, 21, 39, 15, 14, 14, 26, 7, 42, 23, 23, 69, 28, 25, 70, 35, 9, 24, 14, 22, 43, 45, 58, 46, 36, 12, 9, 9, 47, 16, 67, 8, 15, 27, 91, 49, 23, 30, 8, 15, 24, 38, 44, 247, 49, 12, 109, 25, 28, 49, 38, 25, 16, 5, 24, 17, 9, 20, 5, 23, 76, 50, 67, 99, 49, 18, 12, 19, 90, 127, 14, 8, 11, 24, 16, 30, 24, 19, 15, 28, 8, 15, 35, 11, 20, 18, 13, 11, 20, 6, 40, 5, 36, 14, 10, 16, 43, 9, 55, 11, 12, 26, 21, 35, 17, 27, 7, 218, 200, 48, 15, 17, 16, 9, 49, 36, 42, 14, 10, 15, 26, 12, 22, 75, 54, 10, 60, 7, 47, 29, 30, 73, 55, 80, 21, 13, 41, 50, 10, 33, 20, 40, 29, 8, 47, 22, 7, 15, 28, 104, 25, 26, 9, 39, 16, 87, 11, 25, 23, 12, 31, 61, 13, 16, 24, 20, 20, 20, 110, 46, 70, 14, 18, 17, 26, 7, 11, 16, 14, 8, 71, 125, 19, 21, 31, 20, 20, 137, 20, 48, 8, 86, 36, 83, 22, 31, 20, 65, 30, 11, 9, 6, 14, 30, 19, 20, 17, 42, 84, 41, 12, 31, 11, 20, 21, 51, 98, 16, 172, 68, 10, 41, 19, 18, 14, 36, 24, 19, 126, 7, 20, 19, 25, 21, 10, 6, 10, 45, 69, 17, 13, 33, 35, 16, 19, 39, 13, 11, 38, 61, 8, 21, 32, 23, 13, 64, 11, 21, 10, 36, 21, 6, 20, 22, 12, 8, 11, 30, 22, 25, 24, 20, 9, 11, 17, 15, 18, 17, 10, 17, 24, 33, 87, 8, 32, 8, 17, 7, 26, 38, 52, 10, 67, 28, 19, 26, 82, 24, 11, 14, 56, 19, 13, 28, 5, 15, 27, 29, 23, 14, 8, 46, 12, 24, 24, 29, 10, 21, 33, 4, 16, 8, 12, 8, 8, 11, 8, 17, 18, 20, 24, 105, 20, 22, 11, 8, 48, 54, 16, 24, 6, 35, 24, 33, 13, 7, 37, 28, 18, 22, 18, 86, 108, 27, 67, 10, 7, 13, 25, 6, 8, 15, 60, 21, 18, 17, 20, 40, 84, 85, 6, 57, 12, 53, 12, 7, 12, 19, 19, 11, 17, 67, 22, 19, 7, 14, 10, 58, 11, 12, 38, 28, 9, 12, 11, 14, 20, 24, 10, 44, 9, 17, 17, 16, 35, 11, 13, 27, 14, 74, 18, 13, 38, 46, 49, 12, 9, 30, 22, 11, 33, 23, 40, 18, 11, 33, 11, 11, 11, 11, 7, 19, 56, 17, 31, 16, 13, 13, 44, 13, 55, 43, 15, 51, 20, 100, 19, 10, 6, 56, 10, 33, 8, 31, 30, 17, 23, 30, 18, 17, 16, 55, 34, 11, 43, 28, 13, 50, 8, 11, 12, 20, 14, 13, 35, 39, 8, 8, 33, 10, 13, 12, 15, 10, 22, 11, 21, 9, 13, 34, 17, 15, 12, 34, 13, 28, 22, 10, 8, 68, 19, 16, 22, 17, 11, 7, 10, 18, 36, 30, 44, 47, 28, 37, 9, 27, 25, 13, 28, 67, 13, 17, 50, 52, 37, 14, 56, 11, 23, 30, 7, 54, 34, 27, 62, 25, 15, 30, 27, 21, 53, 28, 59, 27, 22, 31, 25, 10, 16, 10, 40, 55, 10, 14, 17, 15, 12, 8, 25, 26, 19, 59, 26, 38, 62, 40, 52, 41, 45, 32, 7, 53, 62, 45, 37, 43, 9, 13, 54, 9, 6, 44, 15, 68, 14, 28, 29, 23, 31, 32, 16, 17, 11, 21, 23, 17, 8, 23, 19, 22, 32, 24, 21, 23, 11, 11, 48, 30, 13, 8, 42, 91, 46, 35, 7, 30, 15, 30, 75, 28, 23, 6, 21, 7, 40, 51, 25, 45, 38, 28, 23, 15, 23, 16, 53, 47, 64, 38, 19, 12, 27, 34, 66, 31, 11, 112, 15, 11, 74, 36, 27, 24, 31, 9, 92, 50, 37, 13, 22, 41, 18, 23, 13, 26, 34, 8, 78, 27, 10, 8, 7, 29, 19, 23, 29, 52, 26, 22, 21, 31, 17, 28, 35, 49, 38, 44, 12, 76, 137, 217, 18, 44, 101, 40, 38, 53, 71, 14, 38, 15, 19, 21, 40, 12, 22, 16, 16, 7, 22, 58, 17, 38, 22, 20, 15, 14, 23, 51, 11, 34, 26, 39, 73, 16, 24, 43, 16, 15, 18, 157, 35, 13, 46, 29, 17, 25, 21, 92, 41, 53, 25, 18, 45, 37, 47, 34, 36, 27, 11, 28, 7, 20, 29, 16, 78, 21, 24, 12, 35, 20, 10, 17, 8, 19, 83, 10, 9, 10, 7, 19, 26, 44, 26, 9, 53, 21, 18, 23, 13, 11, 19, 13, 9, 13, 11, 19, 27, 20, 24, 21, 7, 9, 61, 15, 32, 28, 55, 13, 17, 56, 32, 15, 59, 66, 10, 19, 15, 23, 8, 14, 27, 27, 53, 17, 15, 18, 44, 87, 15, 21, 14, 33, 13, 14, 66, 40, 33, 40, 10, 18, 30, 23, 73, 22, 13, 12, 8, 24, 33, 18, 25, 80, 80, 14, 14, 26, 15, 25, 53, 11, 12, 11, 8, 15, 26, 23, 11, 39, 26, 52, 46, 45, 41, 4, 9, 40, 6, 18, 28, 81, 48, 33, 20, 15, 20, 10, 74, 50, 39, 28, 29, 17, 38, 64, 21, 47, 11, 10, 13, 42, 29, 33, 12, 40, 35, 71, 52, 157, 9, 20, 18, 18, 32, 32, 29, 31, 21, 51, 10, 14, 12, 9, 40, 9, 32, 31, 25, 23, 17, 33, 10, 60, 72, 12, 16, 46, 30, 35, 11, 70, 39, 19, 12, 22, 19, 23, 15, 15, 18, 19, 42, 35, 43, 9, 13, 26, 21, 14, 52, 34, 36, 49, 27, 12, 14, 60, 35, 51, 32, 53, 17, 48, 17, 17, 17, 42, 42, 11, 27, 7, 12, 43, 22, 41, 19, 35, 23, 15, 20, 23, 52, 67, 35, 30, 153, 8, 221, 11, 25, 30, 16, 17, 44, 64, 70, 37, 12, 51, 42, 25, 28, 37, 15, 38, 11, 17, 99, 40, 17, 36, 66, 60, 28, 10, 20, 45, 45, 21, 24, 31, 31, 43, 18, 25, 29, 17, 9, 24, 23, 68, 16, 79, 70, 21, 16, 17, 49, 12, 9, 11, 26, 7, 39, 33, 24, 37, 11, 29, 63, 20, 24, 23, 28, 26, 21, 9, 14, 22, 17, 12, 21, 34, 25, 13, 39, 42, 22, 79, 92, 114, 35, 14, 13, 31, 28, 13, 8, 25, 24, 9, 13, 31, 21, 18, 14, 20, 28, 17, 15, 55, 95, 18, 21, 26, 21, 55, 42, 36, 10, 10, 63, 50, 16, 29, 11, 22, 15, 19, 31, 21, 83, 53, 23, 13, 18, 77, 10, 18, 11, 27, 19, 35, 21, 52, 81, 16, 37, 19, 21, 14, 74, 16, 8, 31, 57, 55, 42, 24, 38, 11, 31, 21, 53, 57, 26, 41, 25, 76, 23, 22, 407, 40, 28, 30, 22, 40, 60, 46, 17, 16, 45, 18, 12, 66, 30, 42, 46, 23, 16, 69, 32, 29, 14, 48, 14, 12, 59, 24, 27, 25, 20, 33, 37, 26, 18, 83, 17, 52, 6, 68, 19, 23, 19, 18, 25, 13, 59, 33, 15, 11, 8, 27, 24, 234, 16, 18, 22, 34, 11, 39, 48, 34, 11, 35, 22, 13, 51, 21, 10, 29, 30, 16, 30, 52, 29, 12, 32, 14, 22, 14, 60, 63, 37, 27, 34, 19, 41, 20, 12, 32, 22, 13, 49, 27, 24, 48, 38, 15, 75, 57, 9, 13, 20, 12, 45, 21, 11, 147, 27, 20, 9, 13, 23, 14, 13, 46, 39, 41, 41, 22, 39, 37, 18, 12, 23, 7, 15, 62, 85, 156, 9, 10, 9, 21, 51, 89, 45, 19, 19, 39, 53, 73, 9, 13, 30, 12, 39, 26, 27, 35, 85, 205, 36, 46, 13, 39, 10, 37, 24, 20, 25, 18, 21, 13, 25, 11, 14, 11, 7, 13, 114, 54, 40, 18, 42, 16, 45, 10, 16, 17, 17, 19, 20, 26, 26, 30, 18, 16, 10, 13, 30, 21, 14, 12, 34, 10, 28, 13, 85, 24, 41, 21, 10, 40, 63, 31, 21, 48, 53, 40, 23, 54, 11, 10, 41, 62, 16, 62, 54, 9, 11, 47, 23, 35, 8, 22, 36, 12, 12, 57, 8, 9, 18, 10, 19, 20, 36, 25, 18, 66, 19, 13, 18, 37, 31, 39, 35, 13, 10, 24, 52, 22, 27, 21, 18, 19, 19, 12, 65, 23, 28, 16, 116, 29, 92, 28, 31, 16, 38, 66, 24, 37, 99, 70, 35, 16, 14, 33, 20, 26, 55, 9, 40, 16, 15, 44, 43, 59, 11, 16, 66, 32, 23, 11, 73, 19, 12, 9, 236, 45, 13, 63, 12, 13, 45, 68, 83, 21, 52, 11, 27, 13, 58, 25, 8, 11, 29, 21, 7, 9, 12, 50, 41, 10, 35, 10, 210, 61, 44, 27, 28, 23, 13, 9, 23, 13, 28, 34, 11, 12, 12, 40, 41, 37, 11, 7, 7, 19, 9, 20, 14, 30, 20, 14, 44, 57, 37, 9, 10, 19, 47, 185, 68, 59, 24, 102, 28, 13, 49, 99, 27, 11, 24, 9, 34, 28, 24, 19, 73, 79, 29, 25, 45, 37, 28, 13, 9, 62, 118, 9, 50, 80, 12, 23, 51, 12, 61, 22, 50, 21, 28, 12, 33, 27, 10, 81, 8, 12, 46, 16, 47, 138, 14, 30, 13, 9, 35, 90, 26, 22, 22, 31, 18, 12, 30, 17, 13, 20, 9, 16, 13, 7, 26, 36, 132, 27, 100, 114, 43, 81, 242, 126, 13, 15, 30, 11, 16, 23, 118, 40, 13, 24, 17, 68, 56, 110, 18, 20, 23, 56, 23, 49, 20, 10, 27, 59, 39, 55, 151, 10, 39, 24, 13, 5, 37, 39, 12, 10, 37, 52, 65, 11, 25, 30, 10, 25, 58, 38, 41, 45, 21, 35, 33, 11, 41, 18, 27, 35, 13, 10, 14, 13, 13, 11, 29, 15, 41, 32, 12, 29, 18, 11, 36, 18, 7, 19, 18, 8, 10, 13, 38, 13, 8, 17, 8, 51, 9, 30, 31, 37, 113, 54, 61, 11, 57, 14, 13, 22, 30, 61, 10, 15, 22, 37, 17, 31, 8, 16, 42, 20, 41, 59, 10, 21, 8, 22, 13, 14, 35, 38, 15, 22, 165, 27, 159, 117, 53, 100, 16, 24, 20, 17, 52, 13, 12, 66, 14, 26, 53, 8, 44, 16, 8, 87, 29, 28, 60, 46, 9, 7, 138, 129, 103, 16, 44, 71, 32, 27, 8, 48, 31, 87, 158, 14, 59, 36, 14, 34, 59, 13, 24, 116, 50, 26, 36, 22, 20, 22, 60, 10, 72, 9, 133, 50, 54, 27, 31, 12, 23, 11, 61, 45, 24, 42, 22, 20, 8, 14, 12, 29, 13, 20, 49, 26, 12, 25, 70, 23, 17, 97, 27, 11, 9, 120, 25, 36, 189, 15, 137, 186, 15, 168, 29, 18, 18, 24, 8, 32, 195, 22, 32, 58, 16, 7, 33, 10, 12, 51, 7, 10, 9, 8, 17, 9, 81, 9, 58, 31, 29, 23, 16, 12, 7, 61, 41, 41, 43, 21, 76, 61, 47, 12, 10, 32, 21, 88, 32, 75, 42, 111, 53, 30, 155, 81, 46, 44, 25, 40, 8, 33, 32, 8, 16, 14, 18, 24, 10, 24, 8, 142, 11, 66, 23, 11, 125, 15, 43, 122, 17, 11, 53, 175, 26, 42, 110, 16, 34, 19, 17, 26, 18, 6, 76, 107, 11, 75, 16, 12, 72, 61, 21, 24, 24, 18, 34, 50, 51, 23, 30, 22, 101, 14, 25, 42, 22, 26, 18, 56, 10, 30, 25, 23, 23, 23, 26, 13, 45, 11, 14, 32, 31, 90, 36, 8, 29, 48, 28, 13, 17, 64, 69, 15, 20, 11, 12, 23, 16, 11, 27, 40, 22, 14, 22, 22, 9, 9, 13, 15, 34, 15, 15, 12, 38, 55, 33, 33, 43, 11, 44, 39, 18, 14, 24, 31, 32, 18, 54, 28, 48, 30, 11, 24, 9, 20, 18, 64, 13, 49, 65, 51, 18, 164, 31, 24, 11, 42, 50, 13, 23, 26, 45, 74, 15, 86, 4, 28, 78, 12, 25, 8, 11, 14, 51, 40, 14, 56, 133, 29, 12, 16, 27, 35, 24, 15, 11, 18, 30, 28, 73, 23, 27, 12, 13, 50, 9, 195, 19, 8, 14, 9, 50, 47, 8, 10, 19, 9, 72, 22, 15, 48, 16, 143, 43, 32, 11, 27, 27, 19, 30, 18, 30, 15, 18, 67, 24, 9, 75, 36, 62, 14, 21, 81, 11, 22, 22, 98, 74, 112, 42, 71, 70, 42, 22, 84, 51, 52, 86, 142, 70, 15, 66, 47, 16, 42, 94, 107, 11, 17, 77, 13, 41, 15, 21, 57, 52, 69, 19, 44, 15, 45, 56, 14, 56, 24, 18, 40, 25, 23, 63, 18, 19, 32, 43, 48, 72, 23, 48, 87, 19, 61, 23, 75, 41, 46, 24, 33, 108, 71, 63, 84, 32, 40, 37, 21, 53, 127, 78, 44, 25, 42, 29, 14, 10, 20, 32, 63, 39, 54, 108, 40, 17, 66, 18, 11, 15, 18, 25, 16, 9, 11, 19, 21, 11, 32, 15, 10, 26, 51, 44, 66, 25, 37, 44, 12, 29, 35, 52, 67, 42, 77, 23, 36, 56, 70, 29, 7, 25, 13, 22, 47, 23, 55, 18, 12, 13, 9, 20, 79, 17, 47, 19, 16, 37, 8, 33, 11, 21, 25, 14, 116, 8, 13, 49, 47, 12, 30, 24, 11, 18, 26, 34, 19, 52, 32, 17, 20, 14, 13, 89, 22, 22, 9, 13, 16, 36, 34, 23, 58, 10, 15, 25, 49, 45, 47, 14, 29, 38, 16, 26, 19, 19, 50, 12, 10, 15, 10, 9, 43, 14, 15, 17, 55, 8, 56, 26, 17, 19, 7, 11, 51, 11, 18, 73, 21, 19, 14, 11, 40, 48, 52, 92, 15, 27, 7, 25, 19, 40, 27, 12, 28, 22, 12, 57, 14, 24, 12, 12, 31, 22, 157, 15, 22, 17, 65, 18, 9, 45, 34, 42, 27, 22, 38, 22, 23, 7, 11, 15, 19, 6, 17, 12, 41, 46, 13, 9, 8, 35, 18, 8, 12, 18, 11, 24, 8, 6, 147, 23, 17, 26, 47, 11, 11, 22, 66, 34, 33, 9, 47, 129, 13, 22, 31, 18, 27, 11, 14, 17, 12, 9, 44, 38, 26, 54, 69, 81, 7, 20, 20, 7, 13, 10, 45, 16, 26, 18, 36, 65, 17, 40, 11, 21, 36, 26, 7, 70, 23, 35, 14, 42, 17, 56, 9, 17, 67, 13, 9, 9, 30, 8, 70, 30, 31, 9, 11, 110, 46, 27, 33, 79, 52, 16, 26, 10, 96, 141, 27, 19, 34, 11, 22, 31, 51, 49, 33, 28, 17, 25, 30, 36, 14, 23, 67, 78, 39, 141, 188, 58, 31, 39, 30, 82, 26, 30, 54, 79, 33, 61, 33, 30, 32, 63, 234, 79, 24, 37, 18, 83, 44, 56, 473, 108, 52, 255, 85, 24, 208, 123, 172, 32, 118, 85, 63, 80, 12, 130, 32, 30, 126, 92, 182, 16, 117, 36, 66, 71, 89, 53, 51, 55, 27, 14, 7, 36, 42, 104, 25, 17, 61, 60, 25, 33, 200, 86, 42, 30, 58, 80, 34, 27, 6, 79, 23, 88, 40, 62, 51, 107, 20, 32, 70, 17, 19, 30, 59, 22, 61, 30, 73, 78, 82, 77, 41, 32, 56, 53, 69, 19, 253, 15, 84, 68, 36, 15, 8, 94, 38, 15, 19, 17, 10, 12, 15, 13, 23, 69, 32, 49, 13, 39, 40, 50, 46, 17, 17, 37, 33, 33, 76, 17, 20, 35, 38, 41, 10, 11, 12, 57, 40, 19, 69, 50, 26, 40, 30, 35, 23, 18, 21, 16, 29, 14, 13, 43, 19, 9, 9, 14, 47, 38, 28, 11, 10, 15, 24, 25, 26, 11, 55, 21, 31, 16, 11, 58, 49, 8, 14, 22, 41, 45, 74, 37, 16, 46, 20, 23, 30, 113, 19, 38, 19, 46, 55, 79, 24, 29, 29, 35, 8, 6, 27, 13, 13, 20, 18, 8, 23, 24, 57, 44, 18, 49, 22, 8, 24, 45, 15, 34, 27, 47, 24, 31, 17, 62, 25, 13, 14, 34, 38, 24, 8, 32, 28, 23, 24, 17, 25, 9, 11, 17, 9, 35, 14, 9, 29, 10, 15, 14, 31, 8, 37, 32, 14, 20, 29, 60, 68, 16, 28, 60, 16, 22, 57, 10, 47, 18, 44, 34, 16, 34, 24, 58, 23, 50, 55, 382, 67, 63, 26, 49, 14, 49, 83, 48, 25, 31, 32, 39, 13, 10, 39, 28, 40, 28, 59, 32, 256, 121, 22, 50, 39, 189, 63, 46, 28, 66, 51, 36, 48, 91, 43, 20, 59, 78, 33, 91, 77, 59, 30, 41, 23, 29, 7, 59, 12, 59, 35, 11, 40, 19, 117, 126, 16, 11, 20, 24, 97, 24, 29, 34, 25, 11, 46, 17, 55, 8, 40, 33, 28, 13, 29, 20, 69, 18, 39, 60, 13, 33, 11, 18, 61, 27, 28, 41, 18, 10, 24, 40, 73, 27, 50, 53, 26, 19, 21, 15, 9, 27, 18, 17, 24, 15, 15, 11, 15, 29, 22, 8, 24, 25, 37, 15, 50, 10, 50, 56, 22, 21, 29, 25, 123, 21, 12, 24, 40, 42, 98, 10, 27, 49, 9, 40, 12, 38, 33, 20, 44, 95], \"xaxis\": \"x\", \"yaxis\": \"y\"}],\n",
              "                        {\"barmode\": \"relative\", \"legend\": {\"tracegroupgap\": 0}, \"margin\": {\"t\": 60}, \"template\": {\"data\": {\"bar\": [{\"error_x\": {\"color\": \"#2a3f5f\"}, \"error_y\": {\"color\": \"#2a3f5f\"}, \"marker\": {\"line\": {\"color\": \"#E5ECF6\", \"width\": 0.5}}, \"type\": \"bar\"}], \"barpolar\": [{\"marker\": {\"line\": {\"color\": \"#E5ECF6\", \"width\": 0.5}}, \"type\": \"barpolar\"}], \"carpet\": [{\"aaxis\": {\"endlinecolor\": \"#2a3f5f\", \"gridcolor\": \"white\", \"linecolor\": \"white\", \"minorgridcolor\": \"white\", \"startlinecolor\": \"#2a3f5f\"}, \"baxis\": {\"endlinecolor\": \"#2a3f5f\", \"gridcolor\": \"white\", \"linecolor\": \"white\", \"minorgridcolor\": \"white\", \"startlinecolor\": \"#2a3f5f\"}, \"type\": \"carpet\"}], \"choropleth\": [{\"colorbar\": {\"outlinewidth\": 0, \"ticks\": \"\"}, \"type\": \"choropleth\"}], \"contour\": [{\"colorbar\": {\"outlinewidth\": 0, \"ticks\": \"\"}, \"colorscale\": [[0.0, \"#0d0887\"], [0.1111111111111111, \"#46039f\"], [0.2222222222222222, \"#7201a8\"], [0.3333333333333333, \"#9c179e\"], [0.4444444444444444, \"#bd3786\"], [0.5555555555555556, \"#d8576b\"], [0.6666666666666666, \"#ed7953\"], [0.7777777777777778, \"#fb9f3a\"], [0.8888888888888888, \"#fdca26\"], [1.0, \"#f0f921\"]], \"type\": \"contour\"}], \"contourcarpet\": [{\"colorbar\": {\"outlinewidth\": 0, \"ticks\": \"\"}, \"type\": \"contourcarpet\"}], \"heatmap\": [{\"colorbar\": {\"outlinewidth\": 0, \"ticks\": \"\"}, \"colorscale\": [[0.0, \"#0d0887\"], [0.1111111111111111, \"#46039f\"], [0.2222222222222222, \"#7201a8\"], [0.3333333333333333, \"#9c179e\"], [0.4444444444444444, \"#bd3786\"], [0.5555555555555556, \"#d8576b\"], [0.6666666666666666, \"#ed7953\"], [0.7777777777777778, \"#fb9f3a\"], [0.8888888888888888, \"#fdca26\"], [1.0, \"#f0f921\"]], \"type\": \"heatmap\"}], \"heatmapgl\": [{\"colorbar\": {\"outlinewidth\": 0, \"ticks\": \"\"}, \"colorscale\": [[0.0, \"#0d0887\"], [0.1111111111111111, \"#46039f\"], [0.2222222222222222, \"#7201a8\"], [0.3333333333333333, \"#9c179e\"], [0.4444444444444444, \"#bd3786\"], [0.5555555555555556, \"#d8576b\"], [0.6666666666666666, \"#ed7953\"], [0.7777777777777778, \"#fb9f3a\"], [0.8888888888888888, \"#fdca26\"], [1.0, \"#f0f921\"]], \"type\": \"heatmapgl\"}], \"histogram\": [{\"marker\": {\"colorbar\": {\"outlinewidth\": 0, \"ticks\": \"\"}}, \"type\": \"histogram\"}], \"histogram2d\": [{\"colorbar\": {\"outlinewidth\": 0, \"ticks\": \"\"}, \"colorscale\": [[0.0, \"#0d0887\"], [0.1111111111111111, \"#46039f\"], [0.2222222222222222, \"#7201a8\"], [0.3333333333333333, \"#9c179e\"], [0.4444444444444444, \"#bd3786\"], [0.5555555555555556, \"#d8576b\"], [0.6666666666666666, \"#ed7953\"], [0.7777777777777778, \"#fb9f3a\"], [0.8888888888888888, \"#fdca26\"], [1.0, \"#f0f921\"]], \"type\": \"histogram2d\"}], \"histogram2dcontour\": [{\"colorbar\": {\"outlinewidth\": 0, \"ticks\": \"\"}, \"colorscale\": [[0.0, \"#0d0887\"], [0.1111111111111111, \"#46039f\"], [0.2222222222222222, \"#7201a8\"], [0.3333333333333333, \"#9c179e\"], [0.4444444444444444, \"#bd3786\"], [0.5555555555555556, \"#d8576b\"], [0.6666666666666666, \"#ed7953\"], [0.7777777777777778, \"#fb9f3a\"], [0.8888888888888888, \"#fdca26\"], [1.0, \"#f0f921\"]], \"type\": \"histogram2dcontour\"}], \"mesh3d\": [{\"colorbar\": {\"outlinewidth\": 0, \"ticks\": \"\"}, \"type\": \"mesh3d\"}], \"parcoords\": [{\"line\": {\"colorbar\": {\"outlinewidth\": 0, \"ticks\": \"\"}}, \"type\": \"parcoords\"}], \"pie\": [{\"automargin\": true, \"type\": \"pie\"}], \"scatter\": [{\"marker\": {\"colorbar\": {\"outlinewidth\": 0, \"ticks\": \"\"}}, \"type\": \"scatter\"}], \"scatter3d\": [{\"line\": {\"colorbar\": {\"outlinewidth\": 0, \"ticks\": \"\"}}, \"marker\": {\"colorbar\": {\"outlinewidth\": 0, \"ticks\": \"\"}}, \"type\": \"scatter3d\"}], \"scattercarpet\": [{\"marker\": {\"colorbar\": {\"outlinewidth\": 0, \"ticks\": \"\"}}, \"type\": \"scattercarpet\"}], \"scattergeo\": [{\"marker\": {\"colorbar\": {\"outlinewidth\": 0, \"ticks\": \"\"}}, \"type\": \"scattergeo\"}], \"scattergl\": [{\"marker\": {\"colorbar\": {\"outlinewidth\": 0, \"ticks\": \"\"}}, \"type\": \"scattergl\"}], \"scattermapbox\": [{\"marker\": {\"colorbar\": {\"outlinewidth\": 0, \"ticks\": \"\"}}, \"type\": \"scattermapbox\"}], \"scatterpolar\": [{\"marker\": {\"colorbar\": {\"outlinewidth\": 0, \"ticks\": \"\"}}, \"type\": \"scatterpolar\"}], \"scatterpolargl\": [{\"marker\": {\"colorbar\": {\"outlinewidth\": 0, \"ticks\": \"\"}}, \"type\": \"scatterpolargl\"}], \"scatterternary\": [{\"marker\": {\"colorbar\": {\"outlinewidth\": 0, \"ticks\": \"\"}}, \"type\": \"scatterternary\"}], \"surface\": [{\"colorbar\": {\"outlinewidth\": 0, \"ticks\": \"\"}, \"colorscale\": [[0.0, \"#0d0887\"], [0.1111111111111111, \"#46039f\"], [0.2222222222222222, \"#7201a8\"], [0.3333333333333333, \"#9c179e\"], [0.4444444444444444, \"#bd3786\"], [0.5555555555555556, \"#d8576b\"], [0.6666666666666666, \"#ed7953\"], [0.7777777777777778, \"#fb9f3a\"], [0.8888888888888888, \"#fdca26\"], [1.0, \"#f0f921\"]], \"type\": \"surface\"}], \"table\": [{\"cells\": {\"fill\": {\"color\": \"#EBF0F8\"}, \"line\": {\"color\": \"white\"}}, \"header\": {\"fill\": {\"color\": \"#C8D4E3\"}, \"line\": {\"color\": \"white\"}}, \"type\": \"table\"}]}, \"layout\": {\"annotationdefaults\": {\"arrowcolor\": \"#2a3f5f\", \"arrowhead\": 0, \"arrowwidth\": 1}, \"coloraxis\": {\"colorbar\": {\"outlinewidth\": 0, \"ticks\": \"\"}}, \"colorscale\": {\"diverging\": [[0, \"#8e0152\"], [0.1, \"#c51b7d\"], [0.2, \"#de77ae\"], [0.3, \"#f1b6da\"], [0.4, \"#fde0ef\"], [0.5, \"#f7f7f7\"], [0.6, \"#e6f5d0\"], [0.7, \"#b8e186\"], [0.8, \"#7fbc41\"], [0.9, \"#4d9221\"], [1, \"#276419\"]], \"sequential\": [[0.0, \"#0d0887\"], [0.1111111111111111, \"#46039f\"], [0.2222222222222222, \"#7201a8\"], [0.3333333333333333, \"#9c179e\"], [0.4444444444444444, \"#bd3786\"], [0.5555555555555556, \"#d8576b\"], [0.6666666666666666, \"#ed7953\"], [0.7777777777777778, \"#fb9f3a\"], [0.8888888888888888, \"#fdca26\"], [1.0, \"#f0f921\"]], \"sequentialminus\": [[0.0, \"#0d0887\"], [0.1111111111111111, \"#46039f\"], [0.2222222222222222, \"#7201a8\"], [0.3333333333333333, \"#9c179e\"], [0.4444444444444444, \"#bd3786\"], [0.5555555555555556, \"#d8576b\"], [0.6666666666666666, \"#ed7953\"], [0.7777777777777778, \"#fb9f3a\"], [0.8888888888888888, \"#fdca26\"], [1.0, \"#f0f921\"]]}, \"colorway\": [\"#636efa\", \"#EF553B\", \"#00cc96\", \"#ab63fa\", \"#FFA15A\", \"#19d3f3\", \"#FF6692\", \"#B6E880\", \"#FF97FF\", \"#FECB52\"], \"font\": {\"color\": \"#2a3f5f\"}, \"geo\": {\"bgcolor\": \"white\", \"lakecolor\": \"white\", \"landcolor\": \"#E5ECF6\", \"showlakes\": true, \"showland\": true, \"subunitcolor\": \"white\"}, \"hoverlabel\": {\"align\": \"left\"}, \"hovermode\": \"closest\", \"mapbox\": {\"style\": \"light\"}, \"paper_bgcolor\": \"white\", \"plot_bgcolor\": \"#E5ECF6\", \"polar\": {\"angularaxis\": {\"gridcolor\": \"white\", \"linecolor\": \"white\", \"ticks\": \"\"}, \"bgcolor\": \"#E5ECF6\", \"radialaxis\": {\"gridcolor\": \"white\", \"linecolor\": \"white\", \"ticks\": \"\"}}, \"scene\": {\"xaxis\": {\"backgroundcolor\": \"#E5ECF6\", \"gridcolor\": \"white\", \"gridwidth\": 2, \"linecolor\": \"white\", \"showbackground\": true, \"ticks\": \"\", \"zerolinecolor\": \"white\"}, \"yaxis\": {\"backgroundcolor\": \"#E5ECF6\", \"gridcolor\": \"white\", \"gridwidth\": 2, \"linecolor\": \"white\", \"showbackground\": true, \"ticks\": \"\", \"zerolinecolor\": \"white\"}, \"zaxis\": {\"backgroundcolor\": \"#E5ECF6\", \"gridcolor\": \"white\", \"gridwidth\": 2, \"linecolor\": \"white\", \"showbackground\": true, \"ticks\": \"\", \"zerolinecolor\": \"white\"}}, \"shapedefaults\": {\"line\": {\"color\": \"#2a3f5f\"}}, \"ternary\": {\"aaxis\": {\"gridcolor\": \"white\", \"linecolor\": \"white\", \"ticks\": \"\"}, \"baxis\": {\"gridcolor\": \"white\", \"linecolor\": \"white\", \"ticks\": \"\"}, \"bgcolor\": \"#E5ECF6\", \"caxis\": {\"gridcolor\": \"white\", \"linecolor\": \"white\", \"ticks\": \"\"}}, \"title\": {\"x\": 0.05}, \"xaxis\": {\"automargin\": true, \"gridcolor\": \"white\", \"linecolor\": \"white\", \"ticks\": \"\", \"title\": {\"standoff\": 15}, \"zerolinecolor\": \"white\", \"zerolinewidth\": 2}, \"yaxis\": {\"automargin\": true, \"gridcolor\": \"white\", \"linecolor\": \"white\", \"ticks\": \"\", \"title\": {\"standoff\": 15}, \"zerolinecolor\": \"white\", \"zerolinewidth\": 2}}}, \"xaxis\": {\"anchor\": \"y\", \"domain\": [0.0, 1.0], \"title\": {\"text\": \"text_count\"}}, \"yaxis\": {\"anchor\": \"x\", \"domain\": [0.0, 1.0], \"title\": {\"text\": \"count\"}}},\n",
              "                        {\"responsive\": true}\n",
              "                    ).then(function(){\n",
              "                            \n",
              "var gd = document.getElementById('bb4910f3-9f67-4fdf-b2db-d6ccab727708');\n",
              "var x = new MutationObserver(function (mutations, observer) {{\n",
              "        var display = window.getComputedStyle(gd).display;\n",
              "        if (!display || display === 'none') {{\n",
              "            console.log([gd, 'removed!']);\n",
              "            Plotly.purge(gd);\n",
              "            observer.disconnect();\n",
              "        }}\n",
              "}});\n",
              "\n",
              "// Listen for the removal of the full notebook cells\n",
              "var notebookContainer = gd.closest('#notebook-container');\n",
              "if (notebookContainer) {{\n",
              "    x.observe(notebookContainer, {childList: true});\n",
              "}}\n",
              "\n",
              "// Listen for the clearing of the current output cell\n",
              "var outputEl = gd.closest('.output');\n",
              "if (outputEl) {{\n",
              "    x.observe(outputEl, {childList: true});\n",
              "}}\n",
              "\n",
              "                        })\n",
              "                };\n",
              "                \n",
              "            </script>\n",
              "        </div>\n",
              "</body>\n",
              "</html>"
            ]
          },
          "metadata": {
            "tags": []
          }
        }
      ]
    },
    {
      "cell_type": "code",
      "metadata": {
        "colab": {
          "base_uri": "https://localhost:8080/",
          "height": 542
        },
        "id": "BD4gHNJnGIzX",
        "outputId": "00248c6a-075e-4847-aeb9-ea2c1eefb914"
      },
      "source": [
        "fig = px.histogram(count,x ='summary_count')\n",
        "fig.show()"
      ],
      "execution_count": 126,
      "outputs": [
        {
          "output_type": "display_data",
          "data": {
            "text/html": [
              "<html>\n",
              "<head><meta charset=\"utf-8\" /></head>\n",
              "<body>\n",
              "    <div>\n",
              "            <script src=\"https://cdnjs.cloudflare.com/ajax/libs/mathjax/2.7.5/MathJax.js?config=TeX-AMS-MML_SVG\"></script><script type=\"text/javascript\">if (window.MathJax) {MathJax.Hub.Config({SVG: {font: \"STIX-Web\"}});}</script>\n",
              "                <script type=\"text/javascript\">window.PlotlyConfig = {MathJaxConfig: 'local'};</script>\n",
              "        <script src=\"https://cdn.plot.ly/plotly-latest.min.js\"></script>    \n",
              "            <div id=\"d502c044-4605-44f8-b4ff-61cc70512cf3\" class=\"plotly-graph-div\" style=\"height:525px; width:100%;\"></div>\n",
              "            <script type=\"text/javascript\">\n",
              "                \n",
              "                    window.PLOTLYENV=window.PLOTLYENV || {};\n",
              "                    \n",
              "                if (document.getElementById(\"d502c044-4605-44f8-b4ff-61cc70512cf3\")) {\n",
              "                    Plotly.newPlot(\n",
              "                        'd502c044-4605-44f8-b4ff-61cc70512cf3',\n",
              "                        [{\"alignmentgroup\": \"True\", \"bingroup\": \"x\", \"hoverlabel\": {\"namelength\": 0}, \"hovertemplate\": \"summary_count=%{x}<br>count=%{y}\", \"legendgroup\": \"\", \"marker\": {\"color\": \"#636efa\"}, \"name\": \"\", \"offsetgroup\": \"\", \"orientation\": \"v\", \"showlegend\": false, \"type\": \"histogram\", \"x\": [4, 1, 2, 2, 2, 2, 4, 3, 2, 3, 4, 7, 4, 2, 3, 3, 2, 1, 3, 3, 1, 1, 2, 1, 2, 2, 2, 3, 1, 2, 1, 3, 2, 4, 1, 4, 1, 4, 3, 5, 3, 1, 3, 3, 2, 1, 1, 5, 1, 1, 3, 3, 2, 3, 2, 2, 1, 4, 2, 3, 2, 2, 4, 3, 3, 4, 2, 4, 1, 2, 2, 3, 4, 1, 2, 1, 2, 3, 1, 1, 1, 7, 4, 3, 2, 3, 3, 3, 2, 5, 3, 3, 3, 1, 4, 3, 7, 4, 1, 4, 2, 1, 3, 2, 1, 1, 4, 2, 4, 5, 2, 3, 5, 2, 2, 2, 3, 2, 3, 2, 5, 3, 2, 2, 5, 4, 7, 2, 1, 2, 0, 3, 4, 2, 4, 4, 2, 2, 3, 2, 2, 1, 2, 2, 3, 3, 2, 1, 2, 2, 2, 2, 2, 1, 3, 2, 5, 2, 2, 1, 2, 1, 3, 3, 3, 2, 2, 2, 4, 2, 2, 1, 5, 4, 3, 2, 1, 3, 3, 1, 8, 4, 5, 3, 2, 5, 1, 4, 0, 1, 4, 4, 2, 4, 4, 1, 1, 1, 2, 2, 3, 1, 3, 2, 1, 1, 1, 2, 4, 2, 5, 3, 5, 2, 3, 2, 3, 7, 2, 2, 3, 2, 2, 2, 1, 4, 1, 4, 1, 2, 2, 4, 3, 3, 4, 6, 6, 6, 5, 3, 4, 3, 1, 2, 1, 1, 4, 1, 3, 4, 2, 2, 3, 2, 2, 3, 3, 1, 3, 2, 1, 2, 4, 5, 2, 2, 1, 1, 2, 2, 3, 3, 1, 2, 4, 1, 1, 1, 2, 1, 2, 5, 4, 2, 1, 2, 3, 2, 2, 1, 5, 3, 3, 4, 2, 2, 4, 3, 4, 1, 2, 2, 5, 5, 2, 1, 3, 2, 1, 1, 1, 1, 2, 1, 2, 1, 2, 2, 2, 2, 3, 2, 2, 1, 4, 2, 2, 2, 2, 2, 1, 3, 4, 2, 0, 3, 3, 3, 3, 6, 2, 2, 2, 3, 1, 4, 2, 2, 3, 1, 3, 4, 4, 1, 2, 3, 4, 3, 1, 3, 1, 5, 2, 2, 0, 3, 2, 2, 4, 5, 1, 2, 3, 4, 4, 1, 2, 1, 2, 1, 2, 4, 4, 1, 2, 4, 2, 2, 3, 2, 6, 2, 3, 2, 2, 2, 3, 6, 3, 4, 3, 1, 1, 3, 2, 2, 3, 3, 2, 2, 3, 2, 2, 2, 6, 2, 2, 1, 2, 1, 3, 1, 7, 9, 2, 3, 3, 2, 5, 2, 1, 1, 3, 1, 1, 2, 1, 4, 5, 8, 1, 1, 1, 2, 2, 5, 4, 1, 2, 3, 2, 2, 1, 2, 3, 3, 3, 1, 2, 1, 6, 2, 2, 3, 1, 2, 6, 3, 3, 3, 4, 2, 5, 2, 1, 1, 6, 3, 2, 5, 1, 4, 3, 2, 3, 3, 2, 2, 2, 2, 2, 4, 4, 1, 2, 2, 3, 2, 1, 2, 3, 1, 1, 3, 3, 4, 4, 3, 2, 1, 1, 2, 3, 2, 2, 4, 2, 7, 2, 4, 1, 5, 2, 3, 3, 3, 5, 4, 2, 2, 2, 4, 1, 4, 2, 3, 2, 2, 0, 1, 4, 1, 2, 10, 1, 4, 1, 3, 3, 1, 2, 1, 4, 1, 1, 2, 1, 2, 1, 4, 4, 5, 1, 3, 4, 2, 5, 7, 2, 6, 2, 2, 4, 2, 3, 4, 2, 1, 2, 1, 3, 4, 2, 2, 1, 3, 4, 2, 2, 4, 3, 4, 5, 3, 3, 2, 2, 2, 1, 5, 2, 2, 5, 1, 1, 3, 1, 4, 3, 2, 3, 2, 2, 3, 2, 2, 1, 5, 2, 3, 2, 3, 3, 3, 2, 2, 3, 1, 3, 3, 1, 3, 1, 3, 2, 2, 3, 1, 4, 3, 4, 1, 1, 2, 1, 3, 6, 4, 4, 1, 7, 3, 2, 2, 2, 2, 3, 2, 2, 4, 3, 1, 1, 1, 2, 2, 2, 2, 4, 1, 2, 1, 5, 1, 4, 2, 5, 3, 4, 1, 6, 2, 1, 5, 2, 4, 2, 8, 1, 5, 3, 4, 4, 3, 3, 3, 2, 5, 2, 1, 5, 3, 2, 0, 1, 2, 6, 2, 1, 4, 2, 3, 1, 3, 2, 2, 3, 2, 3, 4, 2, 2, 2, 2, 1, 3, 1, 2, 1, 2, 1, 1, 2, 1, 2, 2, 2, 4, 2, 2, 2, 3, 2, 2, 9, 2, 3, 4, 8, 1, 2, 2, 2, 3, 2, 2, 2, 3, 1, 4, 2, 4, 2, 4, 2, 2, 3, 4, 2, 4, 1, 3, 4, 1, 2, 1, 3, 1, 2, 9, 1, 2, 3, 3, 2, 1, 3, 2, 1, 1, 4, 1, 2, 2, 2, 2, 2, 1, 1, 1, 3, 2, 4, 4, 3, 1, 2, 3, 1, 2, 4, 10, 2, 5, 3, 2, 3, 2, 2, 4, 2, 3, 2, 2, 3, 6, 4, 1, 4, 3, 4, 3, 5, 2, 4, 7, 2, 2, 5, 1, 2, 2, 1, 3, 1, 2, 3, 4, 5, 4, 1, 2, 2, 1, 3, 1, 2, 2, 2, 5, 2, 1, 13, 1, 1, 1, 2, 2, 2, 2, 5, 3, 1, 3, 4, 4, 1, 2, 3, 2, 2, 1, 2, 2, 2, 3, 2, 4, 2, 3, 2, 2, 5, 2, 2, 1, 5, 2, 6, 3, 2, 4, 5, 2, 7, 3, 1, 0, 3, 3, 1, 2, 1, 5, 2, 2, 1, 4, 2, 4, 4, 3, 2, 1, 2, 3, 4, 1, 5, 3, 2, 2, 2, 1, 3, 1, 2, 4, 2, 3, 3, 2, 2, 2, 5, 2, 1, 2, 5, 4, 3, 2, 3, 2, 3, 1, 0, 2, 2, 2, 1, 2, 5, 2, 2, 2, 2, 3, 3, 2, 2, 5, 3, 2, 6, 1, 2, 1, 3, 5, 4, 1, 7, 6, 2, 3, 3, 2, 2, 3, 3, 3, 2, 5, 2, 1, 2, 2, 2, 1, 3, 2, 3, 2, 6, 3, 2, 2, 2, 1, 2, 2, 4, 3, 7, 3, 1, 4, 2, 2, 2, 1, 3, 2, 2, 3, 2, 4, 3, 2, 5, 2, 2, 3, 1, 3, 4, 8, 1, 2, 4, 7, 2, 2, 4, 4, 1, 2, 2, 2, 2, 2, 2, 4, 2, 4, 1, 3, 1, 2, 2, 6, 4, 2, 1, 4, 8, 1, 1, 3, 2, 1, 1, 2, 3, 2, 3, 3, 1, 4, 3, 1, 1, 1, 1, 1, 4, 1, 3, 4, 4, 3, 2, 2, 2, 3, 3, 3, 4, 2, 1, 6, 4, 4, 2, 4, 5, 4, 6, 3, 3, 3, 4, 5, 2, 1, 6, 3, 3, 1, 1, 2, 2, 5, 1, 3, 1, 2, 4, 2, 2, 2, 2, 11, 2, 3, 2, 3, 3, 2, 2, 1, 2, 1, 1, 2, 6, 4, 6, 6, 1, 1, 8, 2, 2, 0, 3, 2, 4, 1, 4, 5, 3, 2, 1, 1, 2, 4, 2, 0, 2, 1, 1, 2, 1, 2, 1, 2, 1, 2, 1, 1, 1, 6, 4, 2, 2, 1, 3, 5, 2, 3, 2, 1, 1, 3, 2, 2, 3, 2, 3, 1, 4, 4, 1, 3, 3, 2, 3, 2, 1, 1, 3, 1, 1, 4, 0, 1, 3, 2, 1, 4, 2, 3, 1, 2, 1, 5, 3, 2, 3, 3, 2, 5, 2, 2, 1, 2, 3, 2, 2, 2, 2, 2, 3, 2, 2, 1, 3, 4, 3, 2, 4, 1, 7, 3, 3, 3, 2, 3, 4, 2, 3, 4, 1, 5, 2, 3, 2, 5, 3, 3, 1, 3, 2, 2, 2, 3, 2, 2, 2, 4, 2, 2, 3, 2, 6, 2, 4, 2, 2, 1, 3, 0, 4, 1, 4, 3, 3, 2, 1, 3, 1, 2, 2, 2, 1, 2, 2, 2, 4, 1, 3, 5, 6, 2, 2, 4, 4, 1, 6, 7, 3, 1, 2, 2, 1, 2, 1, 1, 2, 1, 2, 5, 5, 5, 2, 2, 3, 2, 3, 2, 6, 1, 4, 3, 4, 7, 7, 2, 2, 1, 4, 4, 2, 1, 4, 1, 2, 2, 3, 2, 1, 1, 4, 2, 2, 2, 5, 3, 4, 4, 3, 3, 4, 4, 2, 2, 1, 1, 3, 2, 4, 6, 4, 2, 3, 4, 3, 3, 2, 2, 1, 2, 2, 3, 2, 2, 2, 2, 3, 2, 2, 3, 6, 3, 2, 4, 3, 1, 5, 2, 1, 5, 1, 4, 2, 4, 2, 6, 4, 3, 2, 2, 2, 2, 2, 2, 2, 2, 1, 4, 4, 2, 3, 1, 2, 1, 3, 1, 2, 1, 2, 1, 4, 4, 1, 5, 1, 2, 3, 2, 1, 7, 3, 1, 2, 2, 1, 1, 3, 1, 1, 0, 2, 6, 3, 2, 2, 1, 1, 1, 2, 2, 6, 3, 3, 6, 2, 5, 3, 2, 2, 4, 1, 4, 1, 1, 4, 1, 5, 0, 2, 2, 6, 3, 2, 1, 8, 1, 2, 3, 1, 3, 5, 2, 1, 3, 6, 1, 2, 1, 2, 6, 4, 1, 7, 2, 4, 2, 2, 2, 1, 5, 3, 1, 3, 7, 2, 1, 3, 3, 2, 2, 2, 1, 0, 2, 5, 1, 2, 2, 2, 6, 2, 3, 2, 4, 0, 2, 2, 2, 1, 2, 3, 4, 2, 4, 4, 1, 1, 2, 2, 5, 2, 1, 3, 4, 3, 5, 3, 4, 1, 5, 1, 2, 5, 2, 3, 3, 5, 2, 2, 1, 3, 2, 2, 4, 3, 3, 2, 3, 3, 4, 2, 3, 3, 6, 1, 1, 2, 2, 2, 4, 4, 1, 4, 3, 3, 2, 5, 2, 3, 5, 3, 4, 1, 2, 2, 4, 1, 2, 2, 5, 2, 1, 4, 2, 4, 2, 2, 2, 4, 2, 6, 3, 2, 2, 5, 2, 2, 2, 1, 1, 2, 3, 1, 4, 1, 2, 3, 3, 4, 1, 1, 1, 1, 1, 3, 3, 4, 1, 1, 1, 1, 2, 2, 1, 2, 2, 1, 2, 1, 1, 2, 2, 2, 2, 3, 3, 5, 2, 2, 3, 1, 5, 1, 1, 2, 3, 1, 3, 3, 2, 1, 2, 2, 5, 2, 1, 2, 2, 4, 5, 3, 2, 5, 3, 2, 2, 2, 2, 2, 2, 2, 2, 1, 1, 2, 1, 4, 2, 3, 1, 1, 1, 2, 4, 1, 4, 2, 4, 3, 5, 1, 2, 1, 1, 3, 3, 1, 3, 3, 3, 2, 2, 2, 2, 1, 2, 3, 1, 1, 2, 4, 1, 2, 3, 3, 4, 2, 3, 1, 2, 2, 3, 1, 2, 7, 2, 3, 1, 1, 6, 2, 2, 2, 2, 2, 4, 3, 2, 1, 5, 1, 2, 4, 2, 2, 3, 2, 3, 1, 1, 3, 2, 2, 1, 1, 4, 4, 1, 2, 4, 2, 2, 5, 1, 1, 2, 5, 6, 2, 7, 3, 3, 3, 2, 3, 3, 3, 3, 7, 1, 4, 1, 2, 2, 1, 2, 4, 4, 1, 4, 3, 3, 1, 4, 4, 1, 2, 3, 2, 3, 1, 4, 1, 1, 1, 3, 4, 3, 3, 7, 4, 2, 4, 1, 2, 3, 2, 2, 1, 2, 3, 3, 1, 2, 1, 4, 2, 4, 5, 3, 1, 4, 3, 2, 1, 3, 3, 1, 2, 2, 4, 1, 2, 3, 2, 5, 2, 2, 4, 1, 1, 1, 1, 1, 2, 2, 2, 2, 4, 3, 2, 3, 1, 2, 2, 2, 2, 3, 4, 3, 1, 5, 4, 2, 6, 4, 7, 4, 2, 1, 4, 2, 3, 2, 2, 2, 1, 2, 1, 4, 4, 5, 2, 2, 4, 3, 3, 1, 3, 4, 3, 2, 1, 3, 1, 4, 4, 2, 3, 2, 2, 1, 3, 3, 3, 1, 2, 2, 2, 2, 2, 3, 2, 2, 2, 3, 4, 3, 2, 3, 1, 1, 1, 1, 0, 9, 2, 1, 3, 2, 3, 4, 4, 2, 4, 6, 2, 3, 3, 3, 4, 2, 1, 4, 3, 2, 4, 3, 2, 3, 5, 2, 1, 1, 3, 3, 3, 2, 1, 3, 4, 4, 3, 3, 4, 4, 3, 2, 1, 3, 1, 4, 4, 3, 5, 2, 1, 1, 2, 1, 1, 1, 2, 3, 3, 2, 3, 1, 2, 2, 2, 3, 3, 3, 5, 2, 1, 2, 4, 2, 3, 1, 4, 2, 1, 2, 4, 2, 0, 2, 2, 2, 6, 2, 2, 3, 1, 4, 1, 4, 2, 1, 4, 1, 1, 2, 1, 6, 2, 2, 3, 4, 3, 3, 7, 2, 2, 2, 1, 4, 2, 3, 2, 1, 1, 1, 1, 3, 1, 5, 1, 7, 3, 2, 2, 2, 2, 3, 3, 3, 2, 2, 2, 5, 2, 4, 1, 1, 2, 4, 4, 2, 3, 4, 1, 4, 1, 2, 2, 6, 1, 5, 4, 1, 2, 4, 2, 1, 5, 1, 2, 2, 3, 2, 4, 9, 2, 3, 1, 4, 1, 5, 2, 2, 1, 2, 2, 4, 2, 4, 3, 4, 3, 2, 6, 1, 2, 2, 1, 3, 2, 1, 4, 3, 2, 2, 0, 4, 4, 1, 2, 3, 1, 1, 3, 2, 4, 3, 3, 2, 2, 5, 1, 1, 2, 7, 4, 3, 2, 4, 2, 3, 1, 1, 3, 6, 2, 3, 2, 3, 5, 3, 2, 2, 4, 1, 3, 4, 6, 2, 3, 3, 1, 3, 1, 3, 2, 1, 2, 2, 2, 2, 1, 1, 2, 2, 3, 5, 3, 7, 4, 2, 2, 5, 3, 3, 2, 5, 2, 3, 1, 4, 2, 11, 3, 2, 2, 3, 1, 2, 2, 2, 2, 1, 3, 3, 2, 2, 4, 1, 2, 5, 2, 1, 2, 2, 1, 2, 2, 2, 3, 3, 3, 3, 2, 4, 2, 1, 2, 8, 6, 4, 1, 2, 2, 5, 8, 3, 1, 5, 2, 2, 2, 1, 3, 2, 3, 2, 4, 4, 3, 1, 4, 1, 2, 3, 1, 4, 2, 3, 3, 4, 1, 1, 4, 2, 1, 1, 7, 3, 5, 4, 1, 6, 5, 4, 2, 3, 1, 1, 2, 1, 2, 3, 3, 2, 2, 4, 3, 4, 4, 2, 5, 2, 2, 4, 2, 3, 7, 3, 4, 1, 2, 2, 1, 4, 2, 6, 6, 4, 2, 2, 1, 1, 2, 5, 3, 3, 2, 2, 3, 2, 1, 1, 2, 2, 2, 3, 1, 1, 10, 4, 2, 0, 3, 2, 2, 1, 2, 3, 2, 2, 2, 2, 2, 2, 2, 4, 3, 2, 5, 3, 1, 3, 2, 2, 2, 2, 3, 3, 1, 2, 2, 1, 3, 3, 2, 1, 2, 1, 4, 2, 1, 2, 2, 2, 2, 1, 2, 4, 4, 1, 3, 2, 2, 4, 2, 1, 3, 2, 2, 2, 2, 2, 3, 2, 2, 2, 1, 2, 4, 2, 5, 1, 2, 1, 4, 3, 2, 2, 1, 3, 6, 4, 6, 2, 2, 2, 4, 2, 2, 2, 4, 3, 1, 4, 2, 4, 4, 4, 6, 2, 4, 2, 2, 1, 4, 2, 2, 1, 1, 1, 1, 2, 4, 5, 2, 5, 3, 1, 6, 3, 2, 3, 3, 3, 2, 1, 2, 1, 4, 8, 3, 5, 1, 4, 3, 3, 2, 1, 2, 3, 3, 3, 5, 2, 4, 3, 2, 2, 2, 1, 1, 2, 2, 2, 4, 1, 1, 1, 2, 4, 2, 2, 2, 5, 2, 4, 2, 2, 6, 4, 1, 6, 3, 1, 2, 5, 4, 2, 1, 2, 2, 1, 2, 3, 3, 3, 3, 2, 2, 2, 3, 6, 1, 3, 1, 2, 4, 1, 4, 2, 2, 3, 1, 1, 5, 6, 5, 5, 2, 3, 4, 2, 1, 1, 2, 4, 7, 2, 2, 4, 1, 2, 5, 3, 1, 4, 2, 3, 5, 3, 3, 5, 2, 3, 1, 4, 0, 2, 2, 4, 3, 2, 1, 5, 1, 5, 3, 2, 2, 3, 4, 2, 3, 4, 1, 1, 3, 4, 2, 1, 3, 1, 3, 2, 2, 7, 1, 3, 6, 2, 0, 5, 1, 1, 1, 2, 2, 4, 3, 5, 4, 4, 1, 1, 1, 1, 1, 5, 2, 1, 2, 1, 1, 1, 3, 2, 3, 1, 1, 3, 1, 2, 1, 1, 2, 2, 2, 4, 8, 2, 1, 4, 2, 2, 6, 1, 2, 1, 2, 4, 1, 2, 2, 2, 2, 5, 5, 2, 4, 3, 3, 2, 2, 2, 1, 1, 3, 3, 2, 6, 4, 1, 1, 2, 2, 1, 6, 2, 1, 2, 3, 2, 2, 5, 4, 3, 2, 1, 8, 2, 2, 2, 2, 2, 3, 5, 6, 1, 2, 2, 7, 1, 1, 10, 1, 2, 5, 4, 6, 6, 1, 2, 1, 1, 3, 1, 1, 1, 1, 3, 1, 3, 4, 4, 4, 2, 5, 2, 1, 4, 3, 2, 3, 5, 3, 3, 1, 1, 2, 3, 4, 5, 2, 2, 1, 5, 2, 4, 4, 1, 4, 2, 1, 2, 2, 2, 3, 3, 4, 2, 2, 1, 4, 2, 1, 1, 2, 5, 2, 2, 2, 3, 4, 1, 2, 1, 3, 1, 4, 1, 2, 7, 3, 5, 1, 1, 0, 1, 3, 4, 6, 2, 2, 4, 2, 2, 3, 2, 3, 4, 2, 2, 4, 4, 2, 3, 2, 3, 6, 2, 3, 2, 2, 2, 2, 3, 2, 3, 2, 0, 1, 4, 6, 3, 2, 2, 4, 9, 2, 2, 1, 1, 4, 2, 2, 1, 3, 5, 3, 2, 2, 3, 1, 2, 4, 3, 1, 9, 1, 5, 1, 3, 8, 1, 2, 1, 1, 3, 1, 1, 0, 1, 1, 4, 3, 3, 5, 1, 3, 3, 1, 4, 1, 3, 4, 1, 4, 2, 2, 2, 2, 2, 3, 2, 2, 5, 1, 8, 2, 4, 2, 2, 2, 1, 6, 4, 9, 4, 1, 2, 2, 2, 7, 2, 1, 2, 1, 6, 2, 4, 1, 2, 4, 5, 2, 4, 1, 2, 2, 2, 2, 3, 3, 1, 2, 1, 1, 1, 2, 4, 4, 2, 1, 5, 4, 2, 4, 2, 3, 4, 9, 3, 5, 5, 7, 3, 4, 5, 4, 1, 4, 2, 1, 1, 5, 3, 1, 9, 1, 1, 1, 2, 1, 3, 3, 6, 4, 5, 2, 2, 3, 3, 2, 1, 4, 2, 2, 2, 3, 4, 2, 2, 2, 1, 3, 3, 1, 2, 4, 3, 3, 2, 2, 1, 1, 6, 1, 4, 4, 4, 5, 2, 2, 2, 1, 3, 2, 2, 1, 3, 1, 4, 1, 1, 5, 4, 2, 4, 4, 1, 3, 5, 3, 5, 4, 2, 2, 3, 2, 4, 3, 2, 2, 2, 4, 1, 3, 4, 2, 4, 7, 7, 3, 2, 3, 4, 1, 1, 2, 4, 1, 6, 3, 2, 2, 3, 5, 2, 1, 3, 4, 4, 2, 3, 2, 4, 3, 4, 2, 3, 3, 2, 4, 4, 1, 2, 3, 2, 4, 2, 3, 2, 3, 1, 3, 2, 2, 2, 3, 2, 3, 1, 1, 3, 2, 1, 3, 3, 4, 3, 2, 4, 2, 3, 3, 6, 2, 4, 2, 2, 2, 2, 3, 2, 7, 6, 3, 4, 3, 4, 1, 4, 2, 2, 2, 4, 2, 14, 3, 1, 1, 1, 4, 3, 3, 1, 3, 4, 1, 2, 3, 2, 1, 3, 4, 5, 4, 5, 1, 4, 2, 2, 3, 2, 4, 10, 3, 3, 3, 3, 3, 1, 4, 3, 3, 1, 2, 2, 1, 3, 3, 1, 2, 3, 3, 2, 3, 2, 1, 1, 3, 1, 5, 5, 4, 5, 4, 2, 3, 4, 2, 4, 1, 3, 1, 3, 2, 2, 2, 4, 3, 3, 2, 0, 2, 3, 2, 1, 1, 3, 2, 1, 2, 4, 1, 2, 6, 3, 2, 0, 2, 2, 3, 3, 2, 2, 3, 1, 2, 5, 2, 2, 2, 3, 4, 4, 2, 1, 4, 1, 2, 1, 2, 2, 1, 1, 3, 1, 2, 1, 4, 1, 5, 5, 1, 2, 1, 4, 1, 4, 1, 3, 1, 4, 5, 3, 1, 3, 4, 3, 2, 4, 1, 2, 1, 2, 3, 1, 1, 2, 6, 4, 2, 3, 4, 2, 4, 1, 5, 5, 4, 1, 1, 4, 2, 1, 1, 3, 3, 3, 2, 3, 1, 4, 3, 2, 2, 1, 2, 1, 1, 2, 2, 2, 3, 5, 1, 1, 3, 2, 3, 2, 2, 2, 1, 6, 2, 4, 1, 1, 3, 4, 2, 2, 1, 0, 4, 1, 2, 5, 2, 3, 1, 2, 4, 2, 4, 3, 3, 1, 1, 2, 2, 1, 5, 1, 2, 2, 3, 1, 1, 5, 2, 1, 2, 3, 3, 9, 6, 2, 1, 3, 1, 1, 3, 2, 3, 4, 1, 2, 3, 3, 1, 4, 2, 2, 2, 1, 2, 1, 4, 2, 1, 2, 3, 1, 7, 1, 1, 4, 2, 7, 3, 1, 2, 2, 1, 3, 3, 4, 3, 3, 3, 3, 2, 3, 3, 2, 1, 2, 1, 3, 1, 5, 4, 1, 3, 1, 2, 3, 1, 3, 2, 2, 1, 1, 2, 4, 4, 4, 4, 3, 5, 2, 1, 4, 2, 2, 5, 2, 2, 5, 3, 2, 1, 1, 3, 2, 2, 1, 2, 2, 2, 5, 3, 3, 1, 2, 2, 2, 3, 1, 3, 3, 1, 2, 1, 2, 1, 4, 3, 1, 2, 2, 1, 3, 0, 10, 1, 2, 1, 3, 5, 2, 2, 4, 4, 2, 4, 4, 2, 2, 2, 3, 3, 2, 3, 2, 7, 2, 1, 6, 4, 3, 2, 3, 4, 3, 5, 2, 4, 7, 3, 2, 3, 2, 5, 4, 2, 1, 3, 3, 3, 3, 1, 1, 2, 2, 1, 3, 2, 3, 1, 3, 2, 2, 2, 2, 2, 1, 3, 2, 5, 2, 1, 2, 3, 1, 1, 2, 3, 2, 3, 5, 3, 3, 1, 2, 2, 2, 2, 1, 2, 1, 4, 2, 2, 2, 2, 2, 2, 2, 2, 2, 2, 2, 7, 3, 3, 1, 2, 2, 2, 4, 2, 3, 2, 1, 2, 2, 4, 4, 1, 2, 6, 4, 3, 1, 2, 5, 3, 1, 2, 3, 3, 3, 2, 2, 3, 4, 5, 0, 3, 1, 2, 4, 2, 3, 2, 1, 2, 1, 2, 2, 3, 1, 1, 6, 1, 2, 4, 1, 4, 3, 4, 6, 2, 1, 3, 4, 2, 3, 2, 1, 4, 2, 2, 3, 2, 2, 5, 2, 2, 2, 2, 2, 2, 3, 5, 4, 2, 2, 2, 4, 3, 1, 1, 3, 4, 3, 4, 2, 2, 1, 2, 2, 4, 2, 3, 2, 1, 1, 4, 5, 5, 0, 4, 1, 1, 2, 3, 2, 2, 1, 2, 2, 2, 0, 2, 4, 4, 2, 3, 2, 1, 1, 4, 4, 1, 3, 4, 2, 2, 2, 2, 3, 1, 2, 2, 2, 3, 2, 3, 2, 3, 2, 5, 1, 4, 3, 2, 4, 2, 3, 4, 2, 2, 2, 3, 1, 2, 1, 8, 2, 3, 1, 1, 3, 2, 4, 2, 1, 2, 1, 2, 2, 2, 3, 3, 1, 3, 2, 1, 3, 1, 2, 2, 2, 3, 4, 1, 4, 2, 2, 2, 0, 2, 2, 3, 1, 2, 1, 4, 2, 3, 4, 1, 3, 2, 3, 4, 2, 3, 2, 3, 4, 1, 3, 4, 1, 1, 5, 1, 1, 2, 4, 4, 2, 2, 2, 1, 2, 7, 1, 2, 3, 3, 3, 2, 3, 1, 1, 1, 4, 5, 1, 3, 3, 3, 2, 6, 3, 2, 2, 8, 1, 4, 6, 3, 2, 3, 2, 2, 1, 2, 4, 3, 3, 5, 2, 3, 2, 3, 2, 2, 1, 2, 1, 2, 1, 3, 2, 3, 3, 2, 3, 1, 4, 3, 2, 2, 3, 1, 9, 2, 2, 1, 2, 3, 1, 3, 4, 5, 2, 1, 3, 1, 2, 4, 2, 1, 2, 4, 1, 10, 3, 3, 1, 4, 2, 5, 4, 2, 3, 1, 4, 2, 6, 4, 3, 5, 4, 2, 5, 2, 3, 3, 2, 0, 3, 4, 3, 4, 4, 3, 6, 4, 2, 1, 5, 7, 1, 3, 1, 1, 2, 4, 6, 3, 3, 3, 3, 2, 3, 7, 1, 4, 3, 3, 2, 3, 1, 2, 3, 3, 2, 2, 4, 4, 1, 1, 2, 1, 1, 2, 1, 1, 4, 2, 4, 1, 2, 6, 2, 5, 1, 2, 4, 2, 2, 4, 4, 1, 3, 3, 2, 3, 1, 1, 2, 1, 2, 3, 2, 1, 2, 4, 4, 2, 4, 2, 1, 2, 4, 4, 2, 3, 3, 4, 2, 2, 7, 3, 2, 2, 4, 3, 10, 2, 2, 4, 4, 2, 3, 6, 2, 3, 2, 3, 8, 2, 1, 3, 1, 6, 3, 0, 3, 1, 1, 5, 2, 3, 4, 1, 1, 1, 2, 3, 1, 7, 2, 2, 4, 3, 2, 3, 1, 2, 2, 4, 2, 3, 2, 2, 4, 2, 4, 4, 1, 1, 3, 4, 3, 2, 3, 1, 2, 1, 2, 1, 2, 1, 6, 1, 2, 5, 4, 3, 3, 1, 1, 1, 3, 2, 1, 2, 2, 1, 3, 2, 2, 1, 3, 3, 4, 3, 1, 3, 1, 3, 1, 1, 3, 1, 2, 2, 3, 2, 3, 1, 1, 2, 2, 3, 1, 4, 3, 4, 3, 3, 3, 1, 2, 1, 3, 3, 2, 9, 3, 1, 1, 7, 2, 6, 2, 3, 3, 4, 2, 3, 1, 4, 2, 1, 3, 2, 2, 2, 6, 2, 9, 1, 4, 4, 2, 4, 0, 4, 2, 1, 4, 1, 1, 1, 7, 2, 2, 4, 4, 3, 2, 2, 2, 2, 2, 4, 4, 2, 1, 2, 2, 2, 1, 1, 2, 7, 1, 6, 5, 0, 1, 2, 1, 1, 5, 2, 5, 1, 1, 3, 3, 1, 1, 2, 1, 1, 2, 2, 3, 2, 2, 1, 1, 6, 1, 2, 1, 3, 1, 4, 2, 2, 3, 2, 0, 1, 3, 1, 2, 2, 2, 4, 3, 2, 4, 1, 2, 3, 2, 4, 2, 3, 2, 5, 2, 1, 3, 3, 3, 1, 5, 2, 2, 3, 1, 3, 2, 4, 6, 2, 2, 2, 2, 3, 2, 2, 3, 3, 2, 3, 2, 3, 2, 2, 2, 1, 1, 2, 3, 3, 1, 3, 2, 4, 3, 5, 6, 1, 2, 4, 6, 2, 0, 3, 1, 5, 3, 1, 1, 1, 4, 3, 3, 3, 2, 3, 4, 3, 1, 1, 1, 3, 3, 4, 3, 3, 2, 2, 3, 1, 0, 3, 2, 3, 2, 3, 1, 2, 1, 2, 1, 3, 2, 2, 2, 1, 4, 1, 7, 3, 1, 4, 7, 3, 1, 3, 3, 3, 3, 4, 4, 3, 3, 4, 2, 2, 1, 4, 3, 3, 2, 1, 1, 2, 2, 3, 5, 2, 2, 1, 2, 1, 2, 1, 6, 2, 2, 2, 1, 1, 3, 4, 4, 1, 2, 3, 2, 1, 1, 4, 3, 4, 4, 7, 1, 3, 5, 2, 3, 3, 1, 2, 3, 5, 2, 4, 4, 3, 2, 2, 2, 4, 3, 2, 2, 3, 2, 2, 4, 2, 2, 3, 4, 1, 3, 3, 1, 4, 5, 2, 1, 1, 2, 3, 1, 1, 1, 2, 3, 3, 2, 3, 1, 2, 2, 2, 4, 3, 2, 5, 2, 3, 4, 4, 4, 6, 5, 1, 2, 2, 2, 3, 3, 3, 5, 5, 4, 5, 2, 4, 3, 5, 6, 1, 2, 2, 3, 2, 7, 1, 4, 1, 6, 2, 1, 2, 1, 3, 2, 1, 2, 2, 1, 6, 3, 2, 7, 1, 3, 2, 5, 2, 3, 4, 3, 3, 1, 1, 2, 1, 2, 1, 3, 1, 5, 2, 2, 2, 3, 2, 2, 3, 3, 2, 1, 3, 3, 4, 3, 4, 3, 3, 4, 4, 3, 4, 2, 2, 2, 2, 1, 2, 5, 3, 1, 1, 2, 4, 2, 1, 4, 3, 4, 1, 2, 2, 2, 2, 3, 1, 3, 1, 1, 2, 3, 2, 2, 3, 3, 2, 3, 2, 4, 1, 1, 1, 3, 2, 3, 1, 3, 2, 1, 2, 2, 2, 3, 6, 4, 2, 2, 3, 4, 2, 2, 3, 3, 6, 1, 2, 3, 2, 2, 2, 3, 4, 3, 4, 1, 6, 2, 2, 2, 2, 3, 0, 2, 10, 2, 4, 1, 4, 5, 2, 2, 6, 3, 5, 2, 4, 3, 2, 2, 3, 2, 5, 4, 2, 3, 3, 2, 2, 1, 3, 3, 3, 3, 3, 2, 4, 6, 2, 1, 4, 4, 4, 5, 1, 3, 1, 1, 2, 2, 2, 4, 4, 4, 2, 4, 1, 4, 7, 2, 6, 5, 4, 4, 6, 6, 2, 4, 4, 3, 3, 3, 4, 1, 4, 4, 6, 3, 3, 2, 2, 5, 2, 2, 4, 1, 5, 4, 5, 1, 3, 3, 5, 3, 4, 3, 2, 2, 0, 1, 2, 2, 1, 2, 3, 1, 3, 7, 3, 4, 3, 5, 5, 2, 3, 3, 3, 2, 4, 2, 2, 4, 4, 2, 3, 2, 2, 3, 2, 4, 3, 1, 3, 1, 2, 1, 1, 2, 1, 8, 2, 3, 2, 4, 2, 1, 1, 3, 1, 1, 2, 2, 1, 3, 3, 2, 3, 2, 5, 9, 2, 1, 1, 2, 4, 2, 2, 3, 2, 4, 2, 1, 2, 5, 2, 1, 1, 1, 2, 0, 5, 1, 4, 3, 1, 2, 4, 1, 2, 3, 2, 6, 2, 2, 2, 2, 1, 4, 1, 0, 3, 1, 3, 2, 2, 1, 1, 1, 3, 2, 3, 1, 4, 3, 1, 1, 3, 2, 2, 2, 5, 3, 7, 2, 2, 1, 3, 5, 2, 2, 2, 2, 2, 3, 0, 2, 5, 3, 3, 2, 3, 5, 3, 2, 4, 4, 1, 5, 2, 2, 3, 1, 1, 2, 5, 1, 6, 1, 1, 3, 4, 4, 2, 5, 1, 6, 2, 2, 3, 3, 2, 1, 2, 3, 1, 2, 3, 3, 1, 2, 4, 3, 3, 3, 5, 5, 2, 2, 2, 2, 1, 2, 4, 2, 2, 5, 4, 1, 2, 1, 2, 4, 2, 1, 2, 4, 2, 1, 3, 3, 2, 3, 3, 1, 1, 2, 2, 2, 2, 3, 2, 4, 4, 2, 3, 2, 1, 2, 3, 1, 1, 3, 2, 2, 2, 4, 5, 2, 3, 2, 2, 2, 2, 2, 1, 1, 0, 2, 2, 3, 4, 6, 6, 5, 2, 1, 1, 2, 8, 3, 3, 3, 3, 2, 2, 1, 3, 4, 1, 1, 1, 3, 2, 3, 1, 3, 2, 0, 4, 1, 6, 3, 3, 6, 3, 1, 2, 3, 1, 1, 2, 4, 2, 6, 2, 2, 2, 2, 2, 4, 5, 2, 2, 2, 5, 1, 3, 4, 1, 3, 5, 2, 4, 4, 2, 2, 2, 5, 2, 1, 4, 1, 3, 4, 2, 4, 2, 3, 2, 2, 5, 2, 3, 3, 3, 4, 4, 3, 4, 4, 1, 2, 2, 1, 3, 3, 3, 3, 2, 2, 1, 1, 2, 2, 1, 4, 4, 4, 5, 2, 1, 5, 1, 2, 3, 2, 2, 1, 3, 3, 5, 2, 3, 2, 3, 5, 3, 2, 3, 3, 3, 3, 3, 4, 3, 2, 2, 4, 2, 2, 6, 2, 4, 4, 5, 1, 3, 3, 1, 3, 2, 3, 4, 5, 3, 1, 2, 3, 2, 3, 3, 2, 4, 3, 3, 2, 0, 4, 2, 4, 2, 3, 2, 1, 2, 4, 3, 4, 5, 1, 3, 4, 2, 2, 2, 4, 5, 2, 2, 1, 4, 2, 3, 3, 2, 2, 2, 2, 1, 2, 2, 2, 2, 1, 2, 2, 8, 2, 1, 6, 1, 3, 1, 0, 1, 3, 1, 1, 1, 2, 1, 3, 1, 1, 1, 4, 2, 1, 2, 0, 3, 2, 4, 3, 4, 5, 2, 3, 2, 4, 5, 3, 2, 3, 4, 4, 3, 5, 3, 2, 2, 3, 2, 1, 4, 1, 2, 2, 3, 3, 3, 3, 2, 2, 1, 1, 2, 1, 5, 1, 4, 6, 4, 2, 1, 1, 2, 2, 5, 1, 2, 3, 4, 2, 1, 2, 2, 0, 3, 7, 3, 4, 2, 1, 1, 2, 3, 2, 2, 8, 2, 1, 3, 4, 2, 2, 2, 4, 2, 2, 2, 2, 3, 2, 3, 2, 5, 1, 3, 6, 5, 3, 3, 3, 3, 10, 5, 6, 5, 3, 6, 2, 4, 3, 2, 2, 2, 5, 2, 1, 5, 4, 2, 2, 3, 3, 4, 3, 3, 3, 2, 4, 2, 1, 1, 1, 2, 5, 3, 2, 2, 6, 1, 1, 1, 3, 4, 4, 2, 2, 2, 4, 4, 1, 3, 5, 2, 4, 2, 2, 2, 5, 6, 4, 1, 2, 2, 2, 2, 2, 2, 3, 2, 1, 2, 3, 1, 2, 2, 4, 4, 2, 3, 3, 3, 4, 2, 3, 2, 2, 4, 2, 2, 3, 4, 3, 2, 2, 2, 2, 5, 1, 2, 5, 3, 2, 2, 2, 3, 1, 2, 2, 6, 1, 2, 1, 2, 2, 2, 1, 2, 3, 3, 0, 3, 1, 6, 2, 3, 3, 4, 3, 3, 0, 1, 2, 1, 1, 6, 2, 2, 3, 2, 3, 1, 4, 1, 2, 2, 2, 2, 1, 2, 4, 2, 2, 3, 3, 4, 3, 3, 4, 1, 3, 4, 2, 1, 1, 5, 1, 2, 2, 2, 2, 1, 0, 4, 4, 0, 2, 4, 1, 1, 4, 3, 1, 3, 2, 2, 2, 3, 2, 3, 2, 1, 1, 3, 3, 4, 2, 4, 3, 4, 3, 2, 2, 2, 0, 2, 2, 1, 2, 2, 2, 2, 2, 2, 1, 1, 3, 4, 2, 3, 4, 3, 2, 5, 1, 2, 3, 4, 1, 3, 4, 2, 1, 4, 5, 10, 1, 5, 2, 2, 2, 1, 2, 3, 1, 3, 1, 1, 1, 2, 1, 2, 2, 2, 1, 2, 6, 3, 1, 2, 2, 5, 5, 6, 2, 3, 1, 2, 3, 2, 4, 3, 5, 3, 5, 1, 3, 3, 2, 6, 2, 3, 2, 3, 2, 1, 3, 3, 2, 1, 4, 2, 0, 3, 3, 3, 5, 5, 4, 1, 7, 1, 2, 2, 2, 2, 2, 1, 1, 2, 1, 2, 1, 5, 2, 1, 4, 3, 3, 2, 2, 2, 2, 1, 3, 2, 2, 3, 2, 1, 2, 4, 2, 2, 2, 4, 5, 3, 2, 3, 5, 4, 2, 4, 1, 1, 2, 2, 2, 2, 3, 1, 0, 3, 2, 2, 4, 1, 3, 1, 6, 1, 3, 1, 3, 3, 4, 4, 6, 2, 1, 3, 2, 2, 4, 1, 2, 1, 4, 2, 2, 2, 6, 1, 1, 1, 4, 2, 3, 2, 2, 1, 4, 2, 3, 2, 1, 1, 2, 1, 3, 2, 2, 7, 2, 1, 4, 2, 1, 4, 2, 3, 3, 2, 2, 2, 3, 2, 4, 1, 2, 2, 3, 3, 4, 2, 1, 2, 2, 1, 3, 2, 5, 2, 2, 3, 7, 2, 1, 5, 1, 1, 4, 1, 2, 1, 5, 2, 3, 3, 1, 2, 2, 1, 2, 2, 2, 3, 1, 3, 2, 2, 2, 4, 3, 2, 3, 2, 6, 4, 4, 1, 1, 4, 2, 3, 1, 4, 3, 2, 1, 2, 6, 1, 1, 3, 1, 3, 2, 3, 3, 2, 1, 1, 3, 1, 1, 1, 2, 2, 1, 2, 4, 2, 4, 1, 3, 2, 2, 3, 2, 2, 2, 2, 3, 2, 4, 4, 2, 2, 4, 1, 2, 2, 6, 5, 1, 3, 2, 1, 3, 4, 5, 4, 5, 5, 9, 2, 4, 2, 2, 5, 3, 3, 3, 1, 5, 3, 3, 2, 8, 7, 2, 3, 3, 1, 3, 4, 2, 4, 2, 4, 3, 2, 3, 2, 1, 11, 2, 4, 3, 5, 2, 2, 1, 2, 3, 5, 1, 2, 2, 3, 1, 2, 4, 4, 1, 1, 2, 3, 1, 2, 3, 2, 4, 2, 2, 2, 0, 1, 4, 3, 5, 2, 3, 2, 3, 6, 3, 8, 2, 3, 2, 2, 2, 5, 2, 2, 5, 3, 1, 2, 3, 3, 4, 4, 2, 2, 2, 7, 3, 2, 2, 2, 3, 5, 3, 2, 2, 2, 1, 2, 3, 3, 2, 5, 6, 6, 4, 4, 2, 5, 3, 3, 4, 2, 4, 4, 2, 2, 4, 1, 4, 2, 3, 1, 3, 5, 3, 2, 11, 3, 1, 3, 4, 1, 2, 6, 3, 3, 4, 2, 1, 2, 1, 3, 3, 2, 5, 1, 4, 1, 0, 2, 3, 2, 2, 2, 1, 2, 2, 1, 4, 2, 3, 1, 2, 1, 1, 8, 2, 2, 2, 2, 5, 2, 1, 2, 1, 3, 4, 2, 4, 2, 1, 1, 2, 2, 1, 3, 3, 4, 1, 2, 3, 2, 4, 2, 2, 5, 1, 6, 1, 3, 7, 6, 2, 0, 3, 2, 6, 3, 1, 5, 6, 2, 3, 1, 3, 1, 2, 4, 3, 2, 3, 4, 3, 1, 3, 2, 2, 2, 4, 5, 1, 5, 1, 3, 3, 2, 3, 3, 3, 5, 1, 2, 2, 2, 2, 4, 1, 4, 5, 3, 4, 4, 3, 3, 4, 5, 3, 2, 6, 3, 3, 2, 2, 3, 4, 2, 3, 5, 1, 1, 2, 4, 1, 2, 2, 2, 1, 1, 3, 0, 2, 1, 2, 4, 2, 2, 2, 4, 2, 0, 4, 3, 2, 2, 2, 1, 6, 1, 2, 6, 7, 2, 0, 4, 2, 3, 2, 1, 5, 1, 4, 4, 2, 2, 3, 2, 7, 2, 3, 2, 3, 3, 2, 1, 2, 1, 1, 4, 3, 3, 2, 2, 3, 2, 1, 5, 1, 4, 3, 3, 2, 2, 2, 3, 2, 1, 1, 2, 2, 2, 2, 1, 4, 1, 2, 3, 2, 2, 6, 2, 2, 3, 3, 3, 2, 4, 5, 1, 4, 3, 3, 2, 4, 3, 2, 2, 5, 2, 3, 2, 2, 2, 5, 0, 6, 2, 2, 3, 3, 2, 1, 2, 2, 2, 1, 1, 1, 2, 2, 2, 2, 3, 2, 2, 0, 6, 1, 2, 5, 4, 3, 1, 2, 1, 1, 3, 2, 1, 1, 3, 1, 4, 1, 4, 2, 5, 2, 2, 1, 2, 4, 3, 1, 2, 3, 2, 1, 6, 2, 2, 2, 2, 2, 2, 3, 2, 4, 4, 1, 4, 4, 1, 2, 3, 5, 2, 0, 3, 3, 2, 4, 1, 4, 1, 5, 1, 1, 2, 3, 2, 3, 3, 3, 3, 8, 2, 4, 4, 2, 1, 2, 3, 2, 4, 1, 2, 2, 2, 2, 2, 3, 4, 3, 4, 3, 0, 2, 6, 2, 2, 3, 6, 4, 3, 2, 4, 4, 3, 2, 1, 3, 3, 6, 1, 3, 1, 4, 1, 2, 4, 3, 4, 3, 5, 3, 5, 2, 3, 1, 2, 5, 7, 2, 2, 3, 3, 2, 3, 1, 3, 3, 2, 2, 1, 1, 1, 2, 1, 4, 4, 4, 1, 3, 1, 4, 4, 4, 0, 1, 2, 2, 2, 2, 2, 2, 1, 2, 2, 4, 1, 1, 3, 2, 3, 2, 2, 3, 2, 2, 2, 1, 1, 3, 2, 2, 4, 2, 5, 4, 2, 6, 3, 5, 5, 3, 1, 5, 2, 4, 3, 2, 1, 2, 3, 3, 1, 1, 2, 4, 2, 2, 1, 3, 4, 2, 3, 2, 6, 4, 1, 2, 4, 2, 2, 3, 1, 2, 2, 4, 1, 4, 3, 0, 2, 2, 3, 3, 4, 1, 2, 3, 2, 1, 1, 3, 3, 1, 3, 1, 2, 1, 5, 4, 3, 2, 1, 2, 1, 4, 1, 1, 1, 3, 4, 5, 3, 6, 2, 2, 2, 3, 5, 3, 4, 2, 2, 3, 2, 5, 2, 2, 3, 2, 0, 3, 1, 3, 4, 6, 2, 4, 0, 2, 4, 2, 2, 2, 2, 3, 3, 4, 2, 2, 4, 3, 4, 3, 4, 2, 0, 4, 3, 1, 6, 4, 4, 1, 0, 2, 3, 2, 1, 3, 2, 4, 4, 4, 4, 2, 2, 4, 3, 2, 4, 6, 4, 2, 5, 2, 4, 4, 4, 1, 1, 6, 2, 3, 3, 6, 6, 1, 5, 3, 4, 1, 4, 1, 3, 2, 1, 6, 1, 2, 3, 3, 10, 4, 1, 1, 2, 2, 3, 6, 3, 6, 8, 1, 2, 2, 4, 3, 3, 1, 2, 3, 3, 1, 5, 1, 2, 4, 5, 7, 2, 6, 2, 2, 1, 2, 2, 3, 12, 0, 2, 5, 2, 4, 1, 1, 3, 4, 4, 1, 6, 4, 3, 5, 2, 3, 2, 5, 1, 1, 3, 5, 1, 4, 4, 2, 1, 2, 5, 1, 4, 2, 1, 2, 2, 2, 3, 2, 1, 3, 2, 4, 1, 0, 2, 4, 7, 3, 2, 2, 1, 8, 8, 2, 3, 4, 2, 2, 2, 1, 1, 2, 2, 4, 2, 4, 4, 3, 4, 2, 3, 5, 3, 3, 2, 2, 5, 3, 3, 1, 1, 1, 1, 4, 1, 1, 3, 1, 3, 3, 3, 3, 2, 4, 3, 3, 2, 2, 1, 3, 1, 3, 2, 2, 4, 3, 3, 0, 4, 3, 4, 2, 3, 9, 1, 1, 1, 1, 3, 1, 2, 2, 2, 5, 2, 3, 3, 6, 3, 3, 3, 6, 3, 3, 1, 4, 3, 7, 3, 4, 8, 1, 3, 1, 1, 4, 2, 2, 1, 1, 0, 1, 2, 2, 2, 1, 2, 1, 3, 3, 0, 1, 4, 4, 4, 1, 2, 3, 3, 4, 1, 1, 1, 2, 3, 3, 5, 2, 2, 3, 1, 2, 3, 2, 2, 7, 4, 5, 3, 2, 6, 2, 1, 2, 2, 5, 2, 2, 2, 3, 1, 1, 4, 1, 2, 4, 4, 1, 2, 3, 2, 2, 3, 4, 2, 1, 6, 2, 1, 1, 1, 3, 4, 2, 3, 1, 1, 2, 2, 1, 2, 2, 1, 3, 2, 1, 4, 1, 2, 4, 1, 4, 2, 2, 2, 2, 3, 2, 4, 2, 2, 5, 2, 2, 1, 3, 3, 4, 2, 1, 4, 2, 2, 1, 1, 2, 2, 2, 2, 4, 1, 4, 2, 6, 3, 3, 2, 6, 2, 3, 2, 2, 2, 1, 5, 2, 4, 3, 2, 2, 4, 2, 3, 3, 1, 1, 2, 3, 2, 3, 3, 4, 1, 2, 2, 3, 4, 2, 1, 1, 2, 2, 9, 2, 2, 4, 2, 5, 3, 1, 1, 2, 1, 2, 1, 4, 4, 2, 2, 4, 0, 9, 1, 2, 3, 2, 0, 1, 2, 2, 3, 2, 2, 2, 2, 0, 2, 4, 2, 2, 10, 1, 2, 1, 1, 2, 2, 3, 2, 2, 3, 2, 2, 3, 2, 4, 3, 3, 2, 2, 1, 4, 3, 3, 1, 1, 1, 5, 2, 3, 2, 1, 0, 2, 4, 1, 3, 4, 1, 2, 3, 2, 6, 2, 2, 1, 3, 5, 2, 1, 1, 1, 2, 3, 3, 5, 2, 2, 4, 2, 2, 2, 2, 2, 2, 5, 1, 2, 3, 3, 4, 2, 2, 3, 2, 2, 2, 2, 4, 3, 1, 1, 1, 1, 3, 2, 2, 2, 2, 2, 2, 2, 4, 2, 5, 4, 1, 1, 4, 1, 13, 2, 2, 1, 2, 0, 5, 1, 2, 3, 3, 3, 4, 3, 3, 2, 1, 5, 1, 5, 2, 3, 1, 1, 1, 3, 1, 3, 1, 2, 3, 0, 3, 1, 2, 5, 4, 9, 2, 5, 1, 4, 4, 3, 3, 7, 1, 2, 3, 3, 3, 2, 1, 2, 2, 3, 1, 2, 3, 2, 3, 1, 2, 5, 2, 4, 2, 2, 1, 1, 3, 3, 2, 3, 2, 6, 2, 4, 1, 3, 3, 3, 1, 4, 6, 3, 3, 3, 2, 5, 3, 3, 5, 1, 2, 3, 5, 3, 2, 4, 6, 2, 3, 4, 2, 1, 2, 3, 3, 1, 1, 4, 5, 2, 5, 2, 2, 1, 2, 6, 5, 4, 2, 2, 2, 2, 1, 3, 2, 1, 3, 2, 1, 1, 2, 3, 3, 2, 4, 2, 2, 1, 3, 3, 3, 5, 3, 1, 2, 4, 4, 3, 2, 1, 2, 1, 6, 3, 6, 1, 2, 3, 1, 5, 1, 2, 3, 2, 5, 1, 2, 2, 2, 6, 3, 4, 6, 4, 3, 1, 4, 2, 0, 4, 1, 5, 4, 3, 1, 3, 2, 5, 2, 2, 0, 1, 2, 0, 3, 2, 3, 1, 4, 2, 2, 6, 3, 1, 2, 1, 2, 1, 2, 2, 2, 6, 1, 3, 1, 4, 4, 1, 2, 1, 4, 2, 2, 3, 2, 3, 4, 3, 4, 2, 1, 2, 4, 1, 1, 3, 3, 2, 2, 4, 3, 2, 2, 4, 2, 1, 1, 1, 4, 1, 3, 3, 1, 3, 3, 2, 4, 2, 3, 3, 1, 2, 1, 1, 2, 3, 2, 2, 3, 4, 3, 2, 2, 2, 4, 3, 3, 5, 4, 3, 2, 1, 2, 4, 3, 5, 2, 2, 2, 1, 4, 4, 1, 3, 4, 4, 2, 1, 2, 2, 1, 1, 7, 2, 2, 1, 1, 2, 2, 1, 1, 1, 4, 1, 2, 2, 2, 2, 2, 4, 2, 1, 2, 2, 2, 2, 1, 4, 2, 3, 3, 3, 3, 2, 3, 2, 2, 3, 5, 3, 3, 3, 1, 3, 4, 5, 3, 5, 4, 2, 2, 3, 1, 4, 2, 3, 3, 2, 5, 3, 3, 2, 1, 3, 1, 1, 3, 1, 2, 5, 1, 2, 4, 3, 2, 4, 2, 1, 2, 2, 4, 2, 1, 2, 2, 0, 3, 2, 3, 2, 1, 4, 3, 2, 2, 2, 5, 3, 2, 4, 1, 1, 3, 2, 6, 4, 6, 3, 3, 3, 3, 1, 1, 3, 3, 2, 1, 4, 3, 3, 2, 2, 3, 2, 2, 1, 2, 2, 3, 3, 3, 1, 2, 1, 3, 2, 2, 3, 1, 2, 2, 1, 2, 1, 3, 2, 0, 2, 4, 2, 3, 2, 2, 2, 2, 4, 4, 1, 2, 3, 2, 3, 4, 1, 3, 4, 3, 2, 2, 1, 4, 1, 5, 3, 1, 4, 6, 2, 2, 4, 3, 6, 3, 6, 2, 1, 4, 2, 4, 1, 4, 4, 3, 2, 3, 6, 6, 2, 2, 2, 5, 2, 2, 5, 5, 1, 1, 1, 5, 1, 4, 2, 3, 8, 3, 1, 2, 5, 4, 7, 2, 1, 1, 1, 4, 2, 1, 1, 3, 2, 3, 4, 5, 4, 2, 2, 2, 2, 3, 2, 3, 2, 4, 2, 4, 4, 2, 3, 1, 4, 4, 1, 2, 4, 2, 3, 2, 3, 4, 2, 3, 3, 3, 1, 3, 1, 2, 2, 3, 1, 1, 6, 4, 4, 2, 3, 2, 4, 3, 3, 3, 3, 0, 3, 4, 2, 2, 2, 2, 1, 3, 3, 2, 4, 4, 3, 1, 1, 0, 1, 2, 2, 4, 5, 5, 4, 3, 1, 1, 8, 1, 3, 4, 4, 3, 3, 4, 3, 2, 3, 2, 1, 3, 3, 2, 2, 2, 3, 2, 1, 1, 1, 1, 3, 2, 4, 2, 2, 2, 1, 1, 3, 1, 2, 1, 2, 1, 1, 3, 2, 3, 5, 3, 1, 4, 8, 1, 1, 4, 3, 3, 1, 1, 2, 3, 5, 2, 1, 2, 1, 4, 3, 2, 2, 3, 3, 2, 1, 6, 2, 2, 4, 3, 3, 1, 1, 3, 2, 2, 6, 2, 2, 1, 1, 4, 3, 1, 3, 4, 8, 1, 2, 4, 3, 2, 2, 2, 3, 3, 2, 4, 6, 4, 1, 2, 4, 3, 2, 3, 5, 2, 1, 2, 2, 2, 2, 1, 1, 3, 4, 1, 3, 1, 2, 2, 3, 2, 10, 6, 4, 2, 3, 2, 5, 3, 2, 2, 3, 2, 5, 2, 4, 1, 2, 2, 3, 2, 2, 1, 4, 4, 5, 3, 3, 4, 4, 1, 2, 1, 3, 7, 2, 4, 2, 4, 2, 1, 4, 4, 3, 4, 2, 2, 4, 5, 5, 2, 2, 1, 2, 2, 1, 1, 4, 3, 5, 3, 2, 1, 2, 1, 4, 3, 2, 4, 1, 2, 2, 1, 3, 3, 4, 2, 4, 3, 1, 2, 6, 2, 2, 3, 3, 3, 3, 5, 2, 3, 5, 4, 3, 4, 2, 1, 3, 1, 2, 2, 2, 0, 4, 1, 2, 7, 2, 4, 1, 3, 1, 1, 3, 5, 2, 2, 3, 2, 1, 4, 6, 2, 2, 6, 2, 2, 4, 3, 3, 3, 1, 1, 6, 2, 3, 7, 6, 2, 3, 3, 2, 1, 2, 1, 2, 4, 3, 2, 4, 2, 2, 3, 2, 1, 1, 4, 1, 2, 2, 2, 2, 1, 2, 2, 2, 6, 2, 2, 3, 3, 2, 1, 2, 4, 8, 2, 2, 2, 1, 3, 4, 4, 2, 4, 2, 5, 2, 4, 2, 2, 1, 2, 4, 4, 1, 8, 2, 3, 6, 1, 2, 0, 2, 4, 1, 2, 4, 4, 2, 1, 2, 2, 4, 2, 2, 6, 3, 2, 4, 2, 2, 6, 9, 6, 2, 1, 2, 3, 2, 2, 2, 3, 1, 3, 2, 2, 5, 3, 7, 3, 2, 2, 2, 1, 3, 2, 2, 1, 2, 4, 2, 2, 4, 1, 2, 2, 2, 3, 2, 1, 2, 3, 2, 3, 1, 6, 5, 4, 3, 2, 2, 2, 2, 2, 3, 3, 2, 4, 2, 2, 3, 4, 4, 1, 2, 2, 4, 3, 4, 2, 3, 2, 4, 3, 2, 2, 2, 3, 2, 3, 1, 4, 3, 2, 1, 3, 3, 2, 4, 2, 4, 2, 2, 4, 1, 3, 3, 3, 2, 2, 2, 1, 3, 6, 2, 4, 4, 3, 2, 2, 5, 5, 5, 3, 6, 6, 2, 5, 3, 2, 2, 2, 2, 2, 3, 1, 2, 2, 5, 4, 1, 3, 4, 5, 2, 2, 2, 5, 1, 2, 1, 1, 3, 1, 3, 3, 1, 2, 4, 3, 4, 2, 2, 2, 1, 4, 2, 4, 2, 2, 4, 5, 4, 3, 2, 2, 2, 2, 2, 4, 2, 2, 2, 1, 3, 3, 1, 2, 2, 2, 2, 5, 3, 5, 2, 9, 3, 7, 1, 5, 3, 6, 6, 3, 2, 4, 2, 2, 2, 5, 4, 3, 6, 1, 2, 3, 2, 5, 3, 1, 1, 5, 3, 4, 4, 1, 2, 5, 3, 3, 1, 3, 1, 2, 1, 9, 9, 4, 6, 2, 2, 1, 6, 5, 2, 2, 3, 2, 3, 1, 4, 3, 2, 2, 1, 2, 2, 1, 3, 3, 4, 2, 1, 3, 2, 1, 4, 2, 3, 4, 3, 2, 1, 3, 1, 1, 3, 2, 3, 2, 3, 3, 2, 3, 2, 2, 2, 1, 1, 1, 5, 3, 5, 2, 3, 3, 3, 8, 1, 2, 4, 1, 4, 1, 3, 1, 2, 4, 1, 5, 3, 2, 1, 1, 2, 2, 2, 2, 4, 2, 2, 3, 4, 1, 3, 1, 3, 1, 3, 1, 2, 0, 4, 1, 3, 4, 3, 2, 2, 1, 1, 2, 5, 2, 6, 4, 0, 5, 1, 1, 1, 2, 4, 4, 2, 1, 1, 4, 3, 4, 2, 1, 1, 4, 3, 2, 2, 2, 3, 2, 2, 1, 1, 2, 3, 5, 3, 3, 3, 2, 3, 6, 4, 2, 2, 1, 2, 3, 2, 3, 3, 3, 1, 3, 2, 1, 1, 2, 2, 3, 3, 2, 6, 5, 2, 3, 6, 2, 1, 4, 2, 4, 4, 1, 2, 3, 2, 2, 2, 2, 2, 4, 5, 2, 2, 0, 1, 2, 3, 4, 2, 2, 1, 2, 4, 3, 2, 2, 2, 1, 1, 2, 6, 2, 2, 4, 1, 2, 1, 1, 3, 4, 1, 3, 2, 4, 4, 0, 2, 1, 4, 3, 0, 1, 2, 3, 2, 2, 5, 2, 1, 3, 2, 4, 4, 1, 2, 1, 3, 0, 2, 1, 3, 2, 2, 3, 1, 2, 6, 7, 3, 2, 3, 3, 2, 3, 3, 3, 1, 2, 1, 3, 6, 1, 1, 1, 0, 2, 1, 2, 2, 1, 1, 4, 2, 1, 1, 3, 1, 3, 3, 2, 2, 4, 2, 6, 2, 2, 2, 3, 3, 4, 4, 4, 2, 1, 3, 5, 3, 2, 4, 4, 1, 3, 2, 3, 4, 3, 2, 3, 2, 4, 4, 3, 1, 2, 10, 2, 4, 1, 2, 2, 2, 3, 3, 2, 5, 2, 2, 2, 4, 3, 2, 7, 2, 3, 4, 3, 1, 1, 1, 2, 2, 2, 2, 2, 2, 6, 3, 4, 1, 2, 3, 1, 6, 2, 2, 2, 2, 3, 2, 4, 2, 1, 4, 4, 4, 3, 3, 2, 4, 1, 1, 3, 2, 5, 2, 3, 1, 3, 1, 6, 1, 1, 1, 1, 2, 4, 4, 2, 3, 3, 1, 6, 1, 3, 4, 5, 2, 3, 2, 2, 2, 4, 4, 2, 2, 2, 3, 3, 2, 3, 1, 2, 3, 2, 4, 3, 2, 2, 3, 2, 3, 2, 4, 1, 3, 2, 2, 5, 3, 5, 4, 3, 2, 2, 3, 2, 1, 4, 1, 4, 1, 5, 5, 3, 1, 3, 4, 2, 2, 3, 3, 1, 1, 1, 2, 4, 2, 4, 3, 3, 0, 3, 1, 3, 4, 2, 1, 2, 4, 2, 3, 2, 2, 2, 2, 3, 2, 3, 3, 5, 3, 2, 3, 2, 3, 2, 3, 2, 2, 1, 2, 1, 2, 3, 2, 5, 3, 2, 3, 2, 2, 3, 3, 3, 3, 1, 2, 3, 3, 3, 3, 2, 3, 3, 5, 4, 2, 1, 1, 1, 1, 3, 2, 2, 2, 1, 2, 1, 8, 4, 1, 2, 4, 3, 4, 1, 1, 2, 2, 2, 5, 2, 4, 3, 3, 1, 5, 2, 2, 2, 2, 2, 2, 4, 3, 1, 1, 2, 3, 2, 5, 2, 2, 2, 3, 2, 2, 6, 2, 4, 2, 2, 4, 3, 2, 4, 3, 3, 2, 3, 2, 3, 1, 2, 1, 2, 3, 2, 2, 3, 3, 1, 6, 2, 2, 5, 4, 1, 3, 3, 2, 2, 2, 3, 3, 2, 4, 3, 1, 4, 3, 6, 1, 5, 3, 2, 5, 2, 5, 1, 4, 1, 4, 3, 1, 1, 2, 4, 4, 5, 7, 4, 2, 3, 2, 4, 2, 8, 2, 3, 4, 3, 1, 3, 5, 1, 4, 3, 2, 2, 6, 2, 3, 5, 2, 1, 4, 8, 3, 0, 1, 1, 1, 3, 4, 4, 3, 3, 1, 3, 3, 3, 3, 3, 4, 3, 3, 2, 3, 2, 3, 4, 4, 3, 2, 4, 5, 3, 1, 2, 2, 4, 3, 2, 4, 2, 2, 1, 3, 4, 3, 2, 4, 3, 5, 1, 2, 2, 6, 2, 2, 3, 2, 2, 2, 2, 2, 2, 3, 4, 5, 3, 1, 1, 5, 3, 4, 5, 3, 4, 2, 3, 2, 3, 2, 2, 4, 2, 2, 3, 2, 1, 3, 2, 2, 2, 2, 1, 4, 3, 2, 2, 5, 2, 3, 2, 2, 2, 1, 2, 3, 3, 3, 2, 3, 2, 2, 3, 1, 4, 1, 2, 2, 8, 3, 2, 2, 2, 2, 3, 3, 1, 2, 1, 1, 3, 4, 1, 1, 2, 2, 1, 2, 1, 3, 6, 4, 2, 1, 1, 2, 2, 2, 2, 4, 1, 2, 1, 1, 1, 3, 3, 1, 2, 3, 3, 4, 2, 1, 3, 1, 2, 2, 1, 2, 2, 1, 2, 1, 1, 2, 1, 2, 2, 1, 1, 2, 1, 2, 2, 1, 6, 4, 2, 1, 2, 2, 2, 2, 2, 5, 2, 3, 2, 2, 0, 3, 2, 2, 1, 1, 4, 1, 3, 2, 2, 1, 4, 3, 2, 4, 1, 1, 3, 2, 2, 1, 1, 2, 1, 1, 1, 2, 1, 3, 0, 1, 2, 2, 6, 1, 2, 1, 4, 3, 3, 1, 3, 1, 3, 4, 9, 2, 1, 1, 3, 3, 2, 2, 3, 3, 4, 5, 4, 3, 2, 2, 1, 4, 4, 2, 2, 6, 1, 2, 1, 1, 1, 2, 1, 1, 1, 0, 4, 5, 4, 3, 3, 5, 2, 2, 3, 3, 4, 2, 5, 2, 4, 2, 2, 4, 3, 3, 1, 2, 2, 2, 3, 2, 1, 2, 4, 1, 5, 2, 5, 5, 3, 1, 3, 5, 1, 2, 1, 2, 4, 2, 4, 2, 4, 2, 1, 2, 1, 1, 3, 3, 1, 1, 5, 3, 2, 3, 3, 4, 4, 4, 4, 1, 0, 3, 1, 1, 1, 1, 2, 2, 1, 2, 2, 1, 5, 5, 2, 1, 3, 1, 3, 1, 2, 3, 2, 3, 2, 3, 4, 2, 2, 1, 4, 5, 3, 2, 2, 2, 3, 2, 1, 4, 3, 4, 3, 3, 2, 4, 1, 3, 3, 4, 2, 2, 2, 0, 2, 3, 2, 3, 4, 3, 1, 2, 3, 1, 4, 2, 4, 3, 1, 3, 2, 2, 2, 2, 2, 2, 2, 4, 2, 2, 4, 1, 1, 1, 2, 1, 4, 4, 3, 2, 3, 1, 4, 2, 1, 2, 3, 2, 1, 3, 2, 2, 3, 2, 2, 3, 1, 2, 7, 4, 2, 2, 3, 4, 3, 1, 3, 4, 2, 3, 1, 2, 5, 2, 1, 2, 3, 2, 1, 2, 1, 3, 1, 5, 4, 1, 3, 2, 2, 3, 4, 2, 5, 4, 1, 2, 1, 2, 2, 1, 4, 2, 3, 4, 2, 1, 4, 1, 1, 2, 3, 2, 3, 3, 2, 1, 4, 2, 2, 4, 2, 2, 2, 2, 2, 2, 1, 1, 1, 3, 2, 1, 4, 2, 1, 2, 1, 2, 2, 2, 3, 2, 2, 3, 2, 1, 3, 1, 3, 3, 2, 6, 3, 2, 2, 0, 2, 5, 5, 3, 3, 3, 3, 2, 4, 6, 1, 3, 1, 1, 1, 3, 1, 3, 4, 1, 3, 4, 1, 3, 2, 1, 2, 3, 3, 3, 1, 1, 2, 2, 4, 1, 2, 1, 2, 5, 2, 3, 2, 1, 2, 1, 1, 1, 4, 3, 5, 5, 3, 1, 3, 3, 3, 1, 1, 1, 1, 3, 2, 1, 2, 5, 2, 4, 5, 2, 4, 3, 1, 3, 4, 1, 2, 2, 4, 4, 4, 4, 3, 2, 1, 3, 3, 0, 0, 3, 2, 2, 2, 1, 2, 1, 3, 2, 1, 1, 4, 1, 2, 2, 2, 2, 3, 4, 2, 2, 3, 3, 2, 6, 0, 2, 2, 3, 2, 1, 6, 1, 3, 1, 2, 2, 2, 4, 4, 1, 2, 5, 2, 3, 3, 2, 1, 1, 4, 1, 2, 3, 1, 1, 1, 4, 3, 2, 2, 1, 2, 1, 7, 5, 1, 1, 2, 5, 1, 6, 3, 2, 1, 1, 1, 2, 4, 3, 3, 3, 3, 2, 2, 5, 3, 2, 1, 7, 6, 4, 1, 3, 3, 4, 2, 1, 3, 1, 2, 1, 4, 5, 1, 2, 6, 1, 3, 5, 1, 2, 1, 5, 2, 3, 4, 2, 1, 7, 2, 1, 2, 3, 2, 2, 4, 8, 5, 1, 1, 4, 1, 2, 0, 1, 1, 2, 1, 9, 1, 4, 5, 4, 0, 1, 2, 1, 2, 3, 2, 1, 3, 2, 1, 4, 4, 3, 3, 1, 4, 3, 3, 2, 2, 1, 5, 1, 2, 2, 3, 7, 4, 3, 2, 3, 1, 1, 1, 3, 3, 2, 4, 1, 2, 2, 4, 2, 2, 2, 1, 2, 3, 4, 2, 2, 1, 1, 3, 0, 2, 2, 2, 6, 0, 1, 2, 1, 6, 3, 2, 2, 1, 1, 2, 2, 5, 2, 3, 2, 4, 2, 3, 2, 2, 2, 6, 3, 2, 2, 2, 4, 4, 2, 4, 2, 3, 2, 1, 3, 2, 2, 2, 4, 3, 2, 1, 3, 4, 1, 3, 1, 2, 2, 1, 0, 4, 4, 4, 1, 1, 4, 5, 7, 0, 3, 1, 2, 2, 2, 1, 3, 0, 1, 3, 0, 3, 3, 6, 2, 3, 2, 2, 3, 2, 1, 3, 3, 3, 2, 3, 1, 1, 2, 6, 2, 2, 1, 5, 2, 3, 3, 4, 4, 3, 2, 4, 1, 0, 4, 4, 4, 1, 8, 6, 6, 5, 2, 3, 2, 2, 4, 2, 1, 2, 3, 4, 2, 6, 4, 1, 1, 1, 4, 2, 2, 4, 3, 2, 2, 4, 1, 4, 3, 3, 1, 5, 2, 3, 1, 6, 2, 3, 1, 1, 1, 2, 2, 1, 3, 6, 6, 2, 2, 4, 1, 2, 4, 5, 1, 3, 2, 2, 4, 2, 4, 1, 2, 3, 2, 1, 6, 2, 1, 2, 2, 2, 3, 4, 2, 5, 1, 2, 1, 6, 2, 1, 2, 6, 3, 5, 3, 6, 2, 1, 3, 2, 1, 6, 1, 5, 2, 2, 2, 2, 2, 2, 5, 4, 3, 6, 1, 2, 2, 1, 1, 1, 2, 3, 3, 2, 4, 1, 4, 1, 2, 3, 1, 3, 3, 1, 3, 2, 3, 4, 3, 1, 1, 2, 4, 0, 4, 6, 5, 3, 4, 3, 1, 2, 2, 2, 4, 1, 4, 3, 2, 3, 4, 2, 2, 1, 1, 2, 2, 2, 3, 2, 1, 4, 3, 2, 3, 3, 4, 4, 1, 4, 3, 4, 1, 4, 3, 2, 1, 2, 1, 2, 3, 3, 3, 6, 2, 4, 2, 2, 2, 4, 1, 2, 7, 3, 5, 4, 2, 3, 4, 4, 4, 2, 3, 3, 1, 3, 2, 1, 2, 3, 1, 6, 1, 3, 2, 3, 1, 2, 3, 2, 2, 4, 1, 3, 2, 3, 2, 1, 1, 2, 2, 5, 5, 1, 0, 1, 1, 2, 1, 4, 1, 1, 3, 3, 3, 2, 2, 3, 1, 0, 3, 2, 2, 2, 1, 3, 4, 2, 3, 1, 3, 2, 6, 2, 5, 3, 2, 3, 3, 2, 2, 2, 1, 4, 3, 5, 3, 5, 4, 3, 3, 2, 4, 1, 2, 2, 2, 3, 3, 1, 5, 3, 2, 4, 3, 3, 4, 3, 3, 4, 2, 2, 3, 1, 2, 5, 1, 2, 1, 1, 2, 3, 3, 4, 5, 2, 2, 2, 2, 2, 2, 2, 4, 4, 2, 1, 3, 2, 2, 1, 2, 1, 1, 4, 1, 3, 1, 4, 6, 2, 1, 6, 2, 2, 1, 1, 2, 3, 2, 3, 2, 1, 2, 3, 3, 2, 2, 2, 2, 2, 2, 3, 1, 2, 2, 4, 2, 1, 1, 3, 3, 2, 1, 1, 1, 3, 3, 2, 5, 3, 3, 3, 1, 2, 7, 2, 1, 3, 6, 5, 1, 2, 3, 5, 2, 2, 2, 2, 4, 1, 2, 1, 4, 3, 1, 4, 1, 2, 3, 3, 1, 2, 1, 1, 3, 4, 3, 1, 4, 3, 2, 3, 2, 5, 1, 4, 3, 3, 3, 3, 2, 3, 3, 6, 3, 7, 3, 3, 2, 6, 3, 1, 2, 4, 5, 3, 5, 5, 2, 3, 6, 3, 2, 2, 4, 1, 3, 2, 2, 2, 4, 4, 2, 2, 2, 2, 1, 2, 2, 3, 5, 3, 3, 3, 4, 4, 4, 2, 1, 2, 6, 1, 3, 3, 2, 8, 3, 3, 2, 1, 2, 2, 1, 3, 3, 2, 2, 4, 2, 3, 2, 3, 1, 2, 2, 2, 1, 3, 3, 4, 2, 4, 2, 2, 2, 1, 3, 3, 2, 2, 3, 2, 2, 3, 5, 1, 2, 3, 1, 1, 2, 4, 1, 2, 2, 2, 4, 2, 3, 2, 2, 2, 3, 1, 2, 3, 5, 4, 2, 2, 3, 1, 1, 3, 1, 1, 2, 2, 5, 4, 2, 2, 2, 4, 10, 5, 6, 2, 2, 3, 1, 4, 3, 5, 2, 3, 5, 2, 1, 4, 2, 2, 5, 1, 1, 2, 4, 3, 3, 2, 1, 1, 2, 1, 1, 1, 2, 4, 3, 3, 4, 2, 1, 1, 6, 6, 4, 3, 2, 2, 1, 1, 2, 1, 6, 4, 1, 6, 2, 7, 1, 7, 2, 3, 2, 2, 1, 2, 3, 4, 3, 3, 2, 5, 3, 3, 1, 3, 2, 1, 3, 1, 3, 5, 2, 1, 4, 5, 2, 3, 2, 3, 2, 4, 1, 1, 4, 1, 1, 1, 3, 2, 1, 2, 5, 2, 5, 2, 2, 4, 4, 1, 3, 1, 1, 3, 2, 1, 2, 1, 5, 3, 5, 1, 1, 4, 1, 1, 1, 4, 2, 3, 2, 2, 3, 2, 2, 2, 4, 2, 2, 9, 6, 4, 2, 3, 2, 5, 1, 2, 3, 2, 3, 2, 2, 2, 1, 3, 2, 2, 2, 2, 0, 2, 3, 0, 3, 2, 1, 1, 3, 2, 2, 1, 2, 3, 3, 3, 3, 2, 1, 7, 3, 3, 1, 1, 2, 2, 2, 6, 4, 2, 3, 3, 5, 4, 2, 7, 1, 1, 1, 2, 4, 1, 1, 2, 4, 3, 1, 5, 1, 3, 3, 0, 2, 2, 2, 1, 3, 2, 2, 3, 2, 3, 2, 2, 2, 3, 2, 2, 3, 1, 2, 1, 2, 3, 2, 1, 4, 2, 3, 1, 2, 2, 2, 2, 8, 1, 1, 1, 1, 1, 4, 2, 1, 1, 2, 4, 2, 1, 3, 5, 2, 4, 4, 2, 2, 2, 3, 2, 3, 2, 2, 4, 4, 1, 2, 2, 2, 2, 3, 4, 4, 2, 4, 2, 3, 6, 1, 1, 1, 1, 2, 3, 2, 1, 2, 2, 3, 4, 2, 2, 2, 5, 3, 3, 3, 2, 3, 2, 1, 1, 2, 2, 7, 2, 1, 5, 1, 3, 3, 1, 2, 2, 1, 1, 1, 3, 2, 2, 2, 2, 5, 3, 1, 1, 1, 0, 2, 2, 2, 1, 2, 1, 1, 4, 3, 2, 1, 5, 0, 3, 2, 3, 5, 2, 1, 2, 1, 3, 1, 1, 2, 1, 2, 3, 1, 4, 2, 2, 4, 3, 4, 2, 3, 2, 5, 6, 5, 2, 4, 1, 6, 1, 5, 3, 1, 3, 4, 7, 1, 5, 1, 3, 4, 3, 1, 1, 1, 3, 2, 2, 1, 4, 2, 4, 2, 2, 1, 3, 7, 3, 1, 1, 2, 3, 1, 1, 7, 1, 2, 3, 2, 2, 2, 4, 3, 5, 1, 2, 2, 2, 1, 4, 4, 2, 3, 4, 1, 3, 2, 1, 2, 2, 2, 3, 5, 2, 1, 4, 1, 2, 2, 2, 2, 2, 5, 2, 3, 4, 3, 1, 2, 1, 3, 2, 4, 4, 1, 1, 7, 1, 5, 4, 1, 3, 2, 1, 2, 3, 1, 3, 2, 1, 2, 3, 7, 2, 2, 3, 3, 2, 3, 4, 4, 2, 4, 3, 4, 2, 5, 2, 3, 1, 1, 1, 2, 2, 2, 5, 4, 7, 3, 3, 2, 2, 1, 2, 5, 2, 4, 2, 1, 4, 1, 1, 4, 2, 2, 3, 4, 2, 2, 3, 2, 2, 2, 4, 2, 4, 5, 3, 2, 4, 4, 6, 1, 5, 1, 3, 3, 2, 2, 5, 2, 2, 2, 2, 2, 1, 4, 1, 3, 2, 1, 2, 2, 2, 3, 3, 2, 2, 2, 4, 2, 4, 1, 3, 2, 2, 2, 2, 5, 1, 4, 2, 3, 6, 3, 2, 2, 4, 1, 2, 2, 2, 2, 2, 3, 2, 1, 2, 2, 4, 2, 3, 1, 2, 2, 2, 3, 3, 5, 5, 2, 3, 3, 4, 4, 4, 2, 4, 2, 8, 1, 3, 2, 5, 3, 3, 1, 0, 2, 3, 1, 2, 2, 3, 1, 3, 5, 2, 3, 2, 3, 0, 1, 2, 1, 2, 2, 2, 3, 4, 2, 1, 5, 5, 3, 2, 3, 3, 2, 2, 2, 2, 3, 2, 3, 9, 2, 6, 2, 2, 2, 1, 2, 3, 3, 3, 2, 2, 3, 3, 2, 4, 4, 4, 2, 3, 2, 2, 2, 4, 3, 1, 5, 2, 3, 5, 2, 3, 2, 3, 1, 6, 1, 1, 2, 2, 2, 5, 3, 4, 4, 5, 2, 3, 1, 3, 2, 1, 4, 1, 2, 1, 1, 3, 2, 3, 1, 1, 2, 2, 3, 2, 3, 1, 3, 3, 2, 1, 1, 3, 0, 2, 1, 3, 2, 5, 2, 1, 2, 2, 3, 2, 4, 1, 4, 2, 5, 1, 2, 9, 7, 5, 2, 1, 3, 1, 4, 7, 2, 6, 4, 1, 2, 3, 3, 2, 1, 1, 3, 2, 2, 2, 2, 4, 3, 2, 3, 1, 6, 3, 3, 2, 7, 2, 5, 5, 1, 4, 2, 3, 3, 2, 1, 1, 1, 0, 2, 1, 3, 1, 5, 3, 1, 1, 3, 5, 5, 3, 5, 6, 1, 4, 3, 2, 2, 2, 2, 3, 4, 4, 3, 5, 1, 2, 2, 2, 3, 3, 1, 1, 3, 2, 4, 2, 1, 3, 1, 3, 1, 4, 1, 1, 3, 3, 4, 2, 3, 4, 3, 2, 2, 3, 1, 1, 4, 2, 3, 2, 2, 2, 2, 1, 1, 4, 2, 1, 3, 5, 1, 3, 4, 3, 2, 2, 3, 2, 1, 2, 2, 1, 6, 5, 2, 2, 4, 2, 2, 2, 2, 0, 5, 3, 2, 2, 4, 1, 3, 3, 2, 2, 3, 3, 1, 2, 3, 1, 3, 1, 2, 1, 3, 1, 3, 1, 3, 4, 4, 2, 1, 3, 3, 4, 2, 2, 4, 3, 3, 4, 2, 2, 2, 3, 5, 3, 2, 1, 2, 3, 3, 2, 1, 2, 3, 2, 2, 4, 4, 2, 3, 3, 4, 2, 3, 2, 4, 2, 3, 2, 1, 2, 2, 4, 3, 2, 2, 1, 6, 3, 1, 3, 1, 2, 6, 3, 4, 3, 4, 2, 4, 4, 2, 3, 2, 6, 2, 3, 2, 5, 3, 2, 1, 2, 4, 3, 2, 3, 6, 2, 3, 2, 1, 2, 1, 4, 3, 2, 3, 5, 4, 2, 3, 4, 4, 2, 4, 2, 2, 4, 2, 2, 2, 2, 2, 2, 2, 2, 2, 3, 3, 2, 1, 2, 3, 3, 2, 2, 2, 3, 1, 3, 2, 6, 3, 2, 4, 2, 2, 3, 3, 3, 1, 4, 3, 3, 5, 2, 6, 2, 3, 2, 3, 2, 4, 6, 3, 2, 2, 3, 2, 1, 1, 2, 4, 2, 4, 4, 7, 4, 1, 1, 2, 4, 3, 2, 4, 2, 3, 1, 4, 2, 1, 3, 3, 8, 2, 2, 1, 3, 2, 5, 1, 5, 2, 1, 1, 2, 1, 1, 3, 7, 4, 2, 2, 2, 2, 10, 3, 2, 2, 2, 2, 2, 2, 6, 4, 3, 2, 5, 1, 2, 3, 2, 4, 3, 2, 2, 3, 2, 3, 3, 6, 3, 5, 2, 3, 8, 3, 5, 4, 5, 2, 3, 3, 1, 3, 8, 2, 4, 4, 4, 4, 2, 1, 3, 4, 5, 2, 2, 2, 1, 2, 3, 2, 2, 3, 2, 2, 2, 1, 4, 2, 4, 4, 1, 1, 5, 2, 3, 5, 3, 1, 3, 3, 2, 2, 4, 3, 1, 2, 2, 2, 2, 2, 1, 3, 2, 2, 1, 1, 5, 2, 4, 2, 3, 2, 5, 2, 2, 3, 2, 2, 1, 1, 2, 1, 2, 2, 4, 2, 2, 3, 1, 2, 2, 4, 2, 2, 1, 4, 3, 3, 2, 8, 3, 1, 2, 0, 1, 3, 4, 2, 4, 2, 2, 2, 3, 3, 5, 3, 3, 2, 1, 6, 4, 3, 4, 5, 3, 1, 2, 4, 3, 4, 2, 1, 4, 2, 5, 3, 0, 2, 1, 1, 2, 1, 2, 3, 3, 2, 1, 3, 2, 3, 4, 2, 2, 2, 4, 3, 2, 0, 2, 2, 2, 4, 2, 3, 10, 3, 4, 3, 4, 2, 1, 5, 4, 1, 2, 1, 4, 5, 2, 2, 2, 3, 2, 3, 2, 6, 1, 2, 5, 1, 1, 1, 7, 4, 3, 2, 3, 2, 5, 2, 2, 2, 6, 2, 2, 1, 4, 1, 1, 3, 6, 5, 4, 2, 6, 4, 2, 2, 3, 1, 1, 2, 2, 1, 1, 2, 1, 2, 2, 3, 2, 3, 3, 3, 4, 3, 1, 3, 2, 2, 4, 3, 2, 1, 2, 4, 2, 2, 2, 1, 2, 2, 2, 3, 1, 5, 2, 4, 2, 1, 2, 2, 2, 5, 1, 2, 1, 2, 5, 3, 11, 5, 2, 3, 4, 1, 2, 3, 2, 2, 4, 3, 2, 3, 3, 1, 2, 2, 3, 2, 1, 2, 2, 3, 2, 2, 2, 3, 5, 3, 0, 9, 3, 0, 2, 4, 2, 3, 4, 5, 6, 3, 2, 2, 2, 3, 2, 2, 4, 5, 4, 1, 5, 6, 2, 2, 3, 1, 1, 1, 1, 3, 3, 4, 2, 2, 2, 2, 4, 2, 2, 1, 3, 2, 1, 4, 3, 4, 2, 2, 2, 3, 3, 3, 5, 2, 2, 3, 3, 2, 3, 5, 3, 1, 1, 6, 3, 2, 2, 3, 3, 2, 2, 3, 4, 3, 1, 2, 4, 2, 3, 7, 1, 1, 1, 6, 3, 3, 3, 1, 2, 2, 2, 1, 1, 2, 2, 3, 3, 2, 2, 2, 2, 1, 1, 1, 1, 2, 2, 2, 4, 1, 3, 2, 4, 4, 1, 4, 4, 4, 3, 4, 2, 5, 4, 1, 3, 3, 4, 4, 3, 3, 4, 6, 2, 2, 1, 2, 1, 2, 2, 3, 4, 1, 5, 4, 2, 6, 2, 3, 3, 1, 2, 7, 1, 4, 8, 1, 2, 2, 1, 1, 1, 3, 3, 1, 2, 2, 1, 2, 3, 2, 3, 1, 1, 2, 1, 6, 8, 6, 1, 2, 5, 2, 2, 1, 4, 2, 2, 1, 2, 6, 2, 3, 1, 4, 2, 3, 3, 2, 2, 5, 2, 5, 4, 3, 3, 3, 3, 2, 2, 6, 3, 2, 1, 1, 2, 3, 2, 1, 2, 3, 2, 2, 2, 1, 2, 3, 2, 2, 3, 2, 4, 2, 1, 2, 3, 4, 3, 4, 3, 1, 5, 3, 3, 2, 3, 1, 1, 3, 4, 3, 1, 4, 4, 1, 1, 1, 1, 2, 3, 1, 2, 2, 3, 1, 5, 4, 3, 3, 3, 4, 5, 2, 1, 2, 3, 5, 1, 2, 2, 2, 2, 3, 1, 3, 6, 2, 2, 4, 3, 3, 2, 1, 3, 3, 1, 2, 1, 2, 1, 5, 3, 1, 4, 2, 1, 5, 3, 2, 4, 2, 2, 2, 2, 6, 4, 2, 3, 2, 3, 2, 1, 3, 4, 2, 2, 3, 2, 1, 2, 1, 2, 1, 2, 2, 3, 3, 2, 2, 2, 2, 7, 2, 1, 1, 4, 2, 2, 1, 2, 3, 2, 2, 3, 5, 2, 3, 3, 2, 1, 2, 4, 4, 0, 4, 2, 2, 3, 2, 1, 3, 4, 3, 5, 1, 2, 1, 4, 1, 3, 4, 3, 3, 3, 6, 3, 2, 10, 2, 1, 3, 1, 2, 4, 1, 3, 1, 1, 3, 1, 3, 3, 3, 5, 1, 3, 4, 2, 3, 3, 4, 2, 2, 1, 2, 2, 4, 3, 3, 2, 2, 3, 2, 2, 3, 4, 4, 1, 4, 4, 1, 3, 1, 4, 3, 2, 3, 2, 1, 2, 2, 2, 4, 3, 5, 1, 2, 2, 2, 4, 3, 3, 4, 3, 3, 3, 1, 5, 3, 3, 2, 5, 3, 3, 3, 3, 1, 2, 3, 4, 2, 1, 2, 2, 2, 1, 2, 3, 4, 3, 2, 2, 4, 1, 2, 4, 5, 1, 2, 2, 2, 6, 1, 1, 4, 4, 1, 2, 3, 3, 3, 1, 3, 7, 1, 1, 3, 4, 4, 4, 4, 2, 2, 4, 2, 2, 5, 4, 5, 2, 1, 1, 1, 3, 1, 2, 4, 3, 1, 3, 2, 1, 1, 2, 5, 2, 2, 4, 2, 2, 1, 3, 1, 3, 3, 3, 4, 4, 2, 5, 4, 3, 3, 3, 2, 3, 3, 4, 3, 3, 2, 5, 2, 3, 4, 3, 4, 5, 4, 2, 4, 2, 3, 4, 2, 3, 4, 2, 2, 3, 3, 6, 2, 1, 3, 3, 2, 2, 3, 2, 1, 2, 5, 1, 3, 3, 2, 1, 1, 4, 4, 4, 6, 6, 4, 4, 1, 4, 4, 1, 1, 2, 3, 2, 2, 3, 4, 2, 2, 3, 4, 6, 3, 2, 4, 3, 2, 4, 2, 5, 4, 3, 1, 12, 2, 2, 3, 1, 5, 2, 4, 4, 3, 1, 4, 3, 0, 4, 2, 4, 3, 4, 3, 2, 2, 3, 2, 2, 2, 1, 1, 2, 2, 2, 4, 1, 2, 5, 3, 4, 2, 2, 6, 2, 2, 1, 7, 1, 3, 4, 1, 5, 4, 4, 2, 3, 4, 1, 2, 4, 3, 1, 2, 1, 1, 7, 0, 2, 0, 7, 2, 1, 3, 4, 2, 2, 2, 3, 2, 7, 3, 3, 1, 2, 3, 2, 4, 4, 3, 2, 4, 6, 2, 5, 2, 3, 2, 1, 1, 1, 1, 2, 5, 3, 4, 5, 4, 4, 2, 5, 4, 3, 1, 2, 1, 1, 3, 1, 5, 1, 2, 2, 6, 2, 2, 3, 2, 3, 2, 3, 3, 3, 2, 2, 1, 4, 4, 3, 3, 3, 3, 2, 1, 2, 2, 2, 4, 1, 1, 5, 2, 1, 2, 3, 4, 6, 2, 2, 6, 3, 3, 1, 4, 4, 0, 1, 2, 2, 1, 3, 2, 5, 3, 2, 5, 4, 4, 4, 2, 5, 2, 1, 3, 2, 2, 6, 5, 5, 2, 2, 3, 2, 1, 4, 4, 1, 4, 1, 4, 6, 4, 4, 4, 2, 3, 2, 1, 4, 1, 1, 2, 2, 2, 1, 2, 2, 4, 5, 2, 1, 1, 4, 2, 1, 2, 4, 4, 2, 2, 2, 4, 3, 2, 2, 1, 5, 5, 2, 2, 3, 5, 5, 4, 3, 3, 1, 3, 3, 4, 1, 2, 2, 6, 4, 4, 2, 3, 5, 2, 4, 2, 3, 2, 2, 2, 3, 2, 3, 3, 1, 1, 2, 2, 3, 3, 4, 4, 3, 3, 5, 1, 2, 1, 3, 7, 5, 3, 5, 2, 1, 4, 2, 1, 2, 4, 2, 1, 2, 3, 4, 3, 1, 3, 2, 8, 2, 2, 2, 3, 2, 1, 6, 3, 3, 1, 2, 2, 2, 2, 3, 3, 5, 2, 4, 2, 2, 5, 1, 4, 1, 2, 1, 4, 2, 3, 2, 3, 2, 4, 2, 3, 3, 1, 2, 2, 1, 3, 2, 2, 1, 0, 1, 3, 1, 1, 2, 1, 1, 2, 4, 5, 2, 3, 3, 3, 1, 2, 2, 3, 3, 3, 5, 3, 2, 3, 2, 1, 3, 2, 1, 2, 2, 5, 2, 2, 2, 5, 0, 2, 2, 3, 3, 2, 4, 1, 4, 7, 2, 1, 2, 1, 5, 2, 2, 1, 3, 2, 2, 5, 4, 2, 2, 2, 3, 6, 2, 2, 1, 1, 4, 3, 3, 1, 1, 4, 2, 3, 3, 1, 2, 3, 1, 3, 5, 2, 2, 3, 5, 1, 4, 1, 1, 1, 3, 2, 1, 6, 6, 2, 2, 1, 2, 3, 3, 2, 2, 4, 2, 6, 1, 2, 3, 3, 2, 2, 2, 3, 3, 2, 3, 3, 3, 1, 2, 3, 2, 1, 4, 2, 4, 2, 3, 3, 2, 3, 2, 2, 3, 1, 3, 2, 3, 5, 1, 1, 1, 3, 2, 7, 3, 2, 1, 5, 5, 2, 2, 2, 2, 4, 2, 2, 6, 2, 2, 4, 3, 4, 3, 2, 4, 1, 4, 2, 7, 3, 2, 6, 2, 2, 2, 1, 5, 5, 4, 3, 1, 3, 1, 3, 1, 2, 1, 0, 2, 2, 4, 3, 4, 0, 4, 2, 3, 2, 1, 2, 1, 1, 4, 2, 3, 4, 2, 8, 1, 2, 4, 5, 2, 1, 3, 4, 2, 5, 4, 2, 2, 2, 2, 1, 6, 4, 4, 2, 4, 3, 2, 4, 1, 3, 2, 6, 4, 2, 4, 5, 1, 3, 3, 4, 2, 2, 3, 1, 5, 6, 3, 6, 5, 2, 4, 6, 3, 4, 2, 2, 4, 2, 3, 2, 3, 2, 1, 2, 2, 2, 2, 3, 3, 3, 3, 3, 2, 3, 4, 2, 1, 7, 2, 3, 6, 4, 1, 5, 2, 1, 3, 3, 2, 2, 3, 4, 1, 1, 2, 1, 1, 2, 0, 3, 3, 3, 2, 2, 2, 2, 2, 3, 1, 2, 2, 1, 4, 2, 1, 2, 4, 2, 1, 5, 2, 5, 1, 1, 3, 3, 0, 2, 2, 1, 1, 2, 1, 2, 3, 3, 5, 3, 4, 3, 3, 4, 1, 1, 1, 1, 4, 2, 5, 3, 3, 4, 2, 5, 1, 2, 4, 3, 1, 6, 1, 3, 3, 3, 3, 1, 1, 3, 1, 3, 2, 4, 2, 2, 2, 1, 2, 2, 2, 4, 4, 3, 1, 0, 6, 4, 2, 2, 2, 0, 7, 3, 2, 2, 4, 2, 2, 2, 3, 3, 2, 2, 5, 2, 2, 4, 2, 2, 2, 2, 2, 3, 3, 3, 4, 1, 2, 3, 4, 2, 2, 4, 1, 2, 3, 2, 1, 3, 5, 2, 1, 1, 2, 5, 4, 5, 3, 2, 2, 2, 4, 3, 2, 4, 4, 3, 4, 3, 2, 3, 4, 4, 4, 2, 4, 8, 2, 2, 3, 3, 4, 2, 2, 3, 3, 2, 2, 2, 2, 4, 4, 2, 2, 4, 3, 2, 2, 2, 3, 3, 1, 7, 2, 2, 5, 3, 2, 2, 2, 3, 2, 1, 3, 3, 2, 2, 2, 2, 2, 4, 2, 5, 5, 3, 4, 4, 4, 7, 7, 4, 4, 5, 5, 4, 5, 7, 3, 5, 3, 4, 5, 3, 2, 3, 4, 5, 2, 2, 4, 3, 5, 3, 1, 3, 7, 2, 2, 5, 2, 3, 1, 4, 2, 3, 2, 2, 3, 6, 2, 2, 1, 5, 5, 5, 4, 2, 5, 3, 3, 2, 1, 2, 2, 3, 3, 10, 3, 4, 4, 2, 4, 2, 3, 2, 4, 2, 4, 2, 3, 3, 2, 3, 2, 7, 2, 3, 3, 1, 6, 5, 4, 6, 4, 2, 2, 5, 3, 3, 3, 5, 7, 4, 4, 4, 4, 2, 2, 3, 1, 2, 2, 4, 2, 5, 2, 2, 2, 3, 3, 1, 2, 6, 12, 1, 2, 4, 2, 3, 5, 5, 5, 4, 3, 4, 5, 2, 2, 4, 3, 4, 6, 1, 2, 3, 1, 3, 1, 3, 1, 2, 2, 1, 3, 3, 4, 2, 2, 5, 2, 3, 3, 2, 2, 2, 2, 2, 2, 2, 10, 6, 4, 2, 7, 2, 8, 4, 2, 2, 5, 4, 3, 3, 3, 3, 3, 2, 4, 6, 3, 2, 2, 2, 3, 3, 3, 4, 2, 3, 3, 3, 2, 4, 1, 7, 7, 2, 2, 3, 1, 7, 3, 1, 4, 2, 4, 2, 2, 2, 2, 2, 2, 5, 2, 4, 3, 1, 2, 1, 4, 0, 2, 3, 1, 1, 5, 4, 2, 1, 1, 4, 2, 4, 2, 1, 5, 1, 3, 1, 2, 4, 1, 3, 2, 5, 3, 5, 1, 1, 4, 4, 2, 2, 2, 2, 2, 2, 3, 3, 3, 4, 2, 3, 2, 5, 2, 4, 1, 4, 2, 2, 4, 4, 4, 1, 5, 2, 2, 2, 2, 2, 2, 4, 3, 4, 3, 3, 2, 2, 2, 3, 2, 4, 2, 4, 8, 4, 2, 1, 2, 5, 2, 5, 2, 1, 4, 4, 2, 6, 3, 2, 2, 2, 5, 1, 4, 1, 6, 2, 2, 2, 2, 1, 1, 3, 1, 3, 2, 2, 2, 2, 3, 3, 2, 4, 3, 4, 5, 2, 3, 3, 2, 4, 4, 2, 4, 2, 2, 4, 1, 1, 1, 6, 4, 1, 1, 2, 1, 2, 2, 2, 3, 4, 3, 2, 2, 3, 1, 2, 2, 4, 1, 4, 4, 3, 2, 1, 2, 1, 2, 7, 2, 2, 2, 1, 1, 1, 3, 4, 1, 4, 1, 2, 2, 1, 2, 2, 4, 2, 2, 3, 4, 2, 1, 4, 5, 1, 1, 1, 1, 2, 2, 1, 3, 1, 3, 4, 3, 2, 4, 2, 2, 3, 2, 1, 3, 4, 2, 4, 6, 4, 3, 3, 3, 2, 3, 2, 4, 2, 2, 2, 4, 2, 5, 3, 4, 1, 2, 1, 2, 3, 3, 1, 2, 4, 1, 2, 2, 3, 1, 1, 4, 1, 1, 1, 4, 2, 2, 2, 2, 2, 4, 7, 2, 3, 4, 2, 2, 5, 2, 2, 1, 3, 7, 2, 2, 1, 5, 3, 5, 2, 4, 3, 1, 1, 3, 5, 2, 5, 3, 2, 2, 6, 2, 1, 4, 1, 1, 4, 3, 1, 4, 1, 4, 5, 6, 8, 2, 1, 11, 1, 3, 3, 1, 3, 4, 3, 1, 2, 2, 1, 2, 2, 3, 1, 1, 3, 1, 1, 3, 4, 3, 3, 3, 1, 2, 2, 2, 1, 2, 1, 4, 4, 1, 2, 2, 2, 2, 1, 1, 3, 3, 2, 2, 2, 1, 2, 2, 2, 2, 2, 4, 1, 2, 3, 2, 3, 3, 2, 1, 3, 3, 4, 2, 4, 1, 3, 4, 2, 3, 4, 2, 2, 2, 2, 4, 2, 4, 3, 3, 2, 2, 3, 5, 1, 1, 2, 3, 2, 4, 3, 4, 1, 4, 1, 2, 2, 2, 2, 1, 2, 3, 2, 1, 4, 4, 1, 1, 2, 2, 1, 10, 4, 2, 3, 6, 2, 2, 3, 4, 2, 2, 3, 2, 3, 2, 4, 1, 2, 1, 2, 3, 4, 4, 2, 2, 2, 4, 3, 7, 1, 2, 2, 7, 2, 2, 2, 3, 3, 5, 4, 2, 0, 2, 2, 1, 1, 4, 4, 1, 2, 3, 1, 7, 1, 3, 2, 5, 1, 0, 4, 4, 4, 3, 4, 3, 3, 3, 4, 4, 1, 3, 3, 5, 1, 3, 4, 2, 2, 2, 3, 2, 2, 3, 6, 5, 3, 4, 2, 3, 3, 0, 1, 5, 5, 2, 3, 4, 2, 3, 3, 2, 1, 3, 2, 3, 4, 1, 4, 3, 2, 2, 3, 2, 2, 3, 5, 2, 3, 1, 1, 4, 1, 3, 2, 2, 7, 1, 1, 3, 5, 3, 2, 4, 2, 3, 1, 3, 1, 4, 1, 2, 7, 4, 2, 4, 4, 3, 2, 2, 1, 3, 2, 0, 2, 2, 6, 2, 4, 2, 2, 3, 2, 1, 1, 6, 2, 2, 3, 2, 5, 2, 2, 3, 5, 2, 3, 4, 0, 1, 5, 3, 5, 1, 3, 3, 3, 4, 4, 4, 3, 5, 2, 3, 5, 7, 4, 4, 1, 3, 3, 4, 1, 3, 2, 2, 6, 3, 6, 4, 2, 2, 2, 2, 3, 2, 1, 3, 6, 2, 1, 2, 1, 3, 3, 3, 6, 5, 2, 3, 2, 4, 2, 2, 2, 1, 1, 2, 1, 3, 1, 1, 1, 2, 2, 4, 10, 3, 2, 3, 0, 2, 1, 3, 2, 3, 2, 2, 1, 3, 3, 4, 2, 1, 3, 0, 4, 3, 3, 4, 3, 1, 2, 3, 3, 2, 3, 2, 0, 1, 4, 5, 4, 1, 2, 2, 2, 3, 4, 4, 4, 4, 2, 1, 1, 4, 2, 3, 4, 2, 2, 1, 3, 6, 2, 2, 4, 4, 1, 2, 3, 2, 2, 2, 1, 2, 3, 2, 6, 1, 2, 4, 3, 2, 3, 2, 2, 5, 5, 5, 3, 1, 2, 3, 2, 1, 2, 2, 1, 2, 3, 1, 4, 2, 2, 2, 2, 2, 3, 2, 1, 2, 1, 2, 1, 4, 4, 1, 3, 1, 1, 2, 2, 5, 4, 3, 4, 2, 3, 3, 2, 4, 5, 3, 1, 3, 3, 1, 2, 3, 2, 2, 2, 2, 1, 2, 4, 2, 8, 2, 2, 2, 2, 2, 1, 2, 2, 4, 1, 4, 6, 3, 4, 3, 7, 2, 3, 2, 4, 5, 3, 3, 4, 2, 1, 1, 2, 3, 2, 2, 1, 2, 8, 3, 4, 5, 2, 4, 3, 3, 3, 1, 2, 2, 1, 3, 2, 3, 1, 3, 3, 3, 3, 1, 1, 1, 2, 1, 4, 2, 2, 2, 2, 2, 3, 1, 3, 1, 0, 1, 3, 4, 4, 4, 2, 2, 1, 3, 2, 4, 1, 1, 2, 2, 3, 4, 6, 3, 5, 2, 5, 3, 2, 2, 4, 5, 1, 0, 3, 6, 2, 3, 3, 4, 2, 4, 1, 1, 2, 1, 2, 4, 1, 3, 5, 1, 4, 3, 1, 3, 3, 2, 1, 1, 3, 2, 6, 3, 2, 2, 8, 3, 4, 0, 5, 2, 1, 3, 2, 4, 1, 5, 3, 1, 2, 2, 5, 2, 2, 1, 2, 4, 1, 1, 4, 2, 4, 2, 4, 2, 3, 2, 3, 1, 1, 1, 2, 1, 2, 1, 2, 2, 3, 2, 3, 2, 4, 4, 2, 1, 2, 4, 4, 4, 1, 2, 4, 1, 3, 3, 3, 5, 3, 3, 6, 4, 2, 3, 1, 4, 3, 2, 3, 2, 6, 2, 3, 2, 2, 2, 3, 4, 1, 2, 5, 2, 6, 2, 4, 2, 1, 2, 1, 1, 1, 1, 3, 2, 2, 2, 1, 5, 2, 2, 1, 3, 1, 1, 2, 2, 3, 2, 1, 2, 2, 1, 1, 3, 2, 1, 3, 2, 4, 3, 5, 3, 2, 3, 4, 2, 3, 1, 2, 1, 2, 3, 4, 4, 2, 2, 4, 1, 3, 2, 2, 5, 3, 3, 2, 3, 1, 3, 1, 2, 8, 3, 2, 6, 6, 7, 2, 2, 3, 2, 2, 7, 4, 2, 4, 4, 5, 3, 2, 2, 1, 2, 1, 3, 1, 2, 2, 0, 3, 2, 4, 2, 2, 2, 2, 2, 2, 2, 2, 2, 1, 2, 1, 5, 1, 4, 4, 1, 2, 2, 2, 1, 0, 1, 0, 5, 2, 3, 2, 3, 2, 3, 4, 2, 2, 2, 4, 3, 4, 2, 2, 4, 1, 5, 6, 11, 3, 2, 1, 2, 4, 9, 2, 4, 2, 2, 2, 1, 3, 6, 1, 2, 2, 2, 2, 2, 5, 3, 3, 3, 2, 2, 3, 2, 2, 1, 8, 2, 1, 3, 3, 1, 4, 2, 3, 4, 3, 2, 3, 1, 3, 2, 2, 3, 3, 3, 1, 4, 4, 3, 4, 2, 2, 6, 2, 2, 3, 1, 6, 7, 3, 2, 3, 2, 1, 2, 2, 2, 2, 2, 2, 3, 3, 1, 2, 3, 1, 3, 2, 4, 2, 4, 2, 2, 5, 6, 1, 3, 2, 1, 2, 3, 4, 2, 4, 4, 1, 2, 3, 7, 1, 3, 3, 2, 2, 4, 4, 2, 3, 2, 2, 3, 2, 2, 6, 3, 4, 1, 5, 4, 4, 3, 6, 2, 5, 3, 2, 3, 2, 2, 3, 7, 2, 2, 2, 4, 3, 2, 2, 4, 2, 4, 4, 3, 3, 4, 2, 3, 3, 2, 2, 2, 2, 2, 2, 6, 6, 3, 1, 1, 3, 3, 2, 2, 3, 2, 2, 5, 1, 2, 1, 2, 2, 5, 2, 3, 2, 5, 2, 2, 2, 5, 2, 3, 6, 3, 1, 2, 3, 3, 2, 2, 7, 4, 3, 3, 5, 5, 2, 6, 1, 1, 1, 1, 3, 1, 3, 4, 3, 4, 4, 2, 1, 3, 3, 5, 4, 2, 2, 1, 3, 5, 3, 4, 2, 5, 4, 2, 2, 1, 2, 3, 5, 2, 4, 2, 3, 1, 2, 0, 1, 1, 2, 1, 1, 2, 3, 1, 2, 1, 1, 2, 1, 2, 2, 3, 2, 3, 4, 4, 3, 2, 2, 2, 4, 2, 2, 5, 3, 3, 1, 3, 3, 2, 3, 2, 2, 2, 3, 1, 2, 2, 3, 1, 3, 3, 2, 2, 2, 2, 2, 3, 1, 5, 1, 2, 1, 2, 8, 6, 2, 2, 5, 6, 4, 3, 6, 2, 2, 2, 1, 3, 2, 2, 2, 3, 2, 3, 3, 2, 2, 3, 1, 1, 1, 4, 4, 4, 1, 1, 1, 1, 5, 2, 1, 2, 1, 2, 6, 5, 1, 3, 1, 5, 4, 1, 2, 2, 2, 2, 2, 1, 6, 5, 1, 5, 3, 3, 3, 3, 4, 1, 1, 4, 4, 3, 3, 1, 2, 2, 3, 2, 2, 1, 3, 2, 2, 3, 2, 3, 11, 1, 5, 3, 3, 3, 2, 1, 2, 6, 3, 5, 2, 2, 2, 2, 2, 2, 2, 2, 2, 2, 1, 4, 4, 1, 6, 1, 2, 2, 2, 1, 4, 2, 4, 3, 2, 2, 2, 4, 2, 2, 2, 2, 4, 3, 1, 4, 1, 1, 4, 3, 3, 1, 4, 3, 1, 5, 1, 2, 2, 5, 2, 2, 1, 1, 1, 2, 4, 3, 2, 3, 2, 2, 3, 2, 2, 1, 2, 2, 2, 1, 2, 1, 4, 3, 4, 4, 2, 2, 3, 2, 2, 6, 2, 3, 1, 2, 3, 2, 2, 1, 3, 3, 2, 2, 1, 1, 5, 5, 1, 6, 0, 3, 2, 1, 2, 6, 2, 1, 1, 1, 2, 1, 6, 5, 0, 4, 3, 3, 2, 3, 2, 4, 2, 3, 1, 2, 1, 2, 2, 2, 1, 3, 1, 2, 1, 5, 1, 2, 4, 3, 2, 1, 1, 1, 2, 2, 3, 3, 3, 2, 5, 2, 2, 2, 1, 3, 2, 4, 2, 1, 3, 1, 1, 1, 1, 3, 4, 1, 1, 1, 2, 5, 6, 3, 3, 3, 2, 2, 4, 3, 2, 2, 1, 2, 1, 4, 3, 3, 9, 7, 4, 3, 1, 2, 4, 3, 2, 1, 2, 3, 9, 3, 4, 8, 6, 5, 4, 1, 2, 2, 1, 4, 2, 2, 1, 4, 0, 4, 1, 3, 2, 3, 5, 1, 3, 1, 1, 3, 4, 3, 2, 4, 1, 1, 1, 3, 3, 1, 2, 2, 3, 2, 4, 2, 5, 2, 4, 1, 4, 7, 3, 4, 2, 2, 2, 0, 3, 2, 2, 2, 3, 1, 3, 2, 3, 1, 4, 4, 2, 3, 1, 3, 1, 0, 2, 2, 3, 2, 2, 2, 2, 4, 3, 1, 3, 2, 2, 5, 2, 2, 3, 2, 2, 1, 2, 2, 4, 2, 1, 2, 3, 3, 2, 4, 2, 2, 2, 2, 2, 3, 2, 4, 7, 0, 4, 2, 4, 2, 6, 2, 1, 2, 3, 3, 2, 4, 2, 3, 3, 5, 1, 2, 4, 1, 4, 2, 2, 7, 4, 2, 2, 3, 10, 0, 3, 4, 2, 3, 2, 3, 3, 1, 3, 2, 5, 2, 4, 4, 2, 1, 2, 2, 2, 3, 2, 2, 5, 3, 2, 1, 2, 2, 1, 1, 3, 1, 3, 3, 3, 2, 2, 1, 3, 2, 1, 3, 5, 1, 4, 2, 2, 3, 2, 2, 2, 2, 3, 1, 2, 2, 3, 2, 1, 2, 2, 5, 3, 6, 4, 1, 1, 1, 2, 2, 2, 3, 1, 1, 2, 2, 3, 2, 3, 2, 4, 2, 2, 2, 1, 1, 4, 1, 4, 3, 6, 1, 2, 1, 6, 1, 3, 3, 3, 2, 4, 3, 2, 2, 3, 4, 2, 5, 1, 3, 5, 3, 3, 4, 2, 2, 2, 4, 5, 2, 4, 1, 2, 6, 1, 3, 3, 2, 3, 1, 4, 2, 2, 3, 5, 2, 2, 1, 6, 2, 4, 2, 2, 2, 2, 2, 2, 3, 1, 4, 1, 4, 1, 1, 2, 1, 2, 4, 1, 5, 2, 4, 1, 4, 2, 2, 2, 4, 3, 1, 3, 2, 3, 3, 9, 3, 6, 1, 2, 2, 1, 2, 3, 3, 3, 5, 1, 2, 4, 2, 1, 2, 3, 3, 4, 2, 4, 4, 2, 5, 2, 3, 7, 1, 4, 2, 2, 3, 3, 2, 2, 3, 2, 2, 3, 3, 3, 1, 2, 2, 4, 1, 1, 2, 3, 1, 3, 2, 2, 3, 1, 1, 6, 2, 3, 10, 1, 2, 3, 2, 5, 2, 2, 1, 1, 1, 1, 3, 3, 1, 4, 2, 2, 4, 1, 2, 2, 2, 3, 1, 2, 2, 5, 4, 4, 2, 4, 3, 6, 3, 2, 4, 3, 1, 1, 1, 2, 4, 4, 2, 1, 2, 1, 4, 4, 1, 3, 3, 6, 2, 2, 4, 4, 3, 4, 3, 2, 6, 4, 2, 3, 1, 2, 4, 3, 1, 2, 2, 2, 2, 1, 2, 2, 2, 1, 6, 7, 2, 2, 4, 3, 3, 1, 5, 4, 4, 2, 3, 1, 2, 4, 2, 1, 3, 1, 2, 5, 3, 1, 1, 3, 2, 5, 1, 3, 2, 1, 1, 3, 4, 5, 2, 2, 3, 3, 4, 4, 5, 5, 2, 2, 1, 1, 4, 2, 4, 3, 2, 1, 2, 5, 1, 5, 4, 7, 0, 3, 3, 2, 2, 1, 3, 2, 4, 3, 1, 5, 4, 3, 3, 2, 2, 6, 3, 5, 1, 2, 2, 2, 4, 2, 5, 3, 2, 1, 5, 2, 3, 2, 3, 3, 4, 2, 3, 2, 6, 3, 1, 1, 2, 3, 2, 2, 2, 2, 1, 4, 2, 3, 2, 1, 4, 2, 2, 5, 5, 5, 2, 3, 3, 5, 2, 2, 2, 2, 2, 3, 3, 1, 6, 2, 4, 2, 3, 3, 3, 2, 2, 2, 3, 2, 1, 4, 4, 2, 6, 5, 1, 4, 1, 4, 2, 1, 1, 1, 1, 2, 3, 4, 1, 3, 3, 3, 6, 2, 3, 2, 1, 1, 2, 4, 3, 3, 5, 4, 1, 3, 4, 2, 4, 4, 1, 3, 1, 2, 1, 1, 2, 3, 5, 1, 1, 2, 4, 2, 2, 2, 6, 3, 8, 3, 5, 7, 5, 2, 4, 1, 2, 2, 1, 1, 3, 1, 3, 4, 4, 2, 2, 1, 5, 1, 3, 5, 2, 3, 1, 2, 2, 1, 1, 3, 1, 1, 3, 2, 3, 2, 6, 2, 4, 3, 4, 6, 3, 5, 4, 4, 2, 2, 4, 5, 3, 4, 3, 2, 4, 2, 4, 2, 4, 5, 2, 4, 3, 4, 4, 2, 2, 1, 2, 1, 2, 2, 4, 1, 3, 2, 1, 3, 2, 3, 4, 1, 4, 2, 2, 1, 1, 4, 1, 5, 3, 2, 3, 4, 3, 4, 4, 5, 4, 4, 2, 1, 3, 4, 2, 1, 1, 4, 2, 3, 1, 2, 2, 3, 2, 5, 1, 3, 5, 2, 3, 2, 3, 2, 3, 1, 1, 5, 3, 4, 2, 3, 2, 5, 4, 2, 3, 3, 2, 1, 2, 1, 4, 4, 4, 3, 2, 4, 1, 3, 2, 5, 5, 2, 4, 2, 2, 3, 4, 1, 2, 2, 1, 2, 1, 3, 3, 2, 5, 2, 1, 4, 3, 2, 4, 10, 2, 1, 3, 2, 3, 2, 2, 2, 2, 0, 3, 3, 3, 2, 2, 1, 7, 3, 2, 3, 5, 4, 3, 1, 2, 2, 2, 4, 2, 5, 1, 2, 2, 2, 2, 2, 1, 5, 1, 2, 1, 2, 2, 2, 3, 3, 2, 1, 2, 3, 1, 1, 2, 3, 8, 6, 1, 4, 6, 6, 4, 1, 2, 3, 2, 3, 5, 5, 3, 3, 3, 8, 2, 3, 3, 2, 1, 2, 2, 3, 3, 3, 2, 3, 0, 1, 2, 3, 2, 5, 3, 2, 2, 2, 2, 4, 2, 6, 1, 5, 4, 2, 2, 2, 2, 3, 5, 1, 3, 2, 3, 2, 2, 2, 2, 4, 5, 1, 2, 3, 2, 2, 3, 1, 2, 3, 2, 6, 2, 1, 4, 1, 2, 3, 3, 2, 4, 4, 4, 2, 3, 3, 5, 1, 0, 1, 3, 5, 3, 6, 1, 3, 4, 3, 2, 1, 1, 3, 4, 3, 3, 1, 3, 2, 0, 2, 3, 2, 2, 2, 1, 3, 3, 3, 4, 3, 5, 1, 2, 5, 3, 3, 2, 1, 1, 5, 2, 4, 4, 2, 2, 1, 2, 6, 1, 1, 4, 2, 5, 2, 2, 5, 4, 2, 3, 3, 1, 3, 1, 1, 1, 1, 2, 1, 2, 3, 2, 4, 4, 3, 3, 4, 2, 5, 3, 2, 2, 1, 3, 4, 2, 1, 6, 2, 2, 1, 1, 1, 1, 0, 2, 2, 1, 1, 4, 0, 2, 0, 6, 3, 3, 4, 3, 3, 12, 1, 2, 2, 5, 1, 2, 3, 3, 1, 4, 2, 4, 4, 2, 2, 3, 2, 2, 2, 2, 1, 1, 5, 4, 2, 4, 2, 3, 3, 4, 3, 3, 2, 3, 3, 1, 2, 3, 2, 2, 1, 2, 2, 1, 1, 1, 3, 1, 1, 2, 4, 2, 2, 3, 4, 2, 2, 2, 1, 3, 2, 3, 3, 1, 2, 2, 2, 3, 2, 1, 1, 2, 4, 2, 6, 4, 2, 5, 3, 1, 2, 2, 2, 4, 3, 6, 3, 2, 1, 1, 2, 5, 5, 2, 2, 1, 2, 1, 5, 3, 2, 1, 4, 2, 2, 2, 2, 2, 2, 2, 4, 2, 5, 4, 2, 3, 3, 2, 3, 3, 1, 1, 2, 6, 5, 5, 2, 3, 3, 7, 7, 1, 2, 2, 2, 4, 2, 3, 2, 3, 4, 7, 1, 3, 1, 2, 1, 2, 4, 2, 5, 2, 1, 2, 1, 1, 3, 1, 2, 1, 1, 2, 2, 3, 3, 1, 5, 2, 2, 1, 1, 2, 2, 1, 3, 3, 2, 2, 5, 1, 2, 3, 2, 3, 1, 1, 2, 1, 2, 1, 3, 2, 3, 2, 3, 3, 1, 1, 1, 2, 2, 6, 3, 2, 1, 3, 3, 1, 4, 2, 2, 1, 1, 2, 3, 4, 4, 1, 2, 2, 1, 2, 2, 3, 0, 2, 3, 1, 3, 1, 2, 4, 6, 1, 2, 10, 2, 2, 3, 4, 3, 5, 2, 6, 2, 1, 3, 1, 3, 2, 2, 2, 1, 1, 1, 2, 1, 4, 3, 1, 5, 5, 2, 3, 2, 2, 1, 2, 3, 2, 2, 1, 2, 2, 4, 2, 4, 2, 3, 4, 1, 2, 1, 6, 3, 0, 5, 3, 4, 4, 2, 4, 5, 1, 3, 3, 1, 6, 0, 2, 2, 1, 3, 3, 3, 2, 2, 5, 5, 3, 1, 3, 4, 1, 2, 4, 2, 3, 2, 2, 2, 5, 3, 2, 2, 1, 2, 1, 2, 3, 3, 6, 1, 2, 2, 2, 3, 4, 3, 4, 3, 2, 3, 1, 1, 1, 2, 4, 2, 1, 3, 1, 3, 3, 1, 2, 5, 2, 2, 3, 2, 1, 2, 4, 1, 1, 3, 2, 2, 2, 2, 2, 3, 3, 1, 2, 4, 2, 4, 1, 2, 2, 3, 2, 4, 3, 3, 1, 3, 4, 5, 3, 3, 2, 4, 2, 3, 1, 2, 1, 1, 2, 3, 1, 2, 4, 1, 2, 2, 3, 4, 3, 3, 4, 4, 2, 1, 0, 1, 3, 2, 3, 2, 2, 3, 3, 7, 1, 3, 4, 3, 5, 8, 4, 1, 2, 3, 4, 1, 4, 1, 2, 3, 2, 1, 5, 4, 2, 5, 1, 2, 2, 4, 1, 4, 2, 5, 3, 3, 1, 2, 1, 0, 2, 3, 2, 2, 1, 1, 1, 2, 3, 1, 6, 4, 2, 2, 1, 4, 2, 2, 3, 3, 3, 4, 2, 1, 4, 3, 1, 4, 1, 3, 1, 2, 3, 2, 2, 3, 5, 4, 2, 2, 1, 3, 2, 1, 1, 2, 3, 3, 4, 7, 4, 2, 6, 2, 2, 4, 2, 3, 1, 2, 1, 2, 2, 1, 1, 7, 3, 3, 2, 2, 3, 3, 2, 1, 3, 3, 2, 2, 4, 1, 2, 3, 2, 1, 2, 1, 2, 1, 10, 4, 3, 1, 2, 5, 0, 2, 4, 5, 5, 4, 2, 3, 2, 4, 2, 2, 3, 1, 2, 3, 2, 3, 4, 1, 5, 2, 2, 2, 3, 3, 3, 5, 1, 1, 2, 5, 3, 4, 2, 0, 2, 2, 6, 1, 2, 3, 2, 3, 3, 7, 1, 2, 2, 2, 3, 4, 3, 2, 3, 3, 2, 1, 2, 2, 2, 1, 3, 2, 3, 2, 1, 3, 1, 2, 4, 3, 3, 1, 2, 4, 3, 4, 2, 2, 1, 3, 1, 3, 0, 1, 1, 4, 6, 2, 4, 4, 1, 3, 0, 1, 1, 1, 2, 4, 2, 2, 2, 1, 2, 1, 4, 1, 4, 4, 4, 1, 3, 2, 1, 1, 3, 1, 2, 1, 1, 1, 1, 2, 2, 2, 1, 3, 3, 4, 2, 3, 1, 3, 1, 1, 3, 5, 2, 1, 6, 3, 1, 4, 3, 2, 1, 2, 5, 0, 2, 2, 2, 3, 4, 4, 3, 4, 1, 3, 1, 1, 2, 6, 1, 2, 3, 3, 1, 2, 1, 2, 4, 5, 5, 1, 2, 1, 3, 1, 4, 2, 2, 4, 4, 4, 1, 5, 2, 3, 5, 1, 4, 4, 1, 1, 4, 1, 1, 0, 1, 4, 1, 3, 2, 1, 4, 4, 1, 3, 4, 1, 5, 3, 2, 1, 2, 2, 0, 2, 3, 1, 1, 1, 1, 2, 2, 4, 1, 2, 3, 2, 2, 1, 1, 3, 6, 1, 6, 0, 1, 7, 3, 2, 1, 1, 1, 4, 1, 2, 2, 0, 6, 4, 1, 3, 2, 2, 1, 3, 2, 3, 4, 1, 2, 5, 1, 3, 3, 4, 3, 0, 6, 2, 2, 4, 3, 2, 2, 1, 2, 2, 1, 1, 1, 1, 3, 3, 1, 3, 1, 3, 2, 2, 3, 4, 3, 6, 2, 1, 2, 4, 2, 1, 2, 2, 2, 2, 1, 2, 1, 3, 2, 3, 2, 1, 1, 1, 1, 3, 5, 1, 1, 1, 1, 3, 1, 3, 2, 3, 2, 1, 1, 1, 3, 1, 3, 2, 2, 1, 1, 2, 2, 1, 5, 4, 1, 0, 1, 1, 3, 2, 2, 0, 3, 3, 2, 4, 4, 2, 3, 1, 2, 3, 1, 1, 0, 3, 0, 3, 2, 2, 1, 5, 3, 3, 3, 3, 3, 1, 7, 4, 2, 3, 1, 1, 1, 2, 2, 1, 3, 1, 2, 2, 1, 1, 2, 6, 3, 2, 2, 2, 3, 3, 1, 5, 3, 5, 4, 5, 5, 3, 1, 5, 2, 0, 1, 2, 5, 4, 2, 3, 4, 2, 1, 0, 1, 2, 3, 2, 1, 5, 3, 2, 5, 2, 4, 8, 1, 4, 5, 4, 3, 3, 1, 2, 2, 4, 1, 3, 6, 3, 2, 2, 1, 1, 2, 5, 1, 0, 2, 2, 4, 2, 3, 3, 1, 3, 3, 3, 4, 2, 2, 1, 1, 2, 5, 1, 2, 3, 1, 2, 4, 1, 3, 3, 2, 3, 3, 2, 3, 3, 2, 2, 2, 3, 1, 1, 7, 1, 8, 1, 3, 2, 3, 2, 1, 1, 1, 5, 2, 2, 2, 1, 2, 5, 3, 2, 2, 3, 2, 7, 2, 2, 3, 5, 1, 3, 2, 9, 2, 2, 1, 2, 2, 4, 1, 4, 2, 2, 5, 2, 1, 3, 3, 1, 1, 2, 3, 1, 1, 2, 1, 1, 3, 5, 2, 4, 2, 5, 2, 5, 2, 4, 3, 3, 2, 1, 5, 2, 5, 3, 1, 1, 5, 2, 3, 1, 2, 1, 2, 5, 3, 4, 1, 5, 4, 1, 2, 2, 6, 4, 3, 2, 2, 1, 5, 6, 2, 6, 2, 4, 2, 2, 6, 2, 2, 3, 1, 1, 6, 2, 4, 2, 3, 3, 4, 4, 2, 3, 3, 6, 1, 1, 3, 1, 2, 1, 1, 1, 2, 1, 1, 4, 3, 6, 1, 2, 3, 4, 2, 4, 3, 6, 1, 1, 3, 2, 3, 3, 2, 2, 2, 4, 3, 4, 4, 1, 1, 6, 1, 2, 1, 5, 1, 2, 3, 2, 2, 2, 1, 4, 4, 5, 3, 3, 4, 3, 1, 2, 3, 3, 3, 3, 4, 1, 1, 2, 3, 2, 1, 3, 2, 2, 2, 3, 2, 3, 3, 3, 4, 1, 2, 3, 3, 3, 2, 4, 1, 2, 7, 3, 2, 4, 3, 3, 2, 3, 0, 4, 2, 4, 2, 5, 4, 4, 1, 1, 1, 5, 3, 3, 3, 1, 3, 3, 1, 3, 2, 1, 4, 1, 2, 2, 1, 1, 1, 3, 1, 3, 2, 2, 4, 3, 2, 1, 1, 2, 1, 2, 2, 4, 3, 2, 1, 3, 3, 6, 1, 0, 3, 1, 3, 3, 3, 5, 4, 4, 3, 2, 2, 2, 1, 1, 3, 1, 3, 2, 3, 6, 6, 2, 4, 2, 4, 3, 4, 1, 2, 2, 1, 3, 3, 2, 4, 2, 4, 2, 1, 2, 2, 2, 4, 2, 3, 2, 3, 4, 4, 2, 1, 1, 3, 3, 2, 4, 4, 6, 5, 3, 4, 3, 2, 2, 3, 1, 4, 2, 3, 3, 2, 3, 5, 0, 2, 4, 1, 1, 1, 4, 3, 2, 4, 2, 2, 1, 7, 9, 2, 6, 4, 3, 3, 4, 4, 4, 2, 2, 3, 2, 3, 2, 3, 2, 2, 4, 5, 3, 4, 5, 3, 4, 1, 1, 2, 1, 1, 1, 2, 7, 2, 1, 2, 2, 2, 4, 2, 4, 1, 2, 6, 2, 4, 2, 2, 4, 4, 2, 2, 2, 2, 1, 1, 4, 1, 1, 2, 4, 2, 2, 2, 2, 4, 1, 2, 2, 3, 3, 1, 1, 6, 3, 1, 4, 2, 3, 2, 4, 2, 2, 2, 2, 4, 4, 6, 3, 3, 1, 3, 3, 3, 1, 3, 3, 2, 3, 2, 2, 4, 4, 4, 2, 2, 6, 2, 1, 1, 2, 1, 4, 3, 2, 2, 2, 4, 2, 2, 4, 3, 3, 3, 5, 1, 4, 2, 0, 2, 2, 4, 3, 3, 3, 4, 8, 3, 4, 4, 3, 2, 1, 2, 2, 2, 2, 2, 2, 2, 2, 4, 1, 1, 3, 3, 1, 2, 0, 1, 2, 1, 1, 2, 4, 2, 2, 3, 4, 3, 4, 4, 2, 4, 2, 2, 2, 2, 2, 2, 1, 2, 2, 2, 4, 3, 2, 3, 2, 3, 4, 4, 4, 6, 1, 2, 4, 9, 4, 4, 2, 4, 3, 1, 4, 1, 1, 3, 7, 1, 5, 3, 2, 4, 1, 3, 5, 1, 4, 2, 3, 3, 2, 3, 3, 3, 5, 2, 9, 4, 2, 5, 1, 3, 3, 2, 6, 2, 2, 1, 4, 1, 1, 1, 1, 2, 2, 2, 3, 2, 2, 3, 1, 2, 1, 6, 1, 2, 0, 3, 2, 3, 7, 1, 4, 4, 1, 5, 2, 2, 1, 2, 2, 4, 2, 4, 4, 3, 4, 4, 5, 5, 4, 2, 2, 2, 3, 3, 4, 2, 4, 1, 4, 3, 3, 1, 3, 2, 1, 2, 2, 3, 1, 2, 2, 3, 8, 1, 2, 1, 2, 1, 3, 1, 2, 3, 4, 3, 3, 3, 1, 3, 1, 4, 4, 5, 4, 2, 3, 2, 2, 3, 1, 2, 1, 3, 3, 3, 3, 3, 4, 2, 3, 5, 2, 1, 1, 5, 2, 4, 3, 2, 3, 2, 2, 3, 4, 3, 1, 1, 2, 2, 1, 2, 1, 1, 3, 1, 1, 3, 3, 6, 4, 4, 4, 3, 6, 1, 2, 1, 2, 3, 2, 6, 1, 5, 1, 3, 4, 5, 1, 4, 2, 2, 9, 5, 7, 3, 4, 3, 2, 4, 1, 1, 4, 3, 2, 1, 5, 1, 1, 3, 3, 1, 6, 3, 2, 2, 2, 2, 2, 2, 2, 4, 2, 3, 1, 1, 2, 1, 2, 5, 1, 5, 1, 2, 3, 2, 3, 4, 5, 2, 5, 2, 3, 2, 1, 2, 2, 3, 1, 1, 3, 1, 5, 8, 3, 3, 4, 2, 1, 1, 2, 1, 1, 3, 1, 3, 1, 5, 2, 1, 3, 2, 4, 2, 2, 3, 0, 2, 2, 2, 2, 1, 2, 2, 5, 2, 3, 1, 2, 2, 2, 1, 4, 2, 1, 2, 1, 1, 2, 1, 1, 2, 3, 4, 4, 2, 0, 2, 6, 2, 4, 3, 3, 0, 4, 6, 1, 2, 1, 3, 3, 4, 2, 3, 2, 1, 1, 1, 3, 3, 1, 2, 3, 1, 1, 3, 1, 1, 5, 4, 4, 3, 3, 2, 3, 3, 4, 2, 3, 5, 0, 4, 2, 5, 3, 6, 2, 4, 6, 4, 1, 2, 3, 2, 2, 1, 2, 6, 2, 1, 2, 1, 8, 3, 3, 5, 2, 3, 5, 4, 2, 3, 3, 3, 3, 4, 4, 3, 5, 2, 3, 2, 2, 4, 2, 4, 4, 4, 3, 3, 6, 2, 3, 5, 2, 1, 2, 3, 4, 5, 3, 5, 3, 2, 3, 3, 1, 1, 3, 4, 2, 3, 5, 4, 3, 3, 4, 2, 4, 5, 2, 1, 2, 1, 2, 2, 4, 3, 3, 2, 1, 3, 5, 4, 2, 1, 4, 3, 1, 0, 4, 1, 1, 2, 4, 1, 4, 1, 4, 1, 5, 2, 3, 1, 2, 5, 6, 2, 2, 2, 1, 2, 1, 5, 3, 2, 2, 2, 4, 2, 1, 4, 2, 3, 4, 3, 3, 2, 4, 2, 2, 3, 2, 2, 6, 2, 2, 2, 2, 2, 4, 2, 3, 2, 2, 3, 1, 5, 1, 3, 2, 4, 2, 2, 5, 5, 4, 3, 1, 3, 3, 1, 3, 1, 1, 1, 2, 2, 1, 2, 2, 2, 3, 3, 2, 4, 2, 6, 4, 1, 3, 2, 2, 2, 1, 2, 1, 2, 1, 3, 1, 2, 2, 3, 5, 2, 2, 1, 4, 4, 4, 4, 2, 3, 3, 4, 4, 2, 2, 2, 2, 3, 6, 3, 4, 4, 4, 4, 1, 2, 2, 5, 1, 1, 2, 2, 2, 3, 2, 1, 1, 3, 3, 3, 3, 3, 2, 2, 2, 1, 3, 3, 1, 1, 2, 0, 2, 2, 4, 7, 3, 3, 2, 2, 3, 3, 6, 1, 1, 4, 4, 2, 2, 3, 1, 2, 1, 3, 2, 2, 2, 2, 2, 4, 1, 5, 5, 1, 1, 2, 2, 3, 2, 4, 3, 2, 2, 5, 2, 5, 1, 5, 5, 2, 3, 2, 3, 1, 2, 4, 4, 3, 1, 3, 4, 1, 1, 4, 4, 1, 1, 1, 3, 3, 2, 2, 1, 2, 5, 5, 2, 2, 2, 5, 1, 2, 4, 2, 4, 4, 2, 2, 2, 3, 2, 3, 3, 3, 2, 3, 6, 2, 1, 1, 2, 3, 2, 3, 2, 3, 4, 2, 4, 3, 1, 2, 6, 3, 4, 1, 3, 5, 3, 1, 3, 3, 2, 5, 3, 4, 5, 3, 3, 3, 5, 7, 4, 1, 5, 3, 3, 3, 2, 2, 3, 2, 4, 3, 5, 2, 1, 8, 3, 11, 2, 8, 5, 3, 6, 3, 4, 3, 5, 3, 2, 2, 6, 3, 2, 3, 2, 3, 1, 2, 5, 3, 1, 6, 1, 2, 1, 5, 4, 1, 4, 2, 2, 4, 4, 2, 3, 3, 1, 2, 1, 4, 6, 2, 4, 2, 8, 4, 3, 3, 1, 3, 2, 4, 4, 3, 3, 5, 1, 7, 4, 7, 2, 2, 2, 2, 1, 2, 4, 3, 5, 3, 3, 1, 2, 0, 3, 1, 3, 5, 2, 6, 2, 4, 2, 4, 2, 3, 2, 2, 2, 2, 2, 2, 2, 3, 0, 2, 3, 3, 2, 4, 5, 2, 2, 1, 2, 2, 1, 2, 1, 1, 3, 3, 1, 4, 2, 4, 6, 3, 4, 3, 2, 2, 5, 1, 1, 5, 1, 1, 6, 2, 5, 2, 3, 2, 1, 1, 4, 4, 2, 2, 4, 2, 4, 3, 1, 2, 2, 4, 3, 3, 7, 5, 3, 3, 2, 1, 2, 2, 2, 2, 1, 2, 2, 4, 1, 2, 4, 2, 0, 2, 2, 2, 1, 3, 2, 3, 1, 1, 1, 1, 3, 2, 2, 1, 2, 3, 2, 2, 3, 2, 3, 2, 1, 3, 2, 2, 2, 0, 2, 4, 1, 3, 3, 2, 2, 4, 2, 2, 2, 2, 3, 7, 3, 3, 3, 3, 6, 1, 1, 5, 4, 3, 2, 3, 1, 3, 2, 2, 2, 2, 3, 5, 3, 4, 4, 4, 5, 2, 2, 4, 3, 4, 2, 2, 2, 2, 2, 2, 1, 3, 1, 1, 3, 6, 3, 1, 4, 2, 3, 3, 2, 1, 1, 1, 3, 1, 3, 1, 1, 2, 6, 2, 3, 4, 5, 3, 2, 3, 2, 2, 2, 4, 4, 2, 2, 1, 4, 3, 3, 3, 5, 2, 2, 3, 3, 4, 4, 4, 2, 5, 1, 1, 1, 2, 1, 1, 2, 3, 1, 3, 3, 3, 8, 1, 3, 3, 2, 2, 2, 4, 4, 1, 1, 2, 1, 2, 1, 2, 2, 2, 3, 2, 2, 4, 3, 2, 2, 2, 2, 1, 3, 1, 5, 4, 2, 4, 2, 5, 3, 2, 4, 4, 2, 2, 3, 2, 3, 6, 2, 2, 2, 3, 3, 2, 2, 5, 6, 1, 3, 3, 4, 2, 1, 4, 8], \"xaxis\": \"x\", \"yaxis\": \"y\"}],\n",
              "                        {\"barmode\": \"relative\", \"legend\": {\"tracegroupgap\": 0}, \"margin\": {\"t\": 60}, \"template\": {\"data\": {\"bar\": [{\"error_x\": {\"color\": \"#2a3f5f\"}, \"error_y\": {\"color\": \"#2a3f5f\"}, \"marker\": {\"line\": {\"color\": \"#E5ECF6\", \"width\": 0.5}}, \"type\": \"bar\"}], \"barpolar\": [{\"marker\": {\"line\": {\"color\": \"#E5ECF6\", \"width\": 0.5}}, \"type\": \"barpolar\"}], \"carpet\": [{\"aaxis\": {\"endlinecolor\": \"#2a3f5f\", \"gridcolor\": \"white\", \"linecolor\": \"white\", \"minorgridcolor\": \"white\", \"startlinecolor\": \"#2a3f5f\"}, \"baxis\": {\"endlinecolor\": \"#2a3f5f\", \"gridcolor\": \"white\", \"linecolor\": \"white\", \"minorgridcolor\": \"white\", \"startlinecolor\": \"#2a3f5f\"}, \"type\": \"carpet\"}], \"choropleth\": [{\"colorbar\": {\"outlinewidth\": 0, \"ticks\": \"\"}, \"type\": \"choropleth\"}], \"contour\": [{\"colorbar\": {\"outlinewidth\": 0, \"ticks\": \"\"}, \"colorscale\": [[0.0, \"#0d0887\"], [0.1111111111111111, \"#46039f\"], [0.2222222222222222, \"#7201a8\"], [0.3333333333333333, \"#9c179e\"], [0.4444444444444444, \"#bd3786\"], [0.5555555555555556, \"#d8576b\"], [0.6666666666666666, \"#ed7953\"], [0.7777777777777778, \"#fb9f3a\"], [0.8888888888888888, \"#fdca26\"], [1.0, \"#f0f921\"]], \"type\": \"contour\"}], \"contourcarpet\": [{\"colorbar\": {\"outlinewidth\": 0, \"ticks\": \"\"}, \"type\": \"contourcarpet\"}], \"heatmap\": [{\"colorbar\": {\"outlinewidth\": 0, \"ticks\": \"\"}, \"colorscale\": [[0.0, \"#0d0887\"], [0.1111111111111111, \"#46039f\"], [0.2222222222222222, \"#7201a8\"], [0.3333333333333333, \"#9c179e\"], [0.4444444444444444, \"#bd3786\"], [0.5555555555555556, \"#d8576b\"], [0.6666666666666666, \"#ed7953\"], [0.7777777777777778, \"#fb9f3a\"], [0.8888888888888888, \"#fdca26\"], [1.0, \"#f0f921\"]], \"type\": \"heatmap\"}], \"heatmapgl\": [{\"colorbar\": {\"outlinewidth\": 0, \"ticks\": \"\"}, \"colorscale\": [[0.0, \"#0d0887\"], [0.1111111111111111, \"#46039f\"], [0.2222222222222222, \"#7201a8\"], [0.3333333333333333, \"#9c179e\"], [0.4444444444444444, \"#bd3786\"], [0.5555555555555556, \"#d8576b\"], [0.6666666666666666, \"#ed7953\"], [0.7777777777777778, \"#fb9f3a\"], [0.8888888888888888, \"#fdca26\"], [1.0, \"#f0f921\"]], \"type\": \"heatmapgl\"}], \"histogram\": [{\"marker\": {\"colorbar\": {\"outlinewidth\": 0, \"ticks\": \"\"}}, \"type\": \"histogram\"}], \"histogram2d\": [{\"colorbar\": {\"outlinewidth\": 0, \"ticks\": \"\"}, \"colorscale\": [[0.0, \"#0d0887\"], [0.1111111111111111, \"#46039f\"], [0.2222222222222222, \"#7201a8\"], [0.3333333333333333, \"#9c179e\"], [0.4444444444444444, \"#bd3786\"], [0.5555555555555556, \"#d8576b\"], [0.6666666666666666, \"#ed7953\"], [0.7777777777777778, \"#fb9f3a\"], [0.8888888888888888, \"#fdca26\"], [1.0, \"#f0f921\"]], \"type\": \"histogram2d\"}], \"histogram2dcontour\": [{\"colorbar\": {\"outlinewidth\": 0, \"ticks\": \"\"}, \"colorscale\": [[0.0, \"#0d0887\"], [0.1111111111111111, \"#46039f\"], [0.2222222222222222, \"#7201a8\"], [0.3333333333333333, \"#9c179e\"], [0.4444444444444444, \"#bd3786\"], [0.5555555555555556, \"#d8576b\"], [0.6666666666666666, \"#ed7953\"], [0.7777777777777778, \"#fb9f3a\"], [0.8888888888888888, \"#fdca26\"], [1.0, \"#f0f921\"]], \"type\": \"histogram2dcontour\"}], \"mesh3d\": [{\"colorbar\": {\"outlinewidth\": 0, \"ticks\": \"\"}, \"type\": \"mesh3d\"}], \"parcoords\": [{\"line\": {\"colorbar\": {\"outlinewidth\": 0, \"ticks\": \"\"}}, \"type\": \"parcoords\"}], \"pie\": [{\"automargin\": true, \"type\": \"pie\"}], \"scatter\": [{\"marker\": {\"colorbar\": {\"outlinewidth\": 0, \"ticks\": \"\"}}, \"type\": \"scatter\"}], \"scatter3d\": [{\"line\": {\"colorbar\": {\"outlinewidth\": 0, \"ticks\": \"\"}}, \"marker\": {\"colorbar\": {\"outlinewidth\": 0, \"ticks\": \"\"}}, \"type\": \"scatter3d\"}], \"scattercarpet\": [{\"marker\": {\"colorbar\": {\"outlinewidth\": 0, \"ticks\": \"\"}}, \"type\": \"scattercarpet\"}], \"scattergeo\": [{\"marker\": {\"colorbar\": {\"outlinewidth\": 0, \"ticks\": \"\"}}, \"type\": \"scattergeo\"}], \"scattergl\": [{\"marker\": {\"colorbar\": {\"outlinewidth\": 0, \"ticks\": \"\"}}, \"type\": \"scattergl\"}], \"scattermapbox\": [{\"marker\": {\"colorbar\": {\"outlinewidth\": 0, \"ticks\": \"\"}}, \"type\": \"scattermapbox\"}], \"scatterpolar\": [{\"marker\": {\"colorbar\": {\"outlinewidth\": 0, \"ticks\": \"\"}}, \"type\": \"scatterpolar\"}], \"scatterpolargl\": [{\"marker\": {\"colorbar\": {\"outlinewidth\": 0, \"ticks\": \"\"}}, \"type\": \"scatterpolargl\"}], \"scatterternary\": [{\"marker\": {\"colorbar\": {\"outlinewidth\": 0, \"ticks\": \"\"}}, \"type\": \"scatterternary\"}], \"surface\": [{\"colorbar\": {\"outlinewidth\": 0, \"ticks\": \"\"}, \"colorscale\": [[0.0, \"#0d0887\"], [0.1111111111111111, \"#46039f\"], [0.2222222222222222, \"#7201a8\"], [0.3333333333333333, \"#9c179e\"], [0.4444444444444444, \"#bd3786\"], [0.5555555555555556, \"#d8576b\"], [0.6666666666666666, \"#ed7953\"], [0.7777777777777778, \"#fb9f3a\"], [0.8888888888888888, \"#fdca26\"], [1.0, \"#f0f921\"]], \"type\": \"surface\"}], \"table\": [{\"cells\": {\"fill\": {\"color\": \"#EBF0F8\"}, \"line\": {\"color\": \"white\"}}, \"header\": {\"fill\": {\"color\": \"#C8D4E3\"}, \"line\": {\"color\": \"white\"}}, \"type\": \"table\"}]}, \"layout\": {\"annotationdefaults\": {\"arrowcolor\": \"#2a3f5f\", \"arrowhead\": 0, \"arrowwidth\": 1}, \"coloraxis\": {\"colorbar\": {\"outlinewidth\": 0, \"ticks\": \"\"}}, \"colorscale\": {\"diverging\": [[0, \"#8e0152\"], [0.1, \"#c51b7d\"], [0.2, \"#de77ae\"], [0.3, \"#f1b6da\"], [0.4, \"#fde0ef\"], [0.5, \"#f7f7f7\"], [0.6, \"#e6f5d0\"], [0.7, \"#b8e186\"], [0.8, \"#7fbc41\"], [0.9, \"#4d9221\"], [1, \"#276419\"]], \"sequential\": [[0.0, \"#0d0887\"], [0.1111111111111111, \"#46039f\"], [0.2222222222222222, \"#7201a8\"], [0.3333333333333333, \"#9c179e\"], [0.4444444444444444, \"#bd3786\"], [0.5555555555555556, \"#d8576b\"], [0.6666666666666666, \"#ed7953\"], [0.7777777777777778, \"#fb9f3a\"], [0.8888888888888888, \"#fdca26\"], [1.0, \"#f0f921\"]], \"sequentialminus\": [[0.0, \"#0d0887\"], [0.1111111111111111, \"#46039f\"], [0.2222222222222222, \"#7201a8\"], [0.3333333333333333, \"#9c179e\"], [0.4444444444444444, \"#bd3786\"], [0.5555555555555556, \"#d8576b\"], [0.6666666666666666, \"#ed7953\"], [0.7777777777777778, \"#fb9f3a\"], [0.8888888888888888, \"#fdca26\"], [1.0, \"#f0f921\"]]}, \"colorway\": [\"#636efa\", \"#EF553B\", \"#00cc96\", \"#ab63fa\", \"#FFA15A\", \"#19d3f3\", \"#FF6692\", \"#B6E880\", \"#FF97FF\", \"#FECB52\"], \"font\": {\"color\": \"#2a3f5f\"}, \"geo\": {\"bgcolor\": \"white\", \"lakecolor\": \"white\", \"landcolor\": \"#E5ECF6\", \"showlakes\": true, \"showland\": true, \"subunitcolor\": \"white\"}, \"hoverlabel\": {\"align\": \"left\"}, \"hovermode\": \"closest\", \"mapbox\": {\"style\": \"light\"}, \"paper_bgcolor\": \"white\", \"plot_bgcolor\": \"#E5ECF6\", \"polar\": {\"angularaxis\": {\"gridcolor\": \"white\", \"linecolor\": \"white\", \"ticks\": \"\"}, \"bgcolor\": \"#E5ECF6\", \"radialaxis\": {\"gridcolor\": \"white\", \"linecolor\": \"white\", \"ticks\": \"\"}}, \"scene\": {\"xaxis\": {\"backgroundcolor\": \"#E5ECF6\", \"gridcolor\": \"white\", \"gridwidth\": 2, \"linecolor\": \"white\", \"showbackground\": true, \"ticks\": \"\", \"zerolinecolor\": \"white\"}, \"yaxis\": {\"backgroundcolor\": \"#E5ECF6\", \"gridcolor\": \"white\", \"gridwidth\": 2, \"linecolor\": \"white\", \"showbackground\": true, \"ticks\": \"\", \"zerolinecolor\": \"white\"}, \"zaxis\": {\"backgroundcolor\": \"#E5ECF6\", \"gridcolor\": \"white\", \"gridwidth\": 2, \"linecolor\": \"white\", \"showbackground\": true, \"ticks\": \"\", \"zerolinecolor\": \"white\"}}, \"shapedefaults\": {\"line\": {\"color\": \"#2a3f5f\"}}, \"ternary\": {\"aaxis\": {\"gridcolor\": \"white\", \"linecolor\": \"white\", \"ticks\": \"\"}, \"baxis\": {\"gridcolor\": \"white\", \"linecolor\": \"white\", \"ticks\": \"\"}, \"bgcolor\": \"#E5ECF6\", \"caxis\": {\"gridcolor\": \"white\", \"linecolor\": \"white\", \"ticks\": \"\"}}, \"title\": {\"x\": 0.05}, \"xaxis\": {\"automargin\": true, \"gridcolor\": \"white\", \"linecolor\": \"white\", \"ticks\": \"\", \"title\": {\"standoff\": 15}, \"zerolinecolor\": \"white\", \"zerolinewidth\": 2}, \"yaxis\": {\"automargin\": true, \"gridcolor\": \"white\", \"linecolor\": \"white\", \"ticks\": \"\", \"title\": {\"standoff\": 15}, \"zerolinecolor\": \"white\", \"zerolinewidth\": 2}}}, \"xaxis\": {\"anchor\": \"y\", \"domain\": [0.0, 1.0], \"title\": {\"text\": \"summary_count\"}}, \"yaxis\": {\"anchor\": \"x\", \"domain\": [0.0, 1.0], \"title\": {\"text\": \"count\"}}},\n",
              "                        {\"responsive\": true}\n",
              "                    ).then(function(){\n",
              "                            \n",
              "var gd = document.getElementById('d502c044-4605-44f8-b4ff-61cc70512cf3');\n",
              "var x = new MutationObserver(function (mutations, observer) {{\n",
              "        var display = window.getComputedStyle(gd).display;\n",
              "        if (!display || display === 'none') {{\n",
              "            console.log([gd, 'removed!']);\n",
              "            Plotly.purge(gd);\n",
              "            observer.disconnect();\n",
              "        }}\n",
              "}});\n",
              "\n",
              "// Listen for the removal of the full notebook cells\n",
              "var notebookContainer = gd.closest('#notebook-container');\n",
              "if (notebookContainer) {{\n",
              "    x.observe(notebookContainer, {childList: true});\n",
              "}}\n",
              "\n",
              "// Listen for the clearing of the current output cell\n",
              "var outputEl = gd.closest('.output');\n",
              "if (outputEl) {{\n",
              "    x.observe(outputEl, {childList: true});\n",
              "}}\n",
              "\n",
              "                        })\n",
              "                };\n",
              "                \n",
              "            </script>\n",
              "        </div>\n",
              "</body>\n",
              "</html>"
            ]
          },
          "metadata": {
            "tags": []
          }
        }
      ]
    },
    {
      "cell_type": "code",
      "metadata": {
        "id": "hc7cmfLhGWDX"
      },
      "source": [
        "# Taking the average length of each word\n",
        "text_count_mean  =  int(statistics.mean(count['text_count']))\n",
        "summary_count_mean  =  int(statistics.mean(count['summary_count']))"
      ],
      "execution_count": 127,
      "outputs": []
    },
    {
      "cell_type": "code",
      "metadata": {
        "colab": {
          "base_uri": "https://localhost:8080/"
        },
        "id": "RpMD1slxHbHa",
        "outputId": "41cfdfd2-493d-459b-a080-c7c9297d0369"
      },
      "source": [
        "print( \"Text count mean : \" ,text_count_mean)\n",
        "print( \"Summary count mean : \" ,summary_count_mean)"
      ],
      "execution_count": 128,
      "outputs": [
        {
          "output_type": "stream",
          "text": [
            "Text count mean :  32\n",
            "Summary count mean :  2\n"
          ],
          "name": "stdout"
        }
      ]
    },
    {
      "cell_type": "code",
      "metadata": {
        "id": "rC2Bcy7FTf07"
      },
      "source": [
        "# Getting the unique word for text in our Text and Target\n",
        "unique_text_words  = []\n",
        "unique_summary_words  = []\n",
        "def get_unique_words(msg ,li):\n",
        "    for i in msg.split():\n",
        "        if i not in li :\n",
        "            li.append(i)"
      ],
      "execution_count": 129,
      "outputs": []
    },
    {
      "cell_type": "code",
      "metadata": {
        "id": "uyN231S_TgwN"
      },
      "source": [
        "data['New Text'].apply(lambda x : get_unique_words(x , unique_text_words ))\n",
        "data['New Summary'].apply(lambda x :get_unique_words(x ,unique_summary_words))\n",
        "unique_text_words_total_length = len(unique_text_words)\n",
        "unique_summary_words_total_length = len(unique_summary_words)"
      ],
      "execution_count": 130,
      "outputs": []
    },
    {
      "cell_type": "code",
      "metadata": {
        "id": "eb3S-dUNTidU"
      },
      "source": [
        "\n",
        "maxlen_text = -1\n",
        "maxlen_summary = -1  \n",
        "for doc in data['New Text']:\n",
        "    tokens = nltk.word_tokenize(doc)\n",
        "    if maxlen_text < len(tokens):\n",
        "        maxlen_text = len(tokens)\n",
        "        "
      ],
      "execution_count": 131,
      "outputs": []
    },
    {
      "cell_type": "code",
      "metadata": {
        "id": "WB9zrX1-TjOM"
      },
      "source": [
        "for doc in data['New Summary']:\n",
        "    tokens = nltk.word_tokenize(doc)\n",
        "    if maxlen_summary < len(tokens):\n",
        "        maxlen_summary = len(tokens)"
      ],
      "execution_count": 132,
      "outputs": []
    },
    {
      "cell_type": "code",
      "metadata": {
        "colab": {
          "base_uri": "https://localhost:8080/"
        },
        "id": "iRcRWACoTkLR",
        "outputId": "0c042d6e-b62d-4574-bfb3-82b355dfcf31"
      },
      "source": [
        "print(\"The maximum values in the text : \",maxlen_text)\n",
        "print(\"The maximum values in the summary: \",maxlen_summary)"
      ],
      "execution_count": 133,
      "outputs": [
        {
          "output_type": "stream",
          "text": [
            "The maximum values in the text :  805\n",
            "The maximum values in the summary:  14\n"
          ],
          "name": "stdout"
        }
      ]
    },
    {
      "cell_type": "code",
      "metadata": {
        "id": "se0k4dRGTtNA"
      },
      "source": [
        "# Finally setting up the maximum length of the Text and Target\n",
        "maxlen_summary = 5\n",
        "maxlen_text = 32"
      ],
      "execution_count": 134,
      "outputs": []
    },
    {
      "cell_type": "code",
      "metadata": {
        "colab": {
          "base_uri": "https://localhost:8080/"
        },
        "id": "-fpSO3s0Wgj6",
        "outputId": "e31a9e94-d4b0-428e-88ba-6f5c3cde674b"
      },
      "source": [
        "type(data['New Summary'])"
      ],
      "execution_count": 135,
      "outputs": [
        {
          "output_type": "execute_result",
          "data": {
            "text/plain": [
              "pandas.core.series.Series"
            ]
          },
          "metadata": {
            "tags": []
          },
          "execution_count": 135
        }
      ]
    },
    {
      "cell_type": "code",
      "metadata": {
        "colab": {
          "base_uri": "https://localhost:8080/"
        },
        "id": "sjn6c0zVRbQ5",
        "outputId": "eaf9f956-f95b-4c2e-e6d4-9bd9337fca60"
      },
      "source": [
        "data['New Text'].shape "
      ],
      "execution_count": 136,
      "outputs": [
        {
          "output_type": "execute_result",
          "data": {
            "text/plain": [
              "(19308,)"
            ]
          },
          "metadata": {
            "tags": []
          },
          "execution_count": 136
        }
      ]
    },
    {
      "cell_type": "code",
      "metadata": {
        "id": "6sDKkXP25cDS"
      },
      "source": [
        "# Addition of the <start> and <end> tokens to the Target (before feeding into the decoder)\n",
        "data['New Summary'] = data['New Summary'].apply(lambda x :\"start \" +x+ \" stop \")"
      ],
      "execution_count": 137,
      "outputs": []
    },
    {
      "cell_type": "code",
      "metadata": {
        "id": "ILiatPvMTuw1"
      },
      "source": [
        "#Splitting the dataset\n",
        "x_train , x_test , y_train , y_test = train_test_split(np.array(data['New Text']) , np.array(data['New Summary']) , test_size = 0.2 , shuffle = True,random_state=0)"
      ],
      "execution_count": 138,
      "outputs": []
    },
    {
      "cell_type": "code",
      "metadata": {
        "colab": {
          "base_uri": "https://localhost:8080/"
        },
        "id": "YO7mokDvZm2M",
        "outputId": "419b3694-0cc5-4699-bafc-cea50dd33701"
      },
      "source": [
        "x_train.shape"
      ],
      "execution_count": 139,
      "outputs": [
        {
          "output_type": "execute_result",
          "data": {
            "text/plain": [
              "(15446,)"
            ]
          },
          "metadata": {
            "tags": []
          },
          "execution_count": 139
        }
      ]
    },
    {
      "cell_type": "code",
      "metadata": {
        "colab": {
          "base_uri": "https://localhost:8080/"
        },
        "id": "veYpto_xZnHf",
        "outputId": "ec085c97-d65a-44f8-af9b-feab6866fe0c"
      },
      "source": [
        "y_train.shape"
      ],
      "execution_count": 140,
      "outputs": [
        {
          "output_type": "execute_result",
          "data": {
            "text/plain": [
              "(15446,)"
            ]
          },
          "metadata": {
            "tags": []
          },
          "execution_count": 140
        }
      ]
    },
    {
      "cell_type": "code",
      "metadata": {
        "id": "F8m4UmqLTwAQ"
      },
      "source": [
        "\n",
        "#Applying tokenization and padding to the given Text data\n",
        "x_tokenizer = Tokenizer(char_level =False)\n",
        "x_tokenizer.fit_on_texts(list(x_train))\n",
        "x_train_sequences = x_tokenizer.texts_to_sequences(x_train)\n",
        "x_test_sequences = x_tokenizer.texts_to_sequences(x_test)\n",
        "x_train_padded = pad_sequences(x_train_sequences , maxlen = maxlen_text , padding ='post')\n",
        "x_test_padded = pad_sequences(x_test_sequences , maxlen = maxlen_text , padding ='post')\n",
        "  "
      ],
      "execution_count": 141,
      "outputs": []
    },
    {
      "cell_type": "code",
      "metadata": {
        "id": "SIAvkAHRTxbg"
      },
      "source": [
        "#Applying tokenization and padding to the given Target data\n",
        "y_tokenizer = Tokenizer(char_level =False)\n",
        "y_tokenizer.fit_on_texts(list(y_train))\n",
        "y_train_sequences = y_tokenizer.texts_to_sequences(y_train)\n",
        "y_test_sequences = y_tokenizer.texts_to_sequences(y_test)\n",
        "y_train_padded = pad_sequences(y_train_sequences , maxlen = maxlen_summary , padding ='post')\n",
        "y_test_padded = pad_sequences(y_test_sequences , maxlen = maxlen_summary , padding ='post')\n",
        "  "
      ],
      "execution_count": 142,
      "outputs": []
    },
    {
      "cell_type": "code",
      "metadata": {
        "colab": {
          "base_uri": "https://localhost:8080/"
        },
        "id": "GUaCIxceTzGV",
        "outputId": "22a439b9-3297-4607-cd7f-c9892e103eb0"
      },
      "source": [
        "x_vocab_size = len(x_tokenizer.word_index) +1\n",
        "y_vocab_size = len(y_tokenizer.word_index)+1\n",
        "print(\"x vocabulary size : \" ,x_vocab_size )\n",
        "print(\"x vocabulary size : \" ,y_vocab_size )"
      ],
      "execution_count": 143,
      "outputs": [
        {
          "output_type": "stream",
          "text": [
            "x vocabulary size :  27451\n",
            "x vocabulary size :  5914\n"
          ],
          "name": "stdout"
        }
      ]
    },
    {
      "cell_type": "code",
      "metadata": {
        "colab": {
          "base_uri": "https://localhost:8080/"
        },
        "id": "ke5oa1O9T1Pe",
        "outputId": "e7f616fc-91fd-4561-abe3-62ab2d5cf634"
      },
      "source": [
        "# Training Model Setup\n",
        "latent_dim =  400\n",
        "\n",
        "#Encoder\n",
        "encoder_inputs = Input(shape= (maxlen_text,))\n",
        "embedding = Embedding(x_vocab_size , latent_dim , trainable = True)(encoder_inputs)\n",
        "\n",
        "\n",
        "# LSTM layer-1\n",
        "en_lstm1 = LSTM(latent_dim , return_sequences=True, return_state=True, dropout = 0.5)\n",
        "en_out1 , h1 , c1 = en_lstm1(embedding)\n",
        "\n",
        "#LSTM layer-2\n",
        "en_lstm2 = LSTM(latent_dim , return_sequences=True, return_state=True, dropout = 0.5)\n",
        "en_out2 , h2 , c2 = en_lstm2(en_out1)\n",
        "\n",
        "#LSTM layer-3\n",
        "en_lstm3 = LSTM(latent_dim , return_sequences=True, return_state=True, dropout = 0.5)\n",
        "en_out3 , h3 , c3 = en_lstm3(en_out2)\n",
        "\n",
        "#Decoder\n",
        "decoder_inputs = Input(shape= (None,))\n",
        "de_embedding_layer = Embedding(y_vocab_size , latent_dim , trainable = True)\n",
        "de_embedding = de_embedding_layer(decoder_inputs)\n",
        "\n",
        "# LSTM layer-1\n",
        "de_lstm1 = LSTM(latent_dim , return_sequences=True, return_state=True)\n",
        "de_out1 , de_h1 , de_c1 = de_lstm1(de_embedding , initial_state = [h3,c3])\n",
        "\n",
        "# Attention Layer \n",
        "attn_layer = AttentionLayer(name='attention_layer') \n",
        "attn_out , attn_states = attn_layer([ en_out3,de_out1])\n",
        "\n",
        "# Concatenate attention input and decoder LSTM output\n",
        "concat = Concatenate(axis=-1  , name = \"Concatenation_layer\")([de_out1 ,attn_out])\n",
        "\n",
        "# Dense Layer\n",
        "dense = TimeDistributed(Dense(y_vocab_size ,activation='softmax' ))\n",
        "de_out = dense(concat)\n",
        "\n",
        "# Define the model\n",
        "\n",
        "model = Model([encoder_inputs,decoder_inputs],de_out)\n",
        "model.summary()\n",
        "\n"
      ],
      "execution_count": 146,
      "outputs": [
        {
          "output_type": "stream",
          "text": [
            "Model: \"functional_13\"\n",
            "__________________________________________________________________________________________________\n",
            "Layer (type)                    Output Shape         Param #     Connected to                     \n",
            "==================================================================================================\n",
            "input_11 (InputLayer)           [(None, 32)]         0                                            \n",
            "__________________________________________________________________________________________________\n",
            "embedding_4 (Embedding)         (None, 32, 400)      10980400    input_11[0][0]                   \n",
            "__________________________________________________________________________________________________\n",
            "lstm_8 (LSTM)                   [(None, 32, 400), (N 1281600     embedding_4[0][0]                \n",
            "__________________________________________________________________________________________________\n",
            "input_12 (InputLayer)           [(None, None)]       0                                            \n",
            "__________________________________________________________________________________________________\n",
            "lstm_9 (LSTM)                   [(None, 32, 400), (N 1281600     lstm_8[0][0]                     \n",
            "__________________________________________________________________________________________________\n",
            "embedding_5 (Embedding)         (None, None, 400)    2365600     input_12[0][0]                   \n",
            "__________________________________________________________________________________________________\n",
            "lstm_10 (LSTM)                  [(None, 32, 400), (N 1281600     lstm_9[0][0]                     \n",
            "__________________________________________________________________________________________________\n",
            "lstm_11 (LSTM)                  [(None, None, 400),  1281600     embedding_5[0][0]                \n",
            "                                                                 lstm_10[0][1]                    \n",
            "                                                                 lstm_10[0][2]                    \n",
            "__________________________________________________________________________________________________\n",
            "attention_layer (AttentionLayer ((None, None, 400),  320400      lstm_10[0][0]                    \n",
            "                                                                 lstm_11[0][0]                    \n",
            "__________________________________________________________________________________________________\n",
            "Concatenation_layer (Concatenat (None, None, 800)    0           lstm_11[0][0]                    \n",
            "                                                                 attention_layer[0][0]            \n",
            "__________________________________________________________________________________________________\n",
            "time_distributed_2 (TimeDistrib (None, None, 5914)   4737114     Concatenation_layer[0][0]        \n",
            "==================================================================================================\n",
            "Total params: 23,529,914\n",
            "Trainable params: 23,529,914\n",
            "Non-trainable params: 0\n",
            "__________________________________________________________________________________________________\n"
          ],
          "name": "stdout"
        }
      ]
    },
    {
      "cell_type": "code",
      "metadata": {
        "id": "g_jMtl7p27zE"
      },
      "source": [
        "model.compile(optimizer='rmsprop', loss= 'sparse_categorical_crossentropy')"
      ],
      "execution_count": 147,
      "outputs": []
    },
    {
      "cell_type": "code",
      "metadata": {
        "id": "0QaFcg1ZGkf1"
      },
      "source": [
        "es = EarlyStopping(monitor= 'val_loss' , patience= 2 , mode= 'min' , verbose=1 )"
      ],
      "execution_count": 148,
      "outputs": []
    },
    {
      "cell_type": "code",
      "metadata": {
        "colab": {
          "base_uri": "https://localhost:8080/"
        },
        "id": "j-9Vw2tYGu3T",
        "outputId": "c34cc9c3-0abe-4279-8221-d48696372325"
      },
      "source": [
        "history=model.fit([x_train_padded,y_train_padded[:,:-1]], y_train_padded.reshape(y_train_padded.shape[0],y_train_padded.shape[1], 1)[:,1:] ,epochs=50,callbacks=[es],batch_size=128, validation_data=([x_test_padded,y_test_padded[:,:-1]], y_test_padded.reshape(y_test_padded.shape[0],y_test_padded.shape[1], 1)[:,1:]))"
      ],
      "execution_count": 149,
      "outputs": [
        {
          "output_type": "stream",
          "text": [
            "Epoch 1/50\n",
            "121/121 [==============================] - 15s 124ms/step - loss: 4.3692 - val_loss: 3.6876\n",
            "Epoch 2/50\n",
            "121/121 [==============================] - 14s 115ms/step - loss: 3.9020 - val_loss: 3.5478\n",
            "Epoch 3/50\n",
            "121/121 [==============================] - 14s 116ms/step - loss: 3.7160 - val_loss: 3.4412\n",
            "Epoch 4/50\n",
            "121/121 [==============================] - 14s 115ms/step - loss: 3.5685 - val_loss: 3.4002\n",
            "Epoch 5/50\n",
            "121/121 [==============================] - 14s 114ms/step - loss: 3.4504 - val_loss: 3.3353\n",
            "Epoch 6/50\n",
            "121/121 [==============================] - 14s 115ms/step - loss: 3.3482 - val_loss: 3.3411\n",
            "Epoch 7/50\n",
            "121/121 [==============================] - 14s 114ms/step - loss: 3.2498 - val_loss: 3.3283\n",
            "Epoch 8/50\n",
            "121/121 [==============================] - 14s 116ms/step - loss: 3.1614 - val_loss: 3.3551\n",
            "Epoch 9/50\n",
            "121/121 [==============================] - 14s 114ms/step - loss: 3.0687 - val_loss: 3.3770\n",
            "Epoch 00009: early stopping\n"
          ],
          "name": "stdout"
        }
      ]
    },
    {
      "cell_type": "code",
      "metadata": {
        "colab": {
          "base_uri": "https://localhost:8080/",
          "height": 265
        },
        "id": "FVt4Ayiyxy9B",
        "outputId": "7923f4f1-74a0-48d4-91cc-0da75acca52d"
      },
      "source": [
        "#Plotting the loss of training and validation data\n",
        "pyplot.plot(history.history['loss'] , label = 'train')\n",
        "pyplot.plot(history.history['val_loss'] , label = 'validation')\n",
        "pyplot.legend()\n",
        "pyplot.show()"
      ],
      "execution_count": 150,
      "outputs": [
        {
          "output_type": "display_data",
          "data": {
            "image/png": "[encoded data removed]",
            "text/plain": [
              "<Figure size 432x288 with 1 Axes>"
            ]
          },
          "metadata": {
            "tags": [],
            "needs_background": "light"
          }
        }
      ]
    },
    {
      "cell_type": "code",
      "metadata": {
        "id": "A1oZJuuoiqT9"
      },
      "source": [
        "reverse_source_word_index =  x_tokenizer.index_word #gets the word from the particular index\n",
        "reverse_target_word_index =  y_tokenizer.index_word\n",
        "target_word_index = y_tokenizer.word_index #gets the index of a particular word"
      ],
      "execution_count": 151,
      "outputs": []
    },
    {
      "cell_type": "code",
      "metadata": {
        "id": "P2K9bB9Giqmk"
      },
      "source": [
        "# Inference Model\n",
        "# Encoder Inference\n",
        "encoder_model = Model(encoder_inputs, outputs = [en_out3 , h3 , c3])\n",
        "\n",
        "# Decoder Inference\n",
        "#The following tensors will holdthe sates ofthe prevoius time step\n",
        "decoder_state_input_h = Input(shape=(latent_dim,))\n",
        "decoder_state_input_c = Input(shape=(latent_dim,))\n",
        "decoder_hidden_state_input = Input(shape = (maxlen_text , latent_dim))\n",
        "st = [decoder_state_input_h , decoder_state_input_c]\n",
        "\n",
        "# Get the encodings for decoder sequence \n",
        "de_emb_inf = de_embedding_layer(decoder_inputs)\n",
        "\n",
        "# To predict the next in the sequence , set the initial states to the states from the previous time step\n",
        "de_out_2 , de_h2 , de_c2 = de_lstm1(de_emb_inf , initial_state=st)\n",
        "\n",
        "#Attention Inference\n",
        "attn_out_inf , attn_states_inf  = attn_layer([decoder_hidden_state_input,de_out_2])\n",
        "\n",
        "# Concatenate\n",
        "de_inf_concat = Concatenate(axis = -1 , name=\"concate\")([de_out_2 ,attn_out_inf])\n",
        "\n",
        "# Dense - softmax layer \n",
        "de_out_2 = dense(de_inf_concat)\n",
        "\n",
        "#Final Decoder Model\n",
        "decoder_model = Model (\n",
        "    [decoder_inputs] + [decoder_hidden_state_input, decoder_state_input_h ,decoder_state_input_c] , [de_out_2] +[de_h2 , de_c2]\n",
        ")\n"
      ],
      "execution_count": 153,
      "outputs": []
    },
    {
      "cell_type": "code",
      "metadata": {
        "id": "-jQn0YywD3I9"
      },
      "source": [
        "def decode_sequence(input_seq):\n",
        "\n",
        "  # Encode  the input as state vectors \n",
        "  eout, e_h , e_c  = encoder_model.predict(input_seq)\n",
        "\n",
        "  #Generate the target sequencw of length 1 \n",
        "  target_seq = np.zeros((1,1))\n",
        "  # Populate the first charachter of the target sequence with the start character\n",
        "  target_seq[0 ,0] = target_word_index[\"start\"]\n",
        "\n",
        "  stop_condition = False\n",
        "\n",
        "  decode_sentence = ''\n",
        "  while not stop_condition:\n",
        "\n",
        "    output_tokens , h, c = decoder_model.predict([target_seq] + [eout, e_h , e_c])\n",
        "    # Sample a token\n",
        "    sample_token_index =  np.argmax(output_tokens[0,-1,:])\n",
        "    sampled_word = reverse_target_word_index[sample_token_index]\n",
        "    if(sampled_word!='stop'):\n",
        "            decode_sentence += ' '+sampled_word\n",
        "\n",
        "\n",
        "    #Exit Condition\n",
        "    if (sampled_word == 'stop' or len(decode_sentence.split()) >= (maxlen_summary -1)):\n",
        "      stop_condition=True\n",
        "\n",
        "    # Update the target sequence (of length 1)\n",
        "    target_seq = np.zeros((1,1))\n",
        "    target_seq[0 ,0] = sample_token_index\n",
        "\n",
        "    #Update internal states \n",
        "    e_h , e_c = [h ,c]\n",
        "\n",
        "  return decode_sentence   \n",
        "\n"
      ],
      "execution_count": 154,
      "outputs": []
    },
    {
      "cell_type": "code",
      "metadata": {
        "id": "WaiaiNCP0Umt"
      },
      "source": [
        "def print_summary(input_seq):\n",
        "  st =''\n",
        "  \n",
        "  for i in input_seq.split(): \n",
        "      if i != 'start' and i!= 'stop':\n",
        "        st += \" \"+ i\n",
        "\n",
        "  \n",
        "  return st    \n"
      ],
      "execution_count": 155,
      "outputs": []
    },
    {
      "cell_type": "code",
      "metadata": {
        "colab": {
          "base_uri": "https://localhost:8080/"
        },
        "id": "pmw4mkfFiqw9",
        "outputId": "e8a0506e-442f-4b1a-e827-86a5cbf4a8e7"
      },
      "source": [
        "for i in range(0,10):\n",
        "  print(\"Original Text:\",x_test[i])\n",
        "  print(\"Original summary:\", print_summary(y_test[i]))\n",
        "  print(\"Predicted summary:\",decode_sequence(x_test_padded[i].reshape(1,maxlen_text)))\n",
        "  print(\"\\n\")"
      ],
      "execution_count": 156,
      "outputs": [
        {
          "output_type": "stream",
          "text": [
            "Original Text: peach raspberry instant oatmeal excellent pleasantly overwhelmingly sweet wonderful grains textures peach raspberry bits taste natural artificial hit year old son collegeage niece took cups school highly recommended fast nutritious breakfast\n",
            "Original summary:  delicious instant oatmeal\n",
            "Predicted summary:  delicious\n",
            "\n",
            "\n",
            "Original Text: love tea tried brands earl grey including british imports boutique tea shops special blends variations traditional bergamotblack tea blend flavor balanced real bergamot taste typical weak flavor shelf blends real deal compared best traditional blend offer\n",
            "Original summary:  bar best\n",
            "Predicted summary:  delicious\n",
            "\n",
            "\n",
            "Original Text: product contains adult requirement iron tablespoon safe gentle digestive ordered sent yearold mother problems diverticulitis took tablespoons day week tapered felt stronger days\n",
            "Original summary:  blackstrap molasses\n",
            "Predicted summary:  baby loves\n",
            "\n",
            "\n",
            "Original Text: product excellent complaint shipment product lost dozen items come open transit created sticky mess clean second time occurred type product problem quality product packaging require adjustment\n",
            "Original summary:  sticky situation\n",
            "Predicted summary:  works\n",
            "\n",
            "\n",
            "Original Text: ordeed product tea good shipment came expected love taste tea stong\n",
            "Original summary:  arrived quickly\n",
            "Predicted summary:  delicious\n",
            "\n",
            "\n",
            "Original Text: best brand tried weak flavor htis truly recommend moms small children need hot chocolate playing snow grab marshmellows enjoy grammie smith grandkids\n",
            "Original summary:  dark chocolate cocoa\n",
            "Predicted summary:  best hot cocoa\n",
            "\n",
            "\n",
            "Original Text: glutino crackers taste better gluten free crackers tried nice choices available need alternatives\n",
            "Original summary:  glutino crackers\n",
            "Predicted summary:  great product\n",
            "\n",
            "\n",
            "Original Text: love hot sauce dexter holland band offspring great hot sauce def suggest getting bottle\n",
            "Original summary:  love gringo bandito\n",
            "Predicted summary:  best hot chocolate\n",
            "\n",
            "\n",
            "Original Text: tried frooties mberry effect lasted hour purchased version excellent reviews slightly higher price version lasted minutes tried tablets different packages different batches sure faulty batch results test suggest version product tablet versions effective suggest actual berries\n",
            "Original summary:  effective competitor\n",
            "Predicted summary: \n",
            "\n",
            "\n",
            "Original Text: like strong coffee husband doesnt use uses like taste\n",
            "Original summary:  good coffee\n",
            "Predicted summary:  great coffee\n",
            "\n",
            "\n"
          ],
          "name": "stdout"
        }
      ]
    },
    {
      "cell_type": "markdown",
      "metadata": {
        "id": "rD8lPaxFHcgW"
      },
      "source": [
        ""
      ]
    }
  ]
}